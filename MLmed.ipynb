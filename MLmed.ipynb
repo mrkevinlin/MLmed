{
  "nbformat": 4,
  "nbformat_minor": 0,
  "metadata": {
    "colab": {
      "name": "MLmed.ipynb",
      "version": "0.3.2",
      "provenance": [],
      "collapsed_sections": [],
      "include_colab_link": true
    },
    "kernelspec": {
      "name": "python3",
      "display_name": "Python 3"
    }
  },
  "cells": [
    {
      "cell_type": "markdown",
      "metadata": {
        "id": "view-in-github",
        "colab_type": "text"
      },
      "source": [
        "<a href=\"https://colab.research.google.com/github/mrkevinlin/MLmed/blob/master/MLmed.ipynb\" target=\"_parent\"><img src=\"https://colab.research.google.com/assets/colab-badge.svg\" alt=\"Open In Colab\"/></a>"
      ]
    },
    {
      "metadata": {
        "id": "Npz1MpjiJHfR",
        "colab_type": "text"
      },
      "cell_type": "markdown",
      "source": [
        "# **INITIALIZE EVERYTHING**"
      ]
    },
    {
      "metadata": {
        "id": "Ajb6OoyEoOsp",
        "colab_type": "code",
        "colab": {}
      },
      "cell_type": "code",
      "source": [
        "!pip install --upgrade -q gspread"
      ],
      "execution_count": 0,
      "outputs": []
    },
    {
      "metadata": {
        "id": "havMoLwBoU8X",
        "colab_type": "code",
        "colab": {}
      },
      "cell_type": "code",
      "source": [
        "from google.colab import auth\n",
        "auth.authenticate_user()\n",
        "\n",
        "import gspread\n",
        "from oauth2client.client import GoogleCredentials\n",
        "\n",
        "gc = gspread.authorize(GoogleCredentials.get_application_default())"
      ],
      "execution_count": 0,
      "outputs": []
    },
    {
      "metadata": {
        "id": "UB0Ly0oNwZJg",
        "colab_type": "code",
        "colab": {}
      },
      "cell_type": "code",
      "source": [
        "from __future__ import print_function\n",
        "\n",
        "import math\n",
        "from google.colab import files\n",
        "from IPython import display\n",
        "from matplotlib import cm\n",
        "from matplotlib import gridspec\n",
        "import matplotlib.pyplot as plt\n",
        "import numpy as np\n",
        "import pandas as pd\n",
        "import sklearn.metrics as metrics\n",
        "import tensorflow as tf\n",
        "from tensorflow.keras import layers\n",
        "from tensorflow.python.data import Dataset\n",
        "\n",
        "tf.logging.set_verbosity(tf.logging.ERROR)\n",
        "pd.options.display.max_rows = 15\n",
        "pd.options.display.float_format = '{:.1f}'.format"
      ],
      "execution_count": 0,
      "outputs": []
    },
    {
      "metadata": {
        "id": "oV1GAFHjJO3c",
        "colab_type": "text"
      },
      "cell_type": "markdown",
      "source": [
        "# Generate a cleaned up DataFrame of patient data"
      ]
    },
    {
      "metadata": {
        "id": "AzChkvboDmY6",
        "colab_type": "code",
        "colab": {
          "base_uri": "https://localhost:8080/",
          "height": 204
        },
        "outputId": "e93ae6aa-7077-4f26-b1c7-2b8b5dff1784"
      },
      "cell_type": "code",
      "source": [
        "# Open Google Sheet of patient data and get column titles\n",
        "patient_dataframe = gc.open('patient_data.csv').sheet1\n",
        "column_names = patient_dataframe.row_values(1)\n",
        "\n",
        "# Process Google Sheet into a pandas dataframe of all numeric values\n",
        "patient_dataframe = pd.DataFrame.from_records(\n",
        "    patient_dataframe.get_all_values(),\n",
        "    columns=column_names)\n",
        "patient_dataframe = patient_dataframe.iloc[1:]\n",
        "patient_dataframe = patient_dataframe.apply(pd.to_numeric, errors='coerce')\n",
        "\n",
        "\"\"\"\n",
        "Attempt to clean up dataframe with usable features\n",
        "\"\"\"\n",
        "# Print the number of valid results in each column\n",
        "def count_column_results(df):\n",
        "  for col in df.columns:\n",
        "    length = (df.dropna(subset=[col]))[col].count()\n",
        "    print(col + \": %d\" %length)\n",
        "    \n",
        "# Remove all rows with any empty cells (14 results left)\n",
        "def clean_up_all(df):\n",
        "  return df.replace('', np.nan).dropna()\n",
        "\n",
        "# Calculate missing BMI values from height and weight\n",
        "def fill_in_bmi(df):\n",
        "  df['entry_bmi'] = df['entry_bmi'].fillna(703 * df['entry_weight']/(df['entry_height'] ** 2))\n",
        "  return df\n",
        "\n",
        "# Remove flagrant outliers by clipping\n",
        "def remove_outliers(df, feature, maximum):\n",
        "  return df.clip(lower=0, upper=maximum, axis=feature)\n",
        "\n",
        "# Remove all rows with values missing in the specified columns\n",
        "def clean_up_by_missing_value_columns(df, column):\n",
        "  return df.dropna(subset=column)\n",
        "\n",
        "# Remove any other columns that do not have at least n% the amount of data points as target label\n",
        "def clean_up_by_target(df, target, n):\n",
        "  for col in df.columns:\n",
        "    if (df[col].count() < (df[target].count()*n).iloc[0]):\n",
        "      df.drop(col, axis=1, inplace=True)\n",
        "  return df\n",
        "\n",
        "def make_up_values(df):\n",
        "  return df.replace(np.nan,0)\n",
        "\n",
        "# Specify what feature you want to clean up columns by\n",
        "target_feature = ['entry_6mwt']\n",
        "\n",
        "edited_patient_dataframe = patient_dataframe.copy()\n",
        "edited_patient_dataframe = fill_in_bmi(edited_patient_dataframe)\n",
        "edited_patient_dataframe = remove_outliers(edited_patient_dataframe, 'entry_6mwt', 2000)\n",
        "edited_patient_dataframe = clean_up_by_missing_value_columns(edited_patient_dataframe, target_feature)\n",
        "edited_patient_dataframe = clean_up_by_target(edited_patient_dataframe, target_feature, 0.9)\n",
        "\n",
        "# SUPER UGLY NOT LEGIT PATCHWORK PLACEHOLDER VALUES FOR PROOF OF CONCEPT\n",
        "edited_patient_dataframe = make_up_values(edited_patient_dataframe)\n",
        "\n",
        "# Check how many results and columns left in dataframe\n",
        "count_column_results(edited_patient_dataframe)\n",
        "\n",
        "# View stats on cleaned up dataframe\n",
        "#edited_patient_dataframe.describe()"
      ],
      "execution_count": 153,
      "outputs": [
        {
          "output_type": "stream",
          "text": [
            "year: 161\n",
            "entry_knowledge: 161\n",
            "entry_hads_a: 161\n",
            "entry_hads_d: 161\n",
            "entry_height: 161\n",
            "entry_weight: 161\n",
            "entry_waist: 161\n",
            "entry_bf: 161\n",
            "entry_bmi: 161\n",
            "entry_6mwt: 161\n",
            "entry_met: 161\n"
          ],
          "name": "stdout"
        }
      ]
    },
    {
      "metadata": {
        "id": "bvh1dDfmJapf",
        "colab_type": "text"
      },
      "cell_type": "markdown",
      "source": [
        "# Randomize and divide the patient DataFrame into training, validation, and test data"
      ]
    },
    {
      "metadata": {
        "id": "tjIR8EdXG9wW",
        "colab_type": "code",
        "colab": {
          "base_uri": "https://localhost:8080/",
          "height": 54
        },
        "outputId": "792897bb-2ae7-40d1-d68d-0c68154e2a65"
      },
      "cell_type": "code",
      "source": [
        "# Randomize and divide the data set into training, validation, and test sets\n",
        "def divide_data(df, train_ratio, validation_ratio, test_ratio):\n",
        "  train_count, validation_count, test_count = int(len(df)*train_ratio), int(len(df)*validation_ratio), int(len(df)*test_ratio)\n",
        "  df = df.reindex(np.random.permutation(df.index))\n",
        "  training_dataframe = df[:train_count]\n",
        "  validation_dataframe = df[train_count:train_count+validation_count]\n",
        "  test_dataframe = df[train_count+validation_count:]\n",
        "  return training_dataframe, validation_dataframe, test_dataframe\n",
        "\n",
        "# Create dataframe with features for the model, including any synthetic features\n",
        "def preprocess_features(df, features):\n",
        "  processed_features = df.copy()\n",
        "  processed_features = processed_features[features]\n",
        "  # No synthetic features yet\n",
        "  return processed_features\n",
        "\n",
        "# Create dataframe with the target feature\n",
        "def preprocess_targets(df, targets):\n",
        "  output_targets = pd.DataFrame()\n",
        "  output_targets[targets] = df[targets]\n",
        "  return output_targets\n",
        "\n",
        "\"\"\" \n",
        "Determine correlations between features and target to find best features to use\n",
        "\n",
        "correlation_dataframe = edited_patient_dataframe.copy()\n",
        "correlation_dataframe[\"target\"] = edited_patient_dataframe['entry_6mwt']\n",
        "correlation_dataframe.corr()\n",
        "\"\"\"\n",
        "\n",
        "training_data, validation_data, test_data = divide_data(edited_patient_dataframe, .7, .15, .15)\n",
        "selected_features = ['entry_knowledge', 'entry_hads_a', 'entry_hads_d', 'entry_bmi', 'entry_met']\n",
        "\n",
        "training_examples = preprocess_features(training_data, selected_features)\n",
        "training_targets = preprocess_targets(training_data, target_feature)\n",
        "\n",
        "validation_examples = preprocess_features(validation_data, selected_features)\n",
        "validation_targets = preprocess_targets(validation_data, target_feature)\n",
        "\n",
        "test_examples = preprocess_features(test_data, selected_features)\n",
        "test_targets = preprocess_targets(test_data, target_feature)\n",
        "\n",
        "\"\"\"\n",
        "Do things look ok?\n",
        "\n",
        "print(\"Training examples summary:\")\n",
        "display.display(training_examples.describe())\n",
        "print(\"Validation examples summary:\")\n",
        "display.display(validation_examples.describe())\n",
        "print(\"Test examples summary:\")\n",
        "display.display(test_examples.describe())\n",
        "\n",
        "print(\"Training targets summary:\")\n",
        "display.display(training_targets.describe())\n",
        "print(\"Validation targets summary:\")\n",
        "display.display(validation_targets.describe())\n",
        "print(\"Test targets summary:\")\n",
        "display.display(test_targets.describe())\n",
        "\"\"\""
      ],
      "execution_count": 156,
      "outputs": [
        {
          "output_type": "execute_result",
          "data": {
            "text/plain": [
              "'\\nDo things look ok?\\n\\nprint(\"Training examples summary:\")\\ndisplay.display(training_examples.describe())\\nprint(\"Validation examples summary:\")\\ndisplay.display(validation_examples.describe())\\nprint(\"Test examples summary:\")\\ndisplay.display(test_examples.describe())\\n\\nprint(\"Training targets summary:\")\\ndisplay.display(training_targets.describe())\\nprint(\"Validation targets summary:\")\\ndisplay.display(validation_targets.describe())\\nprint(\"Test targets summary:\")\\ndisplay.display(test_targets.describe())\\n\\n'"
            ]
          },
          "metadata": {
            "tags": []
          },
          "execution_count": 156
        }
      ]
    },
    {
      "metadata": {
        "id": "hJQ4_twuJ2GD",
        "colab_type": "text"
      },
      "cell_type": "markdown",
      "source": [
        "**NOTE TO SELF: want to standardize values -3 to 3?**"
      ]
    },
    {
      "metadata": {
        "id": "5KKOPverI-pT",
        "colab_type": "text"
      },
      "cell_type": "markdown",
      "source": [
        "# **TIME TO TENSORFLOW**"
      ]
    },
    {
      "metadata": {
        "id": "R7wvPh1AI-Og",
        "colab_type": "code",
        "colab": {}
      },
      "cell_type": "code",
      "source": [
        "def construct_feature_columns(input_features):\n",
        "  \"\"\"Construct the TensorFlow Feature Columns.\n",
        "\n",
        "  Args:\n",
        "    input_features: The names of the numerical input features to use.\n",
        "  Returns:\n",
        "    A set of feature columns\n",
        "  \"\"\" \n",
        "  return set([tf.feature_column.numeric_column(my_feature)\n",
        "              for my_feature in input_features])\n",
        "\n",
        "def my_input_fn(features, targets, batch_size=1, shuffle=True, num_epochs=None):\n",
        "    \"\"\"Trains a neural net regression model.\n",
        "  \n",
        "    Args:\n",
        "      features: pandas DataFrame of features\n",
        "      targets: pandas DataFrame of targets\n",
        "      batch_size: Size of batches to be passed to the model\n",
        "      shuffle: True or False. Whether to shuffle the data.\n",
        "      num_epochs: Number of epochs for which data should be repeated. None = repeat indefinitely\n",
        "    Returns:\n",
        "      Tuple of (features, labels) for next data batch\n",
        "    \"\"\"\n",
        "    \n",
        "    # Convert pandas data into a dict of np arrays.\n",
        "    features = {key:np.array(value) for key,value in dict(features).items()}                                             \n",
        " \n",
        "    # Construct a dataset, and configure batching/repeating.\n",
        "    ds = Dataset.from_tensor_slices((features,targets)) # warning: 2GB limit\n",
        "    ds = ds.batch(batch_size).repeat(num_epochs)\n",
        "    \n",
        "    # Shuffle the data, if specified.\n",
        "    if shuffle:\n",
        "      ds = ds.shuffle(10000)\n",
        "    \n",
        "    # Return the next batch of data.\n",
        "    features, labels = ds.make_one_shot_iterator().get_next()\n",
        "    return features, labels\n",
        "  \n",
        "def train_nn_regression_model(\n",
        "    learning_rate,\n",
        "    steps,\n",
        "    batch_size,\n",
        "    hidden_units,\n",
        "    training_examples,\n",
        "    training_targets,\n",
        "    validation_examples,\n",
        "    validation_targets):\n",
        "  \"\"\"Trains a neural network regression model.\n",
        "  \n",
        "  In addition to training, this function also prints training progress information,\n",
        "  as well as a plot of the training and validation loss over time.\n",
        "  \n",
        "  Args:\n",
        "    learning_rate: A `float`, the learning rate.\n",
        "    steps: A non-zero `int`, the total number of training steps. A training step\n",
        "      consists of a forward and backward pass using a single batch.\n",
        "    batch_size: A non-zero `int`, the batch size.\n",
        "    hidden_units: A `list` of int values, specifying the number of neurons in each layer.\n",
        "    training_examples: A `DataFrame` containing one or more columns from\n",
        "      `california_housing_dataframe` to use as input features for training.\n",
        "    training_targets: A `DataFrame` containing exactly one column from\n",
        "      `california_housing_dataframe` to use as target for training.\n",
        "    validation_examples: A `DataFrame` containing one or more columns from\n",
        "      `california_housing_dataframe` to use as input features for validation.\n",
        "    validation_targets: A `DataFrame` containing exactly one column from\n",
        "      `california_housing_dataframe` to use as target for validation.\n",
        "      \n",
        "  Returns:\n",
        "    A `DNNRegressor` object trained on the training data.\n",
        "  \"\"\"\n",
        "\n",
        "  periods = 10\n",
        "  steps_per_period = steps / periods\n",
        "  \n",
        "  # Create a DNNRegressor object.\n",
        "  my_optimizer = tf.train.GradientDescentOptimizer(learning_rate=learning_rate)\n",
        "  my_optimizer = tf.contrib.estimator.clip_gradients_by_norm(my_optimizer, 5.0)\n",
        "  dnn_regressor = tf.estimator.DNNRegressor(\n",
        "      feature_columns=construct_feature_columns(training_examples),\n",
        "      hidden_units=hidden_units,\n",
        "      optimizer=my_optimizer,\n",
        "  )\n",
        "  \n",
        "  # Create input functions.\n",
        "  training_input_fn = lambda: my_input_fn(training_examples, \n",
        "                                          training_targets[\"entry_6mwt\"], \n",
        "                                          batch_size=batch_size)\n",
        "  predict_training_input_fn = lambda: my_input_fn(training_examples, \n",
        "                                                  training_targets[\"entry_6mwt\"], \n",
        "                                                  num_epochs=1, \n",
        "                                                  shuffle=False)\n",
        "  predict_validation_input_fn = lambda: my_input_fn(validation_examples, \n",
        "                                                    validation_targets[\"entry_6mwt\"], \n",
        "                                                    num_epochs=1, \n",
        "                                                    shuffle=False)\n",
        "\n",
        "  # Train the model, but do so inside a loop so that we can periodically assess\n",
        "  # loss metrics.\n",
        "  print(\"Training model...\")\n",
        "  print(\"RMSE (on training data):\")\n",
        "  training_rmse = []\n",
        "  validation_rmse = []\n",
        "  for period in range (0, periods):\n",
        "    # Train the model, starting from the prior state.\n",
        "    dnn_regressor.train(\n",
        "        input_fn=training_input_fn,\n",
        "        steps=steps_per_period\n",
        "    )\n",
        "    # Take a break and compute predictions.\n",
        "    training_predictions = dnn_regressor.predict(input_fn=predict_training_input_fn)\n",
        "    training_predictions = np.array([item['predictions'][0] for item in training_predictions])\n",
        "    \n",
        "    validation_predictions = dnn_regressor.predict(input_fn=predict_validation_input_fn)\n",
        "    validation_predictions = np.array([item['predictions'][0] for item in validation_predictions])\n",
        "    \n",
        "    # Compute training and validation loss.\n",
        "    training_root_mean_squared_error = math.sqrt(\n",
        "        metrics.mean_squared_error(training_predictions, training_targets))\n",
        "    validation_root_mean_squared_error = math.sqrt(\n",
        "        metrics.mean_squared_error(validation_predictions, validation_targets))\n",
        "    # Occasionally print the current loss.\n",
        "    print(\"  period %02d : %0.2f\" % (period, training_root_mean_squared_error))\n",
        "    # Add the loss metrics from this period to our list.\n",
        "    training_rmse.append(training_root_mean_squared_error)\n",
        "    validation_rmse.append(validation_root_mean_squared_error)\n",
        "  print(\"Model training finished.\")\n",
        "\n",
        "  # Output a graph of loss metrics over periods.\n",
        "  plt.ylabel(\"RMSE\")\n",
        "  plt.xlabel(\"Periods\")\n",
        "  plt.title(\"Root Mean Squared Error vs. Periods\")\n",
        "  plt.tight_layout()\n",
        "  plt.plot(training_rmse, label=\"training\")\n",
        "  plt.plot(validation_rmse, label=\"validation\")\n",
        "  plt.legend()\n",
        "\n",
        "  print(\"Final RMSE (on training data):   %0.2f\" % training_root_mean_squared_error)\n",
        "  print(\"Final RMSE (on validation data): %0.2f\" % validation_root_mean_squared_error)\n",
        "\n",
        "  return dnn_regressor"
      ],
      "execution_count": 0,
      "outputs": []
    },
    {
      "metadata": {
        "id": "DQckYebRKsUb",
        "colab_type": "code",
        "colab": {
          "base_uri": "https://localhost:8080/",
          "height": 656
        },
        "outputId": "26f9a92a-4a4d-4db5-d834-96242ce5c5e1"
      },
      "cell_type": "code",
      "source": [
        "dnn_regressor = train_nn_regression_model(\n",
        "    learning_rate=0.001,\n",
        "    steps=2500,\n",
        "    batch_size=10,\n",
        "    hidden_units=[10, 10, 10],\n",
        "    training_examples=training_examples,\n",
        "    training_targets=training_targets,\n",
        "    validation_examples=validation_examples,\n",
        "    validation_targets=validation_targets)"
      ],
      "execution_count": 160,
      "outputs": [
        {
          "output_type": "stream",
          "text": [
            "Training model...\n",
            "RMSE (on training data):\n",
            "  period 00 : 924.48\n",
            "  period 01 : 480.13\n",
            "  period 02 : 450.44\n",
            "  period 03 : 419.78\n",
            "  period 04 : 397.41\n",
            "  period 05 : 385.92\n",
            "  period 06 : 379.64\n",
            "  period 07 : 375.42\n",
            "  period 08 : 371.53\n",
            "  period 09 : 368.93\n",
            "Model training finished.\n",
            "Final RMSE (on training data):   368.93\n",
            "Final RMSE (on validation data): 409.71\n"
          ],
          "name": "stdout"
        },
        {
          "output_type": "display_data",
          "data": {
            "image/png": "[encoded data removed]",
            "text/plain": [
              "<Figure size 576x396 with 1 Axes>"
            ]
          },
          "metadata": {
            "tags": []
          }
        }
      ]
    }
  ]
}