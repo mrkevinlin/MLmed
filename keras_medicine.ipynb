{
  "nbformat": 4,
  "nbformat_minor": 0,
  "metadata": {
    "colab": {
      "name": "keras_medicine.ipynb",
      "version": "0.3.2",
      "provenance": [],
      "collapsed_sections": [
        "PRZkKs_FB66i",
        "SEdPqiD-krvg"
      ],
      "include_colab_link": true
    },
    "kernelspec": {
      "name": "python3",
      "display_name": "Python 3"
    }
  },
  "cells": [
    {
      "cell_type": "markdown",
      "metadata": {
        "id": "view-in-github",
        "colab_type": "text"
      },
      "source": [
        "<a href=\"https://colab.research.google.com/github/mrkevinlin/MLmed/blob/master/keras_medicine.ipynb\" target=\"_parent\"><img src=\"https://colab.research.google.com/assets/colab-badge.svg\" alt=\"Open In Colab\"/></a>"
      ]
    },
    {
      "metadata": {
        "id": "vs7O6ODuZKs8",
        "colab_type": "text"
      },
      "cell_type": "markdown",
      "source": [
        "Notes:\n",
        "#**- Determine imputation to use**"
      ]
    },
    {
      "metadata": {
        "id": "Npz1MpjiJHfR",
        "colab_type": "text"
      },
      "cell_type": "markdown",
      "source": [
        "# **Initialize everything**"
      ]
    },
    {
      "metadata": {
        "id": "Ajb6OoyEoOsp",
        "colab_type": "code",
        "outputId": "79d21013-cc1c-4457-8d31-75181d1f26ba",
        "colab": {
          "base_uri": "https://localhost:8080/",
          "height": 34
        }
      },
      "cell_type": "code",
      "source": [
        "!pip install --upgrade -q gspread\n",
        "\n",
        "from __future__ import print_function\n",
        "\n",
        "import math\n",
        "from google.colab import files\n",
        "from IPython import display\n",
        "from matplotlib import cm\n",
        "from matplotlib import gridspec\n",
        "import matplotlib.pyplot as plt\n",
        "import numpy as np\n",
        "import pandas as pd\n",
        "import sklearn.metrics as metrics\n",
        "from sklearn.model_selection import GridSearchCV\n",
        "from sklearn.model_selection import cross_val_score\n",
        "from sklearn.model_selection import KFold\n",
        "import tensorflow as tf\n",
        "from tensorflow.keras import layers\n",
        "from tensorflow import keras \n",
        "from keras.wrappers.scikit_learn import KerasRegressor\n",
        "\n",
        "tf.logging.set_verbosity(tf.logging.ERROR)\n",
        "pd.options.display.max_rows = 15\n",
        "pd.options.display.max_columns = 40\n",
        "pd.options.display.float_format = '{:.3f}'.format"
      ],
      "execution_count": 1,
      "outputs": [
        {
          "output_type": "stream",
          "text": [
            "Using TensorFlow backend.\n"
          ],
          "name": "stderr"
        }
      ]
    },
    {
      "metadata": {
        "id": "havMoLwBoU8X",
        "colab_type": "code",
        "colab": {}
      },
      "cell_type": "code",
      "source": [
        "from google.colab import auth\n",
        "auth.authenticate_user()\n",
        "\n",
        "import gspread\n",
        "from oauth2client.client import GoogleCredentials\n",
        "gc = gspread.authorize(GoogleCredentials.get_application_default())"
      ],
      "execution_count": 0,
      "outputs": []
    },
    {
      "metadata": {
        "id": "oV1GAFHjJO3c",
        "colab_type": "text"
      },
      "cell_type": "markdown",
      "source": [
        "# Create a DataFrame of patient data"
      ]
    },
    {
      "metadata": {
        "id": "3fuIiFwBB3-G",
        "colab_type": "text"
      },
      "cell_type": "markdown",
      "source": [
        "**Import CSV to populate a DataFrame**"
      ]
    },
    {
      "metadata": {
        "id": "KkpYbCCzBvjV",
        "colab_type": "code",
        "colab": {}
      },
      "cell_type": "code",
      "source": [
        "# Open Google Sheet of patient data and get column titles\n",
        "patient_dataframe = gc.open('patient_data').sheet1\n",
        "column_names = patient_dataframe.row_values(1)\n",
        "\n",
        "# Process Google Sheet into a pandas dataframe of all numeric values\n",
        "patient_dataframe = pd.DataFrame.from_records(\n",
        "    patient_dataframe.get_all_values(),\n",
        "    columns=column_names)\n",
        "patient_dataframe = patient_dataframe.iloc[1:]\n",
        "patient_dataframe = patient_dataframe.apply(pd.to_numeric, errors='coerce')\n",
        "patient_dataframe = patient_dataframe.replace('', np.nan)\n",
        "patient_dataframe_original = patient_dataframe.copy()"
      ],
      "execution_count": 0,
      "outputs": []
    },
    {
      "metadata": {
        "id": "PRZkKs_FB66i",
        "colab_type": "text"
      },
      "cell_type": "markdown",
      "source": [
        "\n",
        "# **View some stats on the data**"
      ]
    },
    {
      "metadata": {
        "id": "VP1GM_Y5B_Aq",
        "colab_type": "code",
        "colab": {}
      },
      "cell_type": "code",
      "source": [
        "def view_stats(df):\n",
        "  plt.close('all')\n",
        "  display.display(df.describe())\n",
        "  print(\"\\nNumber missing in each column:\")\n",
        "  display.display(df.isna().sum())\n",
        "\n",
        "  plt.close('all')\n",
        "  for col in df.columns:\n",
        "    plt.figure()\n",
        "    plt.hist(df[col])\n",
        "    plt.xlabel(col)\n",
        "    plt.ylabel(\"Count\")\n",
        "\n",
        "view_stats(patient_dataframe)"
      ],
      "execution_count": 0,
      "outputs": []
    },
    {
      "metadata": {
        "id": "oFh4r7LGPUkQ",
        "colab_type": "text"
      },
      "cell_type": "markdown",
      "source": [
        "# **Split into training and test sets**"
      ]
    },
    {
      "metadata": {
        "id": "NFmmjo69PavB",
        "colab_type": "code",
        "colab": {}
      },
      "cell_type": "code",
      "source": [
        "# Close the matlib plots from view stats to reduce memory usage\n",
        "plt.close('all')\n",
        "# Reset the dataframe\n",
        "patient_dataframe = patient_dataframe_original.copy()\n",
        "\n",
        "# Set random number seed\n",
        "rand_state = 4\n",
        "\n",
        "# Randomize and divide the data set into training and test sets\n",
        "train_dataframe = patient_dataframe.sample(frac=0.8, random_state=rand_state)\n",
        "test_dataframe = patient_dataframe.drop(train_dataframe.index)\n",
        "\n",
        "#test_dataframe.describe()"
      ],
      "execution_count": 0,
      "outputs": []
    },
    {
      "metadata": {
        "id": "UiVC8iUcIIXN",
        "colab_type": "text"
      },
      "cell_type": "markdown",
      "source": [
        "# **Create methods for cleaning up data**"
      ]
    },
    {
      "metadata": {
        "id": "JtwnMn_HHnNm",
        "colab_type": "code",
        "outputId": "45a23f9d-e6f9-4872-cbf8-2a846129fdbe",
        "colab": {
          "base_uri": "https://localhost:8080/",
          "height": 470
        }
      },
      "cell_type": "code",
      "source": [
        "def process_data(df):\n",
        "  # Try alternate features and targets\n",
        "  trial = 2\n",
        "  \n",
        "  # Specify features and labels to work with\n",
        "  if trial==1: # Predict improvement in 6MWT distance after CR\n",
        "    target_label = 'delta_6mwt'\n",
        "    numeric_selected_features = ['entry_knowledge', 'entry_height', 'entry_weight', 'entry_waist', 'entry_BF', 'entry_BMI', 'entry_met']\n",
        "    optional_numeric_selected_features = ['entry_chol', 'entry_trig', 'entry_hdl', 'entry_ldl']\n",
        "    categorical_selected_features = ['normal_a', 'borderline_a', 'anxiety', 'normal_d', 'borderline_d', 'depression']\n",
        "    \n",
        "    df = create_synthetic_target(df, target_label)\n",
        "    \n",
        "  elif trial==2: # Predict initial exercise tolerance with entry MET\n",
        "    target_label = 'entry_met'\n",
        "    numeric_selected_features = ['entry_knowledge', 'entry_height', 'entry_weight', 'entry_waist', 'entry_BF', 'entry_BMI', 'entry_6mwt']\n",
        "    optional_numeric_selected_features = ['entry_chol', 'entry_trig', 'entry_hdl', 'entry_ldl']\n",
        "    categorical_selected_features = ['normal_a', 'borderline_a', 'anxiety', 'normal_d', 'borderline_d', 'depression']\n",
        "      \n",
        "  else:\n",
        "    return\n",
        "  \n",
        "  df = create_features(df)\n",
        "  df = clean_up_by_target(df, target_label)\n",
        "  df = remove_outliers(df, 'entry_trig', 1000)\n",
        "  df = remove_outliers(df, 'entry_6mwt', 2000)\n",
        "  df = median_impute_missing_values(df) # Temporary  \n",
        "  df[numeric_selected_features] = scale_features_z_score(df[numeric_selected_features].copy())\n",
        "  \n",
        "  # Split into used feature and label dataframes\n",
        "  feature_df = df[numeric_selected_features+categorical_selected_features]\n",
        "  target_df = df[target_label]\n",
        "  \n",
        "  return feature_df, target_df\n",
        "\n",
        "# Create synthetic features\n",
        "def create_features(df):\n",
        "  df = calculate_bmi(df)\n",
        "  df = create_hads_bins(df)\n",
        "  return df\n",
        "\n",
        "# Create target label of change in 6MWT results  \n",
        "def create_synthetic_target(df, target):\n",
        "  df[target] = (df['exit_6mwt'] - df['entry_6mwt'])\n",
        "  return df\n",
        "  \n",
        "# Create categorical bins of anxiety and depression scale\n",
        "def create_hads_bins(df):\n",
        "  hads_bins=[0,7,10,21]\n",
        "  anxiety_df = pd.get_dummies(pd.cut(df['entry_hads_a'], bins=hads_bins, labels=['normal_a', 'borderline_a', 'anxiety']))\n",
        "  depression_df = pd.get_dummies(pd.cut(df['entry_hads_d'], bins=hads_bins, labels=['normal_d', 'borderline_d', 'depression']))\n",
        "  return df.join(anxiety_df).join(depression_df) \n",
        "  \n",
        "# Recalculate and fill in BMI from height/weight\n",
        "def calculate_bmi(df):\n",
        "  df['calc_bmi'] = (702.95 * df['entry_weight']/(df['entry_height'] ** 2))\n",
        "  return df\n",
        "\n",
        "# Remove all rows with values missing in the specified columns\n",
        "def clean_up_by_target(df, column):\n",
        "  return df.dropna(subset=[column])\n",
        "\n",
        "# Remove flagrant outliers by clipping\n",
        "def remove_outliers(df, feature, maximum):\n",
        "  df[feature] = df[feature].clip(lower=0, upper=maximum)\n",
        "  return df\n",
        "\n",
        "# Replace missing values with the median of the group (temporary measure)\n",
        "def median_impute_missing_values(df):\n",
        "  for col in df.columns:\n",
        "    if df[col].isnull().values.any():\n",
        "      df[col] = df[col].fillna(df[col].median())\n",
        "  return df\n",
        "\n",
        "# Normalize the values of features\n",
        "def scale_features_z_score(df):\n",
        "  for col in df.columns:\n",
        "    df[col] = (df[col] - df[col].mean())/df[col].std()\n",
        "  return df\n",
        "  \n",
        "feature_dataframe, target_dataframe = process_data(train_dataframe)\n",
        "display.display(feature_dataframe.describe())\n",
        "display.display(target_dataframe.describe())"
      ],
      "execution_count": 5,
      "outputs": [
        {
          "output_type": "display_data",
          "data": {
            "text/html": [
              "<div>\n",
              "<style scoped>\n",
              "    .dataframe tbody tr th:only-of-type {\n",
              "        vertical-align: middle;\n",
              "    }\n",
              "\n",
              "    .dataframe tbody tr th {\n",
              "        vertical-align: top;\n",
              "    }\n",
              "\n",
              "    .dataframe thead th {\n",
              "        text-align: right;\n",
              "    }\n",
              "</style>\n",
              "<table border=\"1\" class=\"dataframe\">\n",
              "  <thead>\n",
              "    <tr style=\"text-align: right;\">\n",
              "      <th></th>\n",
              "      <th>entry_knowledge</th>\n",
              "      <th>entry_height</th>\n",
              "      <th>entry_weight</th>\n",
              "      <th>entry_waist</th>\n",
              "      <th>entry_BF</th>\n",
              "      <th>entry_BMI</th>\n",
              "      <th>entry_6mwt</th>\n",
              "      <th>normal_a</th>\n",
              "      <th>borderline_a</th>\n",
              "      <th>anxiety</th>\n",
              "      <th>normal_d</th>\n",
              "      <th>borderline_d</th>\n",
              "      <th>depression</th>\n",
              "    </tr>\n",
              "  </thead>\n",
              "  <tbody>\n",
              "    <tr>\n",
              "      <th>count</th>\n",
              "      <td>395.000</td>\n",
              "      <td>395.000</td>\n",
              "      <td>395.000</td>\n",
              "      <td>395.000</td>\n",
              "      <td>395.000</td>\n",
              "      <td>395.000</td>\n",
              "      <td>395.000</td>\n",
              "      <td>395.000</td>\n",
              "      <td>395.000</td>\n",
              "      <td>395.000</td>\n",
              "      <td>395.000</td>\n",
              "      <td>395.000</td>\n",
              "      <td>395.000</td>\n",
              "    </tr>\n",
              "    <tr>\n",
              "      <th>mean</th>\n",
              "      <td>-0.000</td>\n",
              "      <td>0.000</td>\n",
              "      <td>0.000</td>\n",
              "      <td>-0.000</td>\n",
              "      <td>-0.000</td>\n",
              "      <td>-0.000</td>\n",
              "      <td>-0.000</td>\n",
              "      <td>0.544</td>\n",
              "      <td>0.116</td>\n",
              "      <td>0.114</td>\n",
              "      <td>0.524</td>\n",
              "      <td>0.106</td>\n",
              "      <td>0.099</td>\n",
              "    </tr>\n",
              "    <tr>\n",
              "      <th>std</th>\n",
              "      <td>1.000</td>\n",
              "      <td>1.000</td>\n",
              "      <td>1.000</td>\n",
              "      <td>1.000</td>\n",
              "      <td>1.000</td>\n",
              "      <td>1.000</td>\n",
              "      <td>1.000</td>\n",
              "      <td>0.499</td>\n",
              "      <td>0.321</td>\n",
              "      <td>0.318</td>\n",
              "      <td>0.500</td>\n",
              "      <td>0.309</td>\n",
              "      <td>0.299</td>\n",
              "    </tr>\n",
              "    <tr>\n",
              "      <th>min</th>\n",
              "      <td>-3.421</td>\n",
              "      <td>-3.088</td>\n",
              "      <td>-2.097</td>\n",
              "      <td>-2.586</td>\n",
              "      <td>-2.515</td>\n",
              "      <td>-2.151</td>\n",
              "      <td>-3.060</td>\n",
              "      <td>0.000</td>\n",
              "      <td>0.000</td>\n",
              "      <td>0.000</td>\n",
              "      <td>0.000</td>\n",
              "      <td>0.000</td>\n",
              "      <td>0.000</td>\n",
              "    </tr>\n",
              "    <tr>\n",
              "      <th>25%</th>\n",
              "      <td>-0.709</td>\n",
              "      <td>-0.397</td>\n",
              "      <td>-0.701</td>\n",
              "      <td>-0.667</td>\n",
              "      <td>-0.754</td>\n",
              "      <td>-0.600</td>\n",
              "      <td>-0.427</td>\n",
              "      <td>0.000</td>\n",
              "      <td>0.000</td>\n",
              "      <td>0.000</td>\n",
              "      <td>0.000</td>\n",
              "      <td>0.000</td>\n",
              "      <td>0.000</td>\n",
              "    </tr>\n",
              "    <tr>\n",
              "      <th>50%</th>\n",
              "      <td>0.044</td>\n",
              "      <td>-0.022</td>\n",
              "      <td>-0.164</td>\n",
              "      <td>-0.084</td>\n",
              "      <td>-0.084</td>\n",
              "      <td>-0.154</td>\n",
              "      <td>0.065</td>\n",
              "      <td>1.000</td>\n",
              "      <td>0.000</td>\n",
              "      <td>0.000</td>\n",
              "      <td>1.000</td>\n",
              "      <td>0.000</td>\n",
              "      <td>0.000</td>\n",
              "    </tr>\n",
              "    <tr>\n",
              "      <th>75%</th>\n",
              "      <td>0.848</td>\n",
              "      <td>0.604</td>\n",
              "      <td>0.551</td>\n",
              "      <td>0.584</td>\n",
              "      <td>0.719</td>\n",
              "      <td>0.506</td>\n",
              "      <td>0.527</td>\n",
              "      <td>1.000</td>\n",
              "      <td>0.000</td>\n",
              "      <td>0.000</td>\n",
              "      <td>1.000</td>\n",
              "      <td>0.000</td>\n",
              "      <td>0.000</td>\n",
              "    </tr>\n",
              "    <tr>\n",
              "      <th>max</th>\n",
              "      <td>1.601</td>\n",
              "      <td>3.106</td>\n",
              "      <td>4.189</td>\n",
              "      <td>4.170</td>\n",
              "      <td>2.512</td>\n",
              "      <td>5.278</td>\n",
              "      <td>3.342</td>\n",
              "      <td>1.000</td>\n",
              "      <td>1.000</td>\n",
              "      <td>1.000</td>\n",
              "      <td>1.000</td>\n",
              "      <td>1.000</td>\n",
              "      <td>1.000</td>\n",
              "    </tr>\n",
              "  </tbody>\n",
              "</table>\n",
              "</div>"
            ],
            "text/plain": [
              "       entry_knowledge  entry_height  entry_weight  entry_waist  entry_BF  \\\n",
              "count          395.000       395.000       395.000      395.000   395.000   \n",
              "mean            -0.000         0.000         0.000       -0.000    -0.000   \n",
              "std              1.000         1.000         1.000        1.000     1.000   \n",
              "min             -3.421        -3.088        -2.097       -2.586    -2.515   \n",
              "25%             -0.709        -0.397        -0.701       -0.667    -0.754   \n",
              "50%              0.044        -0.022        -0.164       -0.084    -0.084   \n",
              "75%              0.848         0.604         0.551        0.584     0.719   \n",
              "max              1.601         3.106         4.189        4.170     2.512   \n",
              "\n",
              "       entry_BMI  entry_6mwt  normal_a  borderline_a  anxiety  normal_d  \\\n",
              "count    395.000     395.000   395.000       395.000  395.000   395.000   \n",
              "mean      -0.000      -0.000     0.544         0.116    0.114     0.524   \n",
              "std        1.000       1.000     0.499         0.321    0.318     0.500   \n",
              "min       -2.151      -3.060     0.000         0.000    0.000     0.000   \n",
              "25%       -0.600      -0.427     0.000         0.000    0.000     0.000   \n",
              "50%       -0.154       0.065     1.000         0.000    0.000     1.000   \n",
              "75%        0.506       0.527     1.000         0.000    0.000     1.000   \n",
              "max        5.278       3.342     1.000         1.000    1.000     1.000   \n",
              "\n",
              "       borderline_d  depression  \n",
              "count       395.000     395.000  \n",
              "mean          0.106       0.099  \n",
              "std           0.309       0.299  \n",
              "min           0.000       0.000  \n",
              "25%           0.000       0.000  \n",
              "50%           0.000       0.000  \n",
              "75%           0.000       0.000  \n",
              "max           1.000       1.000  "
            ]
          },
          "metadata": {
            "tags": []
          }
        },
        {
          "output_type": "display_data",
          "data": {
            "text/plain": [
              "count   395.000\n",
              "mean      2.543\n",
              "std       0.477\n",
              "min       1.100\n",
              "25%       2.300\n",
              "50%       2.600\n",
              "75%       2.900\n",
              "max       4.400\n",
              "Name: entry_met, dtype: float64"
            ]
          },
          "metadata": {
            "tags": []
          }
        }
      ]
    },
    {
      "metadata": {
        "id": "lo76Dp4J6NJO",
        "colab_type": "code",
        "colab": {}
      },
      "cell_type": "code",
      "source": [
        "# Determine correlations between features and target to find best features to use\n",
        "\n",
        "#correlation_dataframe = feature_dataframe.copy()\n",
        "#correlation_dataframe[\"target\"] = target_dataframe[\"delta_6mwt\"]\n",
        "#correlation_dataframe.corr()"
      ],
      "execution_count": 0,
      "outputs": []
    },
    {
      "metadata": {
        "id": "SEdPqiD-krvg",
        "colab_type": "text"
      },
      "cell_type": "markdown",
      "source": [
        "# **Old, working standalone cross validation**"
      ]
    },
    {
      "metadata": {
        "id": "Ea4ZMu1QkO_o",
        "colab_type": "code",
        "colab": {}
      },
      "cell_type": "code",
      "source": [
        "def build_model(train_df):\n",
        "  model = keras.Sequential([\n",
        "      layers.Dense(100, kernel_regularizer=keras.regularizers.l1(0.001), activation=tf.nn.relu, input_shape=[len(train_df.columns)]),\n",
        "      layers.Dropout(0.5),\n",
        "      layers.Dense(100, kernel_regularizer=keras.regularizers.l1(0.001), activation=tf.nn.relu),\n",
        "      layers.Dropout(0.5),\n",
        "      layers.Dense(100, kernel_regularizer=keras.regularizers.l1(0.001), activation=tf.nn.relu),\n",
        "      layers.Dense(1)\n",
        "  ])\n",
        "  \n",
        "  optimizer = tf.keras.optimizers.RMSprop(0.001)\n",
        "  \n",
        "  model.compile(loss='mse',\n",
        "               optimizer=optimizer,\n",
        "               metrics=['mae', 'mse'])\n",
        "  return model\n",
        "\n",
        "# Train and evaluate the model\n",
        "def train_model(model, x_train, y_train, x_test, y_test, early_stop):\n",
        "  if(early_stop):\n",
        "    hist = model.fit(\n",
        "        x = x_train, \n",
        "        y = y_train,\n",
        "        epochs = EPOCHS,\n",
        "        verbose=1,\n",
        "        callbacks = [early_stop_call],\n",
        "        validation_data = (x_test, y_test)\n",
        "    )\n",
        "  else:\n",
        "    hist = model.fit(\n",
        "        x = x_train, \n",
        "        y = y_train,\n",
        "        epochs = EPOCHS,\n",
        "        validation_data = (x_test, y_test)\n",
        "    )\n",
        "  return hist\n",
        "  \n",
        "# Stop training with no improvement\n",
        "early_stop_call = keras.callbacks.EarlyStopping(monitor='val_loss', patience=10)\n",
        "EPOCHS = 1000\n",
        "end_fold_error = pd.DataFrame(columns=['loss', 'MAE', 'MSE', 'test_loss', 'test_MAE', 'test_MSE'])\n",
        "  \n",
        "# Create cross validator\n",
        "kf = KFold(n_splits=10, shuffle=True, random_state=4)\n",
        "\n",
        "# Loop through the k folds for cross validation\n",
        "for i, (train_index, test_index) in enumerate(kf.split(train_dataframe), 1):\n",
        "  print(\"Training on fold \" + str(i))\n",
        "  \n",
        "  #feature_train, feature_test = feature_data.iloc[train_index].copy(), feature_data.iloc[test_index].copy()\n",
        "  #label_train, label_test = label_data.iloc[train_index], label_data.iloc[test_index]\n",
        "  \n",
        "  feature_train, label_train = process_data(train_dataframe.iloc[train_index].copy())\n",
        "  feature_test, label_test = process_data(train_dataframe.iloc[test_index].copy())\n",
        "  \n",
        "  model = None\n",
        "  model = build_model(feature_train)\n",
        "  \n",
        "  history = train_model(model, feature_train, label_train, feature_test, label_test, early_stop=True)\n",
        "  mse_history = history.history['mean_squared_error']\n",
        "  val_mse_history = history.history['val_mean_squared_error']\n",
        "  end_fold_error = end_fold_error.append(\n",
        "      pd.Series([history.history['loss'][-1],\n",
        "                 history.history['mean_absolute_error'][-1],\n",
        "                 mse_history[-1], \n",
        "                 history.history['val_loss'][-1],\n",
        "                 history.history['val_mean_absolute_error'][-1],\n",
        "                 val_mse_history[-1]], \n",
        "                index=end_fold_error.columns), ignore_index=True)\n",
        "  print(\"Last training error: \" + str(mse_history[-1]))\n",
        "  print(\"Last validation error: \" + str(val_mse_history[-1]))"
      ],
      "execution_count": 0,
      "outputs": []
    },
    {
      "metadata": {
        "id": "5KKOPverI-pT",
        "colab_type": "text"
      },
      "cell_type": "markdown",
      "source": [
        "# **Set up Keras TensorFlow code**"
      ]
    },
    {
      "metadata": {
        "id": "6pSrGMNc1cZD",
        "colab_type": "text"
      },
      "cell_type": "markdown",
      "source": [
        "**Set up functions to build and train models**"
      ]
    },
    {
      "metadata": {
        "id": "J-r55SdN11Sp",
        "colab_type": "text"
      },
      "cell_type": "markdown",
      "source": [
        "https://weina.me/nested-cross-validation/\n",
        "\n",
        "https://machinelearningmastery.com/grid-search-hyperparameters-deep-learning-models-python-keras/"
      ]
    },
    {
      "metadata": {
        "id": "R7wvPh1AI-Og",
        "colab_type": "code",
        "colab": {}
      },
      "cell_type": "code",
      "source": [
        "# Create a model with various hyperparameters default\n",
        "def build_model(learn_rate=0.001, neurons=1, dropout_rate=0.0):\n",
        "  model = keras.Sequential([\n",
        "      layers.Dense(neurons, activation=tf.nn.relu, input_shape=[len(feature_dataframe.columns)]),\n",
        "      layers.Dropout(dropout_rate),\n",
        "      layers.Dense(64, activation=tf.nn.relu),\n",
        "      layers.Dropout(dropout_rate),\n",
        "      layers.Dense(1)\n",
        "  ])\n",
        "  \n",
        "  optimizer = tf.keras.optimizers.RMSprop(lr=learn_rate)\n",
        "  \n",
        "  model.compile(loss='mse',\n",
        "               optimizer=optimizer,\n",
        "               metrics=['mae', 'mse'])\n",
        "  return model\n",
        "\n",
        "# Train and evaluate the model\n",
        "def train_model(model, x_train, y_train, x_test, y_test, epochs=100):\n",
        "  hist = model.fit(\n",
        "      x = x_train, \n",
        "      y = y_train,\n",
        "      epochs = epochs,\n",
        "      verbose=0,\n",
        "      callbacks = [early_stop_call],\n",
        "      validation_data = (x_test, y_test))\n",
        "  return hist\n",
        "  \n",
        "# Callback function to stop training with no improvement\n",
        "early_stop_call = keras.callbacks.EarlyStopping(monitor='val_loss', patience=10)"
      ],
      "execution_count": 0,
      "outputs": []
    },
    {
      "metadata": {
        "id": "LYk2WmA6xeo8",
        "colab_type": "text"
      },
      "cell_type": "markdown",
      "source": [
        "**Create nested cross-validation for optimal hyperparameter search and model performance estimation**"
      ]
    },
    {
      "metadata": {
        "id": "KKxhbC8k7OlA",
        "colab_type": "text"
      },
      "cell_type": "markdown",
      "source": [
        "https://stackoverflow.com/questions/42228735/scikit-learn-gridsearchcv-with-multiple-repetitions/42230764#42230764\n",
        "https://scikit-learn.org/stable/auto_examples/model_selection/plot_nested_cross_validation_iris.html\n",
        "\n",
        "**Nested versus non-nested cross-validation JUPYTER NOTEBOOK**"
      ]
    },
    {
      "metadata": {
        "id": "WWD7m1PggnSw",
        "colab_type": "code",
        "colab": {}
      },
      "cell_type": "code",
      "source": [
        "# Create cross validator\n",
        "errr = KFold(n_splits=3, shuffle=True, random_state=4)\n",
        "scoresss = []\n",
        "test_model = KerasRegressor(build_fn=build_model, neurons=64, dropout_rate=0.5, epochs=1000)\n",
        "\n",
        "scoresss = cross_val_score(test_model, X=feature_dataframe, y=target_dataframe, scoring='neg_mean_squared_error', cv=errr, verbose=0)\n",
        "\n",
        "display.display(scoresss)"
      ],
      "execution_count": 0,
      "outputs": []
    },
    {
      "metadata": {
        "id": "CinM9_pfRfkx",
        "colab_type": "code",
        "colab": {}
      },
      "cell_type": "code",
      "source": [
        ""
      ],
      "execution_count": 0,
      "outputs": []
    },
    {
      "metadata": {
        "id": "_mDvYhjK9mP8",
        "colab_type": "code",
        "outputId": "ec4c25a2-b14c-4712-b4a8-ea18a57be074",
        "colab": {
          "base_uri": "https://localhost:8080/",
          "height": 3006
        }
      },
      "cell_type": "code",
      "source": [
        "outer_fold = KFold(n_splits=10, shuffle=True, random_state=rand_state)\n",
        "inner_fold = KFold(n_splits=2, shuffle=True, random_state=rand_state)\n",
        "\n",
        "outer_scores = np.zeros(10)\n",
        "inner_scores = []\n",
        "best_params = []\n",
        "\n",
        "learn_rate = [0.001, 0.01]#, 0.1, 0.25, 0.5]\n",
        "dropout_rate = [0.0, 0.5]#, 0.2, 0.4, 0.6, 0.8]\n",
        "neurons = [16, 64]#[1, 4, 16, 64]\n",
        "parameters = dict(#learn_rate=learn_rate,\n",
        "                    #dropout_rate=dropout_rate,\n",
        "                    neurons=neurons\n",
        "                 )\n",
        "\n",
        "inner_model = None\n",
        "inner_model = KerasRegressor(build_fn=build_model, epochs=1000, verbose=0)\n",
        "grid_estimator = GridSearchCV(estimator=inner_model, param_grid=parameters, scoring='neg_mean_squared_error', cv=inner_fold, verbose=2, iid=False)\n",
        "#outer_scores = cross_val_score(grid, X=feature_dataframe, y=target_dataframe, scoring='neg_mean_squared_error', cv=outer_fold, verbose=0)\n",
        "\n",
        "for i, (outer_train_index, outer_test_index) in enumerate(outer_fold.split(train_dataframe)):\n",
        "  \n",
        "  outer_x_train, outer_y_train = process_data(train_dataframe.iloc[outer_train_index].copy())\n",
        "  outer_x_test, outer_y_test = process_data(train_dataframe.iloc[outer_test_index].copy())\n",
        "  \n",
        "  grid_estimator.fit(outer_x_train, outer_y_train)\n",
        "  inner_scores.append(grid_estimator.score(outer_x_test, outer_y_test))\n",
        "  best_params.append(grid_estimator.best_params_)\n",
        "  print(inner_scores)\n",
        "  print(best_params)\n",
        "  \n",
        "outer_scores = outer_scores.append(inner_scores.mean())\n",
        "print(\"Overall score\")\n",
        "print(outer_scores)"
      ],
      "execution_count": 19,
      "outputs": [
        {
          "output_type": "stream",
          "text": [
            "Fitting 2 folds for each of 2 candidates, totalling 4 fits\n",
            "[CV] neurons=16 ......................................................\n"
          ],
          "name": "stdout"
        },
        {
          "output_type": "stream",
          "text": [
            "[Parallel(n_jobs=1)]: Using backend SequentialBackend with 1 concurrent workers.\n"
          ],
          "name": "stderr"
        },
        {
          "output_type": "stream",
          "text": [
            "[CV] ....................................... neurons=16, total=  35.1s\n",
            "[CV] neurons=16 ......................................................\n"
          ],
          "name": "stdout"
        },
        {
          "output_type": "stream",
          "text": [
            "[Parallel(n_jobs=1)]: Done   1 out of   1 | elapsed:   35.1s remaining:    0.0s\n"
          ],
          "name": "stderr"
        },
        {
          "output_type": "stream",
          "text": [
            "[CV] ....................................... neurons=16, total=  35.6s\n",
            "[CV] neurons=64 ......................................................\n",
            "[CV] ....................................... neurons=64, total=  36.1s\n",
            "[CV] neurons=64 ......................................................\n",
            "[CV] ....................................... neurons=64, total=  36.5s\n"
          ],
          "name": "stdout"
        },
        {
          "output_type": "stream",
          "text": [
            "[Parallel(n_jobs=1)]: Done   4 out of   4 | elapsed:  2.4min finished\n"
          ],
          "name": "stderr"
        },
        {
          "output_type": "stream",
          "text": [
            "[-0.08304153355234911]\n",
            "[{'neurons': 64}]\n",
            "Fitting 2 folds for each of 2 candidates, totalling 4 fits\n",
            "[CV] neurons=16 ......................................................\n"
          ],
          "name": "stdout"
        },
        {
          "output_type": "stream",
          "text": [
            "[Parallel(n_jobs=1)]: Using backend SequentialBackend with 1 concurrent workers.\n"
          ],
          "name": "stderr"
        },
        {
          "output_type": "stream",
          "text": [
            "[CV] ....................................... neurons=16, total=  37.3s\n",
            "[CV] neurons=16 ......................................................\n"
          ],
          "name": "stdout"
        },
        {
          "output_type": "stream",
          "text": [
            "[Parallel(n_jobs=1)]: Done   1 out of   1 | elapsed:   37.3s remaining:    0.0s\n"
          ],
          "name": "stderr"
        },
        {
          "output_type": "stream",
          "text": [
            "[CV] ....................................... neurons=16, total=  38.3s\n",
            "[CV] neurons=64 ......................................................\n",
            "[CV] ....................................... neurons=64, total=  38.4s\n",
            "[CV] neurons=64 ......................................................\n",
            "[CV] ....................................... neurons=64, total=  39.0s\n"
          ],
          "name": "stdout"
        },
        {
          "output_type": "stream",
          "text": [
            "[Parallel(n_jobs=1)]: Done   4 out of   4 | elapsed:  2.5min finished\n"
          ],
          "name": "stderr"
        },
        {
          "output_type": "stream",
          "text": [
            "[-0.08304153355234911, -0.09355915295065181]\n",
            "[{'neurons': 64}, {'neurons': 16}]\n",
            "Fitting 2 folds for each of 2 candidates, totalling 4 fits\n",
            "[CV] neurons=16 ......................................................\n"
          ],
          "name": "stdout"
        },
        {
          "output_type": "stream",
          "text": [
            "[Parallel(n_jobs=1)]: Using backend SequentialBackend with 1 concurrent workers.\n"
          ],
          "name": "stderr"
        },
        {
          "output_type": "stream",
          "text": [
            "[CV] ....................................... neurons=16, total=  39.4s\n",
            "[CV] neurons=16 ......................................................\n"
          ],
          "name": "stdout"
        },
        {
          "output_type": "stream",
          "text": [
            "[Parallel(n_jobs=1)]: Done   1 out of   1 | elapsed:   39.5s remaining:    0.0s\n"
          ],
          "name": "stderr"
        },
        {
          "output_type": "stream",
          "text": [
            "[CV] ....................................... neurons=16, total=  40.1s\n",
            "[CV] neurons=64 ......................................................\n"
          ],
          "name": "stdout"
        },
        {
          "output_type": "error",
          "ename": "KeyboardInterrupt",
          "evalue": "ignored",
          "traceback": [
            "\u001b[0;31m---------------------------------------------------------------------------\u001b[0m",
            "\u001b[0;31mKeyboardInterrupt\u001b[0m                         Traceback (most recent call last)",
            "\u001b[0;32m<ipython-input-19-1164f187b7f5>\u001b[0m in \u001b[0;36m<module>\u001b[0;34m()\u001b[0m\n\u001b[1;32m     24\u001b[0m   \u001b[0mouter_x_test\u001b[0m\u001b[0;34m,\u001b[0m \u001b[0mouter_y_test\u001b[0m \u001b[0;34m=\u001b[0m \u001b[0mprocess_data\u001b[0m\u001b[0;34m(\u001b[0m\u001b[0mtrain_dataframe\u001b[0m\u001b[0;34m.\u001b[0m\u001b[0miloc\u001b[0m\u001b[0;34m[\u001b[0m\u001b[0mouter_test_index\u001b[0m\u001b[0;34m]\u001b[0m\u001b[0;34m.\u001b[0m\u001b[0mcopy\u001b[0m\u001b[0;34m(\u001b[0m\u001b[0;34m)\u001b[0m\u001b[0;34m)\u001b[0m\u001b[0;34m\u001b[0m\u001b[0;34m\u001b[0m\u001b[0m\n\u001b[1;32m     25\u001b[0m \u001b[0;34m\u001b[0m\u001b[0m\n\u001b[0;32m---> 26\u001b[0;31m   \u001b[0mgrid_estimator\u001b[0m\u001b[0;34m.\u001b[0m\u001b[0mfit\u001b[0m\u001b[0;34m(\u001b[0m\u001b[0mouter_x_train\u001b[0m\u001b[0;34m,\u001b[0m \u001b[0mouter_y_train\u001b[0m\u001b[0;34m)\u001b[0m\u001b[0;34m\u001b[0m\u001b[0;34m\u001b[0m\u001b[0m\n\u001b[0m\u001b[1;32m     27\u001b[0m   \u001b[0minner_scores\u001b[0m\u001b[0;34m.\u001b[0m\u001b[0mappend\u001b[0m\u001b[0;34m(\u001b[0m\u001b[0mgrid_estimator\u001b[0m\u001b[0;34m.\u001b[0m\u001b[0mscore\u001b[0m\u001b[0;34m(\u001b[0m\u001b[0mouter_x_test\u001b[0m\u001b[0;34m,\u001b[0m \u001b[0mouter_y_test\u001b[0m\u001b[0;34m)\u001b[0m\u001b[0;34m)\u001b[0m\u001b[0;34m\u001b[0m\u001b[0;34m\u001b[0m\u001b[0m\n\u001b[1;32m     28\u001b[0m   \u001b[0mbest_params\u001b[0m\u001b[0;34m.\u001b[0m\u001b[0mappend\u001b[0m\u001b[0;34m(\u001b[0m\u001b[0mgrid_estimator\u001b[0m\u001b[0;34m.\u001b[0m\u001b[0mbest_params_\u001b[0m\u001b[0;34m)\u001b[0m\u001b[0;34m\u001b[0m\u001b[0;34m\u001b[0m\u001b[0m\n",
            "\u001b[0;32m/usr/local/lib/python3.6/dist-packages/sklearn/model_selection/_search.py\u001b[0m in \u001b[0;36mfit\u001b[0;34m(self, X, y, groups, **fit_params)\u001b[0m\n\u001b[1;32m    720\u001b[0m                 \u001b[0;32mreturn\u001b[0m \u001b[0mresults_container\u001b[0m\u001b[0;34m[\u001b[0m\u001b[0;36m0\u001b[0m\u001b[0;34m]\u001b[0m\u001b[0;34m\u001b[0m\u001b[0;34m\u001b[0m\u001b[0m\n\u001b[1;32m    721\u001b[0m \u001b[0;34m\u001b[0m\u001b[0m\n\u001b[0;32m--> 722\u001b[0;31m             \u001b[0mself\u001b[0m\u001b[0;34m.\u001b[0m\u001b[0m_run_search\u001b[0m\u001b[0;34m(\u001b[0m\u001b[0mevaluate_candidates\u001b[0m\u001b[0;34m)\u001b[0m\u001b[0;34m\u001b[0m\u001b[0;34m\u001b[0m\u001b[0m\n\u001b[0m\u001b[1;32m    723\u001b[0m \u001b[0;34m\u001b[0m\u001b[0m\n\u001b[1;32m    724\u001b[0m         \u001b[0mresults\u001b[0m \u001b[0;34m=\u001b[0m \u001b[0mresults_container\u001b[0m\u001b[0;34m[\u001b[0m\u001b[0;36m0\u001b[0m\u001b[0;34m]\u001b[0m\u001b[0;34m\u001b[0m\u001b[0;34m\u001b[0m\u001b[0m\n",
            "\u001b[0;32m/usr/local/lib/python3.6/dist-packages/sklearn/model_selection/_search.py\u001b[0m in \u001b[0;36m_run_search\u001b[0;34m(self, evaluate_candidates)\u001b[0m\n\u001b[1;32m   1189\u001b[0m     \u001b[0;32mdef\u001b[0m \u001b[0m_run_search\u001b[0m\u001b[0;34m(\u001b[0m\u001b[0mself\u001b[0m\u001b[0;34m,\u001b[0m \u001b[0mevaluate_candidates\u001b[0m\u001b[0;34m)\u001b[0m\u001b[0;34m:\u001b[0m\u001b[0;34m\u001b[0m\u001b[0;34m\u001b[0m\u001b[0m\n\u001b[1;32m   1190\u001b[0m         \u001b[0;34m\"\"\"Search all candidates in param_grid\"\"\"\u001b[0m\u001b[0;34m\u001b[0m\u001b[0;34m\u001b[0m\u001b[0m\n\u001b[0;32m-> 1191\u001b[0;31m         \u001b[0mevaluate_candidates\u001b[0m\u001b[0;34m(\u001b[0m\u001b[0mParameterGrid\u001b[0m\u001b[0;34m(\u001b[0m\u001b[0mself\u001b[0m\u001b[0;34m.\u001b[0m\u001b[0mparam_grid\u001b[0m\u001b[0;34m)\u001b[0m\u001b[0;34m)\u001b[0m\u001b[0;34m\u001b[0m\u001b[0;34m\u001b[0m\u001b[0m\n\u001b[0m\u001b[1;32m   1192\u001b[0m \u001b[0;34m\u001b[0m\u001b[0m\n\u001b[1;32m   1193\u001b[0m \u001b[0;34m\u001b[0m\u001b[0m\n",
            "\u001b[0;32m/usr/local/lib/python3.6/dist-packages/sklearn/model_selection/_search.py\u001b[0m in \u001b[0;36mevaluate_candidates\u001b[0;34m(candidate_params)\u001b[0m\n\u001b[1;32m    709\u001b[0m                                \u001b[0;32mfor\u001b[0m \u001b[0mparameters\u001b[0m\u001b[0;34m,\u001b[0m \u001b[0;34m(\u001b[0m\u001b[0mtrain\u001b[0m\u001b[0;34m,\u001b[0m \u001b[0mtest\u001b[0m\u001b[0;34m)\u001b[0m\u001b[0;34m\u001b[0m\u001b[0;34m\u001b[0m\u001b[0m\n\u001b[1;32m    710\u001b[0m                                in product(candidate_params,\n\u001b[0;32m--> 711\u001b[0;31m                                           cv.split(X, y, groups)))\n\u001b[0m\u001b[1;32m    712\u001b[0m \u001b[0;34m\u001b[0m\u001b[0m\n\u001b[1;32m    713\u001b[0m                 \u001b[0mall_candidate_params\u001b[0m\u001b[0;34m.\u001b[0m\u001b[0mextend\u001b[0m\u001b[0;34m(\u001b[0m\u001b[0mcandidate_params\u001b[0m\u001b[0;34m)\u001b[0m\u001b[0;34m\u001b[0m\u001b[0;34m\u001b[0m\u001b[0m\n",
            "\u001b[0;32m/usr/local/lib/python3.6/dist-packages/sklearn/externals/joblib/parallel.py\u001b[0m in \u001b[0;36m__call__\u001b[0;34m(self, iterable)\u001b[0m\n\u001b[1;32m    918\u001b[0m                 \u001b[0mself\u001b[0m\u001b[0;34m.\u001b[0m\u001b[0m_iterating\u001b[0m \u001b[0;34m=\u001b[0m \u001b[0mself\u001b[0m\u001b[0;34m.\u001b[0m\u001b[0m_original_iterator\u001b[0m \u001b[0;32mis\u001b[0m \u001b[0;32mnot\u001b[0m \u001b[0;32mNone\u001b[0m\u001b[0;34m\u001b[0m\u001b[0;34m\u001b[0m\u001b[0m\n\u001b[1;32m    919\u001b[0m \u001b[0;34m\u001b[0m\u001b[0m\n\u001b[0;32m--> 920\u001b[0;31m             \u001b[0;32mwhile\u001b[0m \u001b[0mself\u001b[0m\u001b[0;34m.\u001b[0m\u001b[0mdispatch_one_batch\u001b[0m\u001b[0;34m(\u001b[0m\u001b[0miterator\u001b[0m\u001b[0;34m)\u001b[0m\u001b[0;34m:\u001b[0m\u001b[0;34m\u001b[0m\u001b[0;34m\u001b[0m\u001b[0m\n\u001b[0m\u001b[1;32m    921\u001b[0m                 \u001b[0;32mpass\u001b[0m\u001b[0;34m\u001b[0m\u001b[0;34m\u001b[0m\u001b[0m\n\u001b[1;32m    922\u001b[0m \u001b[0;34m\u001b[0m\u001b[0m\n",
            "\u001b[0;32m/usr/local/lib/python3.6/dist-packages/sklearn/externals/joblib/parallel.py\u001b[0m in \u001b[0;36mdispatch_one_batch\u001b[0;34m(self, iterator)\u001b[0m\n\u001b[1;32m    757\u001b[0m                 \u001b[0;32mreturn\u001b[0m \u001b[0;32mFalse\u001b[0m\u001b[0;34m\u001b[0m\u001b[0;34m\u001b[0m\u001b[0m\n\u001b[1;32m    758\u001b[0m             \u001b[0;32melse\u001b[0m\u001b[0;34m:\u001b[0m\u001b[0;34m\u001b[0m\u001b[0;34m\u001b[0m\u001b[0m\n\u001b[0;32m--> 759\u001b[0;31m                 \u001b[0mself\u001b[0m\u001b[0;34m.\u001b[0m\u001b[0m_dispatch\u001b[0m\u001b[0;34m(\u001b[0m\u001b[0mtasks\u001b[0m\u001b[0;34m)\u001b[0m\u001b[0;34m\u001b[0m\u001b[0;34m\u001b[0m\u001b[0m\n\u001b[0m\u001b[1;32m    760\u001b[0m                 \u001b[0;32mreturn\u001b[0m \u001b[0;32mTrue\u001b[0m\u001b[0;34m\u001b[0m\u001b[0;34m\u001b[0m\u001b[0m\n\u001b[1;32m    761\u001b[0m \u001b[0;34m\u001b[0m\u001b[0m\n",
            "\u001b[0;32m/usr/local/lib/python3.6/dist-packages/sklearn/externals/joblib/parallel.py\u001b[0m in \u001b[0;36m_dispatch\u001b[0;34m(self, batch)\u001b[0m\n\u001b[1;32m    714\u001b[0m         \u001b[0;32mwith\u001b[0m \u001b[0mself\u001b[0m\u001b[0;34m.\u001b[0m\u001b[0m_lock\u001b[0m\u001b[0;34m:\u001b[0m\u001b[0;34m\u001b[0m\u001b[0;34m\u001b[0m\u001b[0m\n\u001b[1;32m    715\u001b[0m             \u001b[0mjob_idx\u001b[0m \u001b[0;34m=\u001b[0m \u001b[0mlen\u001b[0m\u001b[0;34m(\u001b[0m\u001b[0mself\u001b[0m\u001b[0;34m.\u001b[0m\u001b[0m_jobs\u001b[0m\u001b[0;34m)\u001b[0m\u001b[0;34m\u001b[0m\u001b[0;34m\u001b[0m\u001b[0m\n\u001b[0;32m--> 716\u001b[0;31m             \u001b[0mjob\u001b[0m \u001b[0;34m=\u001b[0m \u001b[0mself\u001b[0m\u001b[0;34m.\u001b[0m\u001b[0m_backend\u001b[0m\u001b[0;34m.\u001b[0m\u001b[0mapply_async\u001b[0m\u001b[0;34m(\u001b[0m\u001b[0mbatch\u001b[0m\u001b[0;34m,\u001b[0m \u001b[0mcallback\u001b[0m\u001b[0;34m=\u001b[0m\u001b[0mcb\u001b[0m\u001b[0;34m)\u001b[0m\u001b[0;34m\u001b[0m\u001b[0;34m\u001b[0m\u001b[0m\n\u001b[0m\u001b[1;32m    717\u001b[0m             \u001b[0;31m# A job can complete so quickly than its callback is\u001b[0m\u001b[0;34m\u001b[0m\u001b[0;34m\u001b[0m\u001b[0;34m\u001b[0m\u001b[0m\n\u001b[1;32m    718\u001b[0m             \u001b[0;31m# called before we get here, causing self._jobs to\u001b[0m\u001b[0;34m\u001b[0m\u001b[0;34m\u001b[0m\u001b[0;34m\u001b[0m\u001b[0m\n",
            "\u001b[0;32m/usr/local/lib/python3.6/dist-packages/sklearn/externals/joblib/_parallel_backends.py\u001b[0m in \u001b[0;36mapply_async\u001b[0;34m(self, func, callback)\u001b[0m\n\u001b[1;32m    180\u001b[0m     \u001b[0;32mdef\u001b[0m \u001b[0mapply_async\u001b[0m\u001b[0;34m(\u001b[0m\u001b[0mself\u001b[0m\u001b[0;34m,\u001b[0m \u001b[0mfunc\u001b[0m\u001b[0;34m,\u001b[0m \u001b[0mcallback\u001b[0m\u001b[0;34m=\u001b[0m\u001b[0;32mNone\u001b[0m\u001b[0;34m)\u001b[0m\u001b[0;34m:\u001b[0m\u001b[0;34m\u001b[0m\u001b[0;34m\u001b[0m\u001b[0m\n\u001b[1;32m    181\u001b[0m         \u001b[0;34m\"\"\"Schedule a func to be run\"\"\"\u001b[0m\u001b[0;34m\u001b[0m\u001b[0;34m\u001b[0m\u001b[0m\n\u001b[0;32m--> 182\u001b[0;31m         \u001b[0mresult\u001b[0m \u001b[0;34m=\u001b[0m \u001b[0mImmediateResult\u001b[0m\u001b[0;34m(\u001b[0m\u001b[0mfunc\u001b[0m\u001b[0;34m)\u001b[0m\u001b[0;34m\u001b[0m\u001b[0;34m\u001b[0m\u001b[0m\n\u001b[0m\u001b[1;32m    183\u001b[0m         \u001b[0;32mif\u001b[0m \u001b[0mcallback\u001b[0m\u001b[0;34m:\u001b[0m\u001b[0;34m\u001b[0m\u001b[0;34m\u001b[0m\u001b[0m\n\u001b[1;32m    184\u001b[0m             \u001b[0mcallback\u001b[0m\u001b[0;34m(\u001b[0m\u001b[0mresult\u001b[0m\u001b[0;34m)\u001b[0m\u001b[0;34m\u001b[0m\u001b[0;34m\u001b[0m\u001b[0m\n",
            "\u001b[0;32m/usr/local/lib/python3.6/dist-packages/sklearn/externals/joblib/_parallel_backends.py\u001b[0m in \u001b[0;36m__init__\u001b[0;34m(self, batch)\u001b[0m\n\u001b[1;32m    547\u001b[0m         \u001b[0;31m# Don't delay the application, to avoid keeping the input\u001b[0m\u001b[0;34m\u001b[0m\u001b[0;34m\u001b[0m\u001b[0;34m\u001b[0m\u001b[0m\n\u001b[1;32m    548\u001b[0m         \u001b[0;31m# arguments in memory\u001b[0m\u001b[0;34m\u001b[0m\u001b[0;34m\u001b[0m\u001b[0;34m\u001b[0m\u001b[0m\n\u001b[0;32m--> 549\u001b[0;31m         \u001b[0mself\u001b[0m\u001b[0;34m.\u001b[0m\u001b[0mresults\u001b[0m \u001b[0;34m=\u001b[0m \u001b[0mbatch\u001b[0m\u001b[0;34m(\u001b[0m\u001b[0;34m)\u001b[0m\u001b[0;34m\u001b[0m\u001b[0;34m\u001b[0m\u001b[0m\n\u001b[0m\u001b[1;32m    550\u001b[0m \u001b[0;34m\u001b[0m\u001b[0m\n\u001b[1;32m    551\u001b[0m     \u001b[0;32mdef\u001b[0m \u001b[0mget\u001b[0m\u001b[0;34m(\u001b[0m\u001b[0mself\u001b[0m\u001b[0;34m)\u001b[0m\u001b[0;34m:\u001b[0m\u001b[0;34m\u001b[0m\u001b[0;34m\u001b[0m\u001b[0m\n",
            "\u001b[0;32m/usr/local/lib/python3.6/dist-packages/sklearn/externals/joblib/parallel.py\u001b[0m in \u001b[0;36m__call__\u001b[0;34m(self)\u001b[0m\n\u001b[1;32m    223\u001b[0m         \u001b[0;32mwith\u001b[0m \u001b[0mparallel_backend\u001b[0m\u001b[0;34m(\u001b[0m\u001b[0mself\u001b[0m\u001b[0;34m.\u001b[0m\u001b[0m_backend\u001b[0m\u001b[0;34m,\u001b[0m \u001b[0mn_jobs\u001b[0m\u001b[0;34m=\u001b[0m\u001b[0mself\u001b[0m\u001b[0;34m.\u001b[0m\u001b[0m_n_jobs\u001b[0m\u001b[0;34m)\u001b[0m\u001b[0;34m:\u001b[0m\u001b[0;34m\u001b[0m\u001b[0;34m\u001b[0m\u001b[0m\n\u001b[1;32m    224\u001b[0m             return [func(*args, **kwargs)\n\u001b[0;32m--> 225\u001b[0;31m                     for func, args, kwargs in self.items]\n\u001b[0m\u001b[1;32m    226\u001b[0m \u001b[0;34m\u001b[0m\u001b[0m\n\u001b[1;32m    227\u001b[0m     \u001b[0;32mdef\u001b[0m \u001b[0m__len__\u001b[0m\u001b[0;34m(\u001b[0m\u001b[0mself\u001b[0m\u001b[0;34m)\u001b[0m\u001b[0;34m:\u001b[0m\u001b[0;34m\u001b[0m\u001b[0;34m\u001b[0m\u001b[0m\n",
            "\u001b[0;32m/usr/local/lib/python3.6/dist-packages/sklearn/externals/joblib/parallel.py\u001b[0m in \u001b[0;36m<listcomp>\u001b[0;34m(.0)\u001b[0m\n\u001b[1;32m    223\u001b[0m         \u001b[0;32mwith\u001b[0m \u001b[0mparallel_backend\u001b[0m\u001b[0;34m(\u001b[0m\u001b[0mself\u001b[0m\u001b[0;34m.\u001b[0m\u001b[0m_backend\u001b[0m\u001b[0;34m,\u001b[0m \u001b[0mn_jobs\u001b[0m\u001b[0;34m=\u001b[0m\u001b[0mself\u001b[0m\u001b[0;34m.\u001b[0m\u001b[0m_n_jobs\u001b[0m\u001b[0;34m)\u001b[0m\u001b[0;34m:\u001b[0m\u001b[0;34m\u001b[0m\u001b[0;34m\u001b[0m\u001b[0m\n\u001b[1;32m    224\u001b[0m             return [func(*args, **kwargs)\n\u001b[0;32m--> 225\u001b[0;31m                     for func, args, kwargs in self.items]\n\u001b[0m\u001b[1;32m    226\u001b[0m \u001b[0;34m\u001b[0m\u001b[0m\n\u001b[1;32m    227\u001b[0m     \u001b[0;32mdef\u001b[0m \u001b[0m__len__\u001b[0m\u001b[0;34m(\u001b[0m\u001b[0mself\u001b[0m\u001b[0;34m)\u001b[0m\u001b[0;34m:\u001b[0m\u001b[0;34m\u001b[0m\u001b[0;34m\u001b[0m\u001b[0m\n",
            "\u001b[0;32m/usr/local/lib/python3.6/dist-packages/sklearn/model_selection/_validation.py\u001b[0m in \u001b[0;36m_fit_and_score\u001b[0;34m(estimator, X, y, scorer, train, test, verbose, parameters, fit_params, return_train_score, return_parameters, return_n_test_samples, return_times, return_estimator, error_score)\u001b[0m\n\u001b[1;32m    526\u001b[0m             \u001b[0mestimator\u001b[0m\u001b[0;34m.\u001b[0m\u001b[0mfit\u001b[0m\u001b[0;34m(\u001b[0m\u001b[0mX_train\u001b[0m\u001b[0;34m,\u001b[0m \u001b[0;34m**\u001b[0m\u001b[0mfit_params\u001b[0m\u001b[0;34m)\u001b[0m\u001b[0;34m\u001b[0m\u001b[0;34m\u001b[0m\u001b[0m\n\u001b[1;32m    527\u001b[0m         \u001b[0;32melse\u001b[0m\u001b[0;34m:\u001b[0m\u001b[0;34m\u001b[0m\u001b[0;34m\u001b[0m\u001b[0m\n\u001b[0;32m--> 528\u001b[0;31m             \u001b[0mestimator\u001b[0m\u001b[0;34m.\u001b[0m\u001b[0mfit\u001b[0m\u001b[0;34m(\u001b[0m\u001b[0mX_train\u001b[0m\u001b[0;34m,\u001b[0m \u001b[0my_train\u001b[0m\u001b[0;34m,\u001b[0m \u001b[0;34m**\u001b[0m\u001b[0mfit_params\u001b[0m\u001b[0;34m)\u001b[0m\u001b[0;34m\u001b[0m\u001b[0;34m\u001b[0m\u001b[0m\n\u001b[0m\u001b[1;32m    529\u001b[0m \u001b[0;34m\u001b[0m\u001b[0m\n\u001b[1;32m    530\u001b[0m     \u001b[0;32mexcept\u001b[0m \u001b[0mException\u001b[0m \u001b[0;32mas\u001b[0m \u001b[0me\u001b[0m\u001b[0;34m:\u001b[0m\u001b[0;34m\u001b[0m\u001b[0;34m\u001b[0m\u001b[0m\n",
            "\u001b[0;32m/usr/local/lib/python3.6/dist-packages/keras/wrappers/scikit_learn.py\u001b[0m in \u001b[0;36mfit\u001b[0;34m(self, x, y, **kwargs)\u001b[0m\n\u001b[1;32m    150\u001b[0m         \u001b[0mfit_args\u001b[0m\u001b[0;34m.\u001b[0m\u001b[0mupdate\u001b[0m\u001b[0;34m(\u001b[0m\u001b[0mkwargs\u001b[0m\u001b[0;34m)\u001b[0m\u001b[0;34m\u001b[0m\u001b[0;34m\u001b[0m\u001b[0m\n\u001b[1;32m    151\u001b[0m \u001b[0;34m\u001b[0m\u001b[0m\n\u001b[0;32m--> 152\u001b[0;31m         \u001b[0mhistory\u001b[0m \u001b[0;34m=\u001b[0m \u001b[0mself\u001b[0m\u001b[0;34m.\u001b[0m\u001b[0mmodel\u001b[0m\u001b[0;34m.\u001b[0m\u001b[0mfit\u001b[0m\u001b[0;34m(\u001b[0m\u001b[0mx\u001b[0m\u001b[0;34m,\u001b[0m \u001b[0my\u001b[0m\u001b[0;34m,\u001b[0m \u001b[0;34m**\u001b[0m\u001b[0mfit_args\u001b[0m\u001b[0;34m)\u001b[0m\u001b[0;34m\u001b[0m\u001b[0;34m\u001b[0m\u001b[0m\n\u001b[0m\u001b[1;32m    153\u001b[0m \u001b[0;34m\u001b[0m\u001b[0m\n\u001b[1;32m    154\u001b[0m         \u001b[0;32mreturn\u001b[0m \u001b[0mhistory\u001b[0m\u001b[0;34m\u001b[0m\u001b[0;34m\u001b[0m\u001b[0m\n",
            "\u001b[0;32m/usr/local/lib/python3.6/dist-packages/tensorflow/python/keras/engine/training.py\u001b[0m in \u001b[0;36mfit\u001b[0;34m(self, x, y, batch_size, epochs, verbose, callbacks, validation_split, validation_data, shuffle, class_weight, sample_weight, initial_epoch, steps_per_epoch, validation_steps, max_queue_size, workers, use_multiprocessing, **kwargs)\u001b[0m\n\u001b[1;32m    878\u001b[0m           \u001b[0minitial_epoch\u001b[0m\u001b[0;34m=\u001b[0m\u001b[0minitial_epoch\u001b[0m\u001b[0;34m,\u001b[0m\u001b[0;34m\u001b[0m\u001b[0;34m\u001b[0m\u001b[0m\n\u001b[1;32m    879\u001b[0m           \u001b[0msteps_per_epoch\u001b[0m\u001b[0;34m=\u001b[0m\u001b[0msteps_per_epoch\u001b[0m\u001b[0;34m,\u001b[0m\u001b[0;34m\u001b[0m\u001b[0;34m\u001b[0m\u001b[0m\n\u001b[0;32m--> 880\u001b[0;31m           validation_steps=validation_steps)\n\u001b[0m\u001b[1;32m    881\u001b[0m \u001b[0;34m\u001b[0m\u001b[0m\n\u001b[1;32m    882\u001b[0m   def evaluate(self,\n",
            "\u001b[0;32m/usr/local/lib/python3.6/dist-packages/tensorflow/python/keras/engine/training_arrays.py\u001b[0m in \u001b[0;36mmodel_iteration\u001b[0;34m(model, inputs, targets, sample_weights, batch_size, epochs, verbose, callbacks, val_inputs, val_targets, val_sample_weights, shuffle, initial_epoch, steps_per_epoch, validation_steps, mode, validation_in_fit, **kwargs)\u001b[0m\n\u001b[1;32m    327\u001b[0m \u001b[0;34m\u001b[0m\u001b[0m\n\u001b[1;32m    328\u001b[0m         \u001b[0;31m# Get outputs.\u001b[0m\u001b[0;34m\u001b[0m\u001b[0;34m\u001b[0m\u001b[0;34m\u001b[0m\u001b[0m\n\u001b[0;32m--> 329\u001b[0;31m         \u001b[0mbatch_outs\u001b[0m \u001b[0;34m=\u001b[0m \u001b[0mf\u001b[0m\u001b[0;34m(\u001b[0m\u001b[0mins_batch\u001b[0m\u001b[0;34m)\u001b[0m\u001b[0;34m\u001b[0m\u001b[0;34m\u001b[0m\u001b[0m\n\u001b[0m\u001b[1;32m    330\u001b[0m         \u001b[0;32mif\u001b[0m \u001b[0;32mnot\u001b[0m \u001b[0misinstance\u001b[0m\u001b[0;34m(\u001b[0m\u001b[0mbatch_outs\u001b[0m\u001b[0;34m,\u001b[0m \u001b[0mlist\u001b[0m\u001b[0;34m)\u001b[0m\u001b[0;34m:\u001b[0m\u001b[0;34m\u001b[0m\u001b[0;34m\u001b[0m\u001b[0m\n\u001b[1;32m    331\u001b[0m           \u001b[0mbatch_outs\u001b[0m \u001b[0;34m=\u001b[0m \u001b[0;34m[\u001b[0m\u001b[0mbatch_outs\u001b[0m\u001b[0;34m]\u001b[0m\u001b[0;34m\u001b[0m\u001b[0;34m\u001b[0m\u001b[0m\n",
            "\u001b[0;32m/usr/local/lib/python3.6/dist-packages/tensorflow/python/keras/backend.py\u001b[0m in \u001b[0;36m__call__\u001b[0;34m(self, inputs)\u001b[0m\n\u001b[1;32m   3071\u001b[0m         \u001b[0mfeed_symbols\u001b[0m \u001b[0;34m!=\u001b[0m \u001b[0mself\u001b[0m\u001b[0;34m.\u001b[0m\u001b[0m_feed_symbols\u001b[0m \u001b[0;32mor\u001b[0m \u001b[0mself\u001b[0m\u001b[0;34m.\u001b[0m\u001b[0mfetches\u001b[0m \u001b[0;34m!=\u001b[0m \u001b[0mself\u001b[0m\u001b[0;34m.\u001b[0m\u001b[0m_fetches\u001b[0m \u001b[0;32mor\u001b[0m\u001b[0;34m\u001b[0m\u001b[0;34m\u001b[0m\u001b[0m\n\u001b[1;32m   3072\u001b[0m         session != self._session):\n\u001b[0;32m-> 3073\u001b[0;31m       \u001b[0mself\u001b[0m\u001b[0;34m.\u001b[0m\u001b[0m_make_callable\u001b[0m\u001b[0;34m(\u001b[0m\u001b[0mfeed_arrays\u001b[0m\u001b[0;34m,\u001b[0m \u001b[0mfeed_symbols\u001b[0m\u001b[0;34m,\u001b[0m \u001b[0msymbol_vals\u001b[0m\u001b[0;34m,\u001b[0m \u001b[0msession\u001b[0m\u001b[0;34m)\u001b[0m\u001b[0;34m\u001b[0m\u001b[0;34m\u001b[0m\u001b[0m\n\u001b[0m\u001b[1;32m   3074\u001b[0m \u001b[0;34m\u001b[0m\u001b[0m\n\u001b[1;32m   3075\u001b[0m     fetched = self._callable_fn(*array_vals,\n",
            "\u001b[0;32m/usr/local/lib/python3.6/dist-packages/tensorflow/python/keras/backend.py\u001b[0m in \u001b[0;36m_make_callable\u001b[0;34m(self, feed_arrays, feed_symbols, symbol_vals, session)\u001b[0m\n\u001b[1;32m   3017\u001b[0m       \u001b[0mcallable_opts\u001b[0m\u001b[0;34m.\u001b[0m\u001b[0mrun_options\u001b[0m\u001b[0;34m.\u001b[0m\u001b[0mCopyFrom\u001b[0m\u001b[0;34m(\u001b[0m\u001b[0mself\u001b[0m\u001b[0;34m.\u001b[0m\u001b[0mrun_options\u001b[0m\u001b[0;34m)\u001b[0m\u001b[0;34m\u001b[0m\u001b[0;34m\u001b[0m\u001b[0m\n\u001b[1;32m   3018\u001b[0m     \u001b[0;31m# Create callable.\u001b[0m\u001b[0;34m\u001b[0m\u001b[0;34m\u001b[0m\u001b[0;34m\u001b[0m\u001b[0m\n\u001b[0;32m-> 3019\u001b[0;31m     \u001b[0mcallable_fn\u001b[0m \u001b[0;34m=\u001b[0m \u001b[0msession\u001b[0m\u001b[0;34m.\u001b[0m\u001b[0m_make_callable_from_options\u001b[0m\u001b[0;34m(\u001b[0m\u001b[0mcallable_opts\u001b[0m\u001b[0;34m)\u001b[0m\u001b[0;34m\u001b[0m\u001b[0;34m\u001b[0m\u001b[0m\n\u001b[0m\u001b[1;32m   3020\u001b[0m     \u001b[0;31m# Cache parameters corresponding to the generated callable, so that\u001b[0m\u001b[0;34m\u001b[0m\u001b[0;34m\u001b[0m\u001b[0;34m\u001b[0m\u001b[0m\n\u001b[1;32m   3021\u001b[0m     \u001b[0;31m# we can detect future mismatches and refresh the callable.\u001b[0m\u001b[0;34m\u001b[0m\u001b[0;34m\u001b[0m\u001b[0;34m\u001b[0m\u001b[0m\n",
            "\u001b[0;32m/usr/local/lib/python3.6/dist-packages/tensorflow/python/client/session.py\u001b[0m in \u001b[0;36m_make_callable_from_options\u001b[0;34m(self, callable_options)\u001b[0m\n\u001b[1;32m   1469\u001b[0m     \"\"\"\n\u001b[1;32m   1470\u001b[0m     \u001b[0mself\u001b[0m\u001b[0;34m.\u001b[0m\u001b[0m_extend_graph\u001b[0m\u001b[0;34m(\u001b[0m\u001b[0;34m)\u001b[0m\u001b[0;34m\u001b[0m\u001b[0;34m\u001b[0m\u001b[0m\n\u001b[0;32m-> 1471\u001b[0;31m     \u001b[0;32mreturn\u001b[0m \u001b[0mBaseSession\u001b[0m\u001b[0;34m.\u001b[0m\u001b[0m_Callable\u001b[0m\u001b[0;34m(\u001b[0m\u001b[0mself\u001b[0m\u001b[0;34m,\u001b[0m \u001b[0mcallable_options\u001b[0m\u001b[0;34m)\u001b[0m\u001b[0;34m\u001b[0m\u001b[0;34m\u001b[0m\u001b[0m\n\u001b[0m\u001b[1;32m   1472\u001b[0m \u001b[0;34m\u001b[0m\u001b[0m\n\u001b[1;32m   1473\u001b[0m \u001b[0;34m\u001b[0m\u001b[0m\n",
            "\u001b[0;32m/usr/local/lib/python3.6/dist-packages/tensorflow/python/client/session.py\u001b[0m in \u001b[0;36m__init__\u001b[0;34m(self, session, callable_options)\u001b[0m\n\u001b[1;32m   1423\u001b[0m         \u001b[0;32mwith\u001b[0m \u001b[0merrors\u001b[0m\u001b[0;34m.\u001b[0m\u001b[0mraise_exception_on_not_ok_status\u001b[0m\u001b[0;34m(\u001b[0m\u001b[0;34m)\u001b[0m \u001b[0;32mas\u001b[0m \u001b[0mstatus\u001b[0m\u001b[0;34m:\u001b[0m\u001b[0;34m\u001b[0m\u001b[0;34m\u001b[0m\u001b[0m\n\u001b[1;32m   1424\u001b[0m           self._handle = tf_session.TF_SessionMakeCallable(\n\u001b[0;32m-> 1425\u001b[0;31m               session._session, options_ptr, status)\n\u001b[0m\u001b[1;32m   1426\u001b[0m       \u001b[0;32mfinally\u001b[0m\u001b[0;34m:\u001b[0m\u001b[0;34m\u001b[0m\u001b[0;34m\u001b[0m\u001b[0m\n\u001b[1;32m   1427\u001b[0m         \u001b[0mtf_session\u001b[0m\u001b[0;34m.\u001b[0m\u001b[0mTF_DeleteBuffer\u001b[0m\u001b[0;34m(\u001b[0m\u001b[0moptions_ptr\u001b[0m\u001b[0;34m)\u001b[0m\u001b[0;34m\u001b[0m\u001b[0;34m\u001b[0m\u001b[0m\n",
            "\u001b[0;31mKeyboardInterrupt\u001b[0m: "
          ]
        }
      ]
    },
    {
      "metadata": {
        "id": "H-0C67n3Bsat",
        "colab_type": "code",
        "colab": {}
      },
      "cell_type": "code",
      "source": [
        "grid.best_params_"
      ],
      "execution_count": 0,
      "outputs": []
    },
    {
      "metadata": {
        "id": "gRTPtDZ1W6xi",
        "colab_type": "code",
        "colab": {
          "base_uri": "https://localhost:8080/",
          "height": 6344
        },
        "outputId": "0c109ce7-952a-4b1c-b1ee-629d553496ef"
      },
      "cell_type": "code",
      "source": [
        "# Create outer cross-validation loop to assess average performance of hyperparameter model found by inner cross-validation loop\n",
        "outer_fold = KFold(n_splits=5, shuffle=True, random_state=rand_state)\n",
        "# Create array to track performance of models identified by inner loop\n",
        "outer_scores = []\n",
        "\n",
        "# The outer cross-validation loop\n",
        "for outfold, (outer_train_index, outer_test_index) in enumerate(outer_fold.split(train_dataframe), 1):\n",
        "  print(\"(Outer) Assessing performance on fold \" + str(outfold))\n",
        "  \n",
        "  outer_feature_train, outer_label_train = process_data(train_dataframe.iloc[outer_train_index].copy())\n",
        "  outer_feature_test, outer_label_test = process_data(train_dataframe.iloc[outer_test_index].copy())\n",
        "  \n",
        "  # Create inner cross-validation loop to optimize hyperparameters\n",
        "  inner_fold = KFold(n_splits=5, shuffle=True, random_state=rand_state)\n",
        "  # Create array to track performance of models with each hyperparameter combination\n",
        "  inner_mean_scores = []\n",
        "  \n",
        "  # Assorted hyperparameters to test and the dict compiling them\n",
        "  learn_rate = [0.001, 0.01]#, 0.1, 0.25, 0.5]\n",
        "  dropout_rate = [0.0, 0.5]#, 0.2, 0.4, 0.6, 0.8]\n",
        "  #dropout_rate_2 = dropout_rate_1.copy()\n",
        "  neurons = [16, 64]#[1, 4, 16, 64]\n",
        "  #neurons_2 = neurons_1.copy()\n",
        "  #epochs = [10, 50]#, 100, 1000]\n",
        "  parameters = dict(#learn_rate=learn_rate,\n",
        "                    #dropout_rate=dropout_rate,\n",
        "                    #dropout_rate_2=dropout_rate_2,\n",
        "                    neurons=neurons,\n",
        "                    #neurons_2=neurons_2,\n",
        "                    #epochs=epochs\n",
        "                   )\n",
        "  \n",
        "  # The inner cross-validation loop\n",
        "  for infold, (inner_train_index, inner_test_index) in enumerate(inner_fold.split(outer_feature_train), 1):\n",
        "    print(\"(Inner) Assessing hyperparameter performance on fold \" + str(infold))\n",
        "    \n",
        "    inner_feature_train, inner_feature_test = outer_feature_train.iloc[inner_train_index], outer_feature_train.iloc[inner_test_index]\n",
        "    inner_label_train, inner_label_test = outer_label_train.iloc[inner_train_index], outer_label_train.iloc[inner_test_index]\n",
        "    \n",
        "    inner_model = KerasRegressor(build_fn=build_model)\n",
        "    grid = GridSearchCV(estimator=inner_model, param_grid=parameters, scoring='neg_mean_squared_error', cv=3)\n",
        "    grid_result = grid.fit(inner_feature_train, inner_label_train)\n",
        "    # summarize results\n",
        "    print(\"Best: %f using %s\" % (grid_result.best_score_, grid_result.best_params_))\n",
        "    means = grid_result.cv_results_['mean_test_score']\n",
        "    stds = grid_result.cv_results_['std_test_score']\n",
        "    params = grid_result.cv_results_['params']\n",
        "    for mean, stdev, param in zip(means, stds, params):\n",
        "      print(\"%f (%f) with: %r\" % (mean, stdev, param))\n",
        "  \n",
        "  \n",
        "  best_model = None\n",
        "  best_model = build_model()\n",
        "  outer_history = train_model(best_model, outer_feature_train, outer_label_train, outer_feature_test, outer_label_test, epochs=100)\n",
        "  outer_hist = pd.DataFrame(outer_history.history)\n",
        "  display.display(outer_hist.tail())"
      ],
      "execution_count": 16,
      "outputs": [
        {
          "output_type": "stream",
          "text": [
            "(Outer) Assessing performance on fold 1\n",
            "(Inner) Assessing hyperparameter performance on fold 1\n",
            "168/168 [==============================] - 0s 3ms/sample - loss: 6.6862 - mean_absolute_error: 2.5431 - mean_squared_error: 6.6862\n",
            "168/168 [==============================] - 0s 3ms/sample - loss: 6.8431 - mean_absolute_error: 2.5644 - mean_squared_error: 6.8431\n",
            "168/168 [==============================] - 0s 3ms/sample - loss: 4.9501 - mean_absolute_error: 2.1733 - mean_squared_error: 4.9501\n",
            "168/168 [==============================] - 0s 3ms/sample - loss: 4.7114 - mean_absolute_error: 2.0999 - mean_squared_error: 4.7114\n",
            "168/168 [==============================] - 0s 3ms/sample - loss: 5.2524 - mean_absolute_error: 2.2251 - mean_squared_error: 5.2524\n",
            "168/168 [==============================] - 0s 3ms/sample - loss: 4.5440 - mean_absolute_error: 2.0535 - mean_squared_error: 4.5440\n",
            "252/252 [==============================] - 0s 2ms/sample - loss: 6.2779 - mean_absolute_error: 2.4336 - mean_squared_error: 6.2779\n",
            "Best: -3.067360 using {'neurons': 64}\n",
            "-4.994781 (0.760710) with: {'neurons': 16}\n",
            "-3.067360 (0.178459) with: {'neurons': 64}\n",
            "(Inner) Assessing hyperparameter performance on fold 2\n",
            "168/168 [==============================] - 0s 3ms/sample - loss: 5.4483 - mean_absolute_error: 2.2617 - mean_squared_error: 5.4483\n",
            "168/168 [==============================] - 1s 3ms/sample - loss: 5.0142 - mean_absolute_error: 2.1215 - mean_squared_error: 5.0142\n",
            "168/168 [==============================] - 1s 3ms/sample - loss: 6.7142 - mean_absolute_error: 2.5443 - mean_squared_error: 6.7142\n",
            "168/168 [==============================] - 1s 3ms/sample - loss: 5.7480 - mean_absolute_error: 2.3292 - mean_squared_error: 5.7480\n",
            "168/168 [==============================] - 1s 3ms/sample - loss: 4.9981 - mean_absolute_error: 2.1263 - mean_squared_error: 4.9981\n",
            "168/168 [==============================] - 1s 3ms/sample - loss: 4.2774 - mean_absolute_error: 2.0040 - mean_squared_error: 4.2774\n",
            "252/252 [==============================] - 1s 2ms/sample - loss: 3.5705 - mean_absolute_error: 1.7798 - mean_squared_error: 3.5705\n",
            "Best: -3.368969 using {'neurons': 64}\n",
            "-4.769016 (0.477469) with: {'neurons': 16}\n",
            "-3.368969 (0.834800) with: {'neurons': 64}\n",
            "(Inner) Assessing hyperparameter performance on fold 3\n",
            "168/168 [==============================] - 1s 3ms/sample - loss: 4.9347 - mean_absolute_error: 2.1177 - mean_squared_error: 4.9347\n",
            "168/168 [==============================] - 1s 3ms/sample - loss: 5.5582 - mean_absolute_error: 2.2686 - mean_squared_error: 5.5582\n",
            "168/168 [==============================] - 1s 4ms/sample - loss: 5.7730 - mean_absolute_error: 2.3594 - mean_squared_error: 5.7730\n",
            "168/168 [==============================] - 1s 4ms/sample - loss: 5.1811 - mean_absolute_error: 2.1958 - mean_squared_error: 5.1811\n",
            "168/168 [==============================] - 1s 4ms/sample - loss: 5.8257 - mean_absolute_error: 2.3444 - mean_squared_error: 5.8257\n",
            "168/168 [==============================] - 1s 4ms/sample - loss: 5.7744 - mean_absolute_error: 2.3449 - mean_squared_error: 5.7744\n",
            "252/252 [==============================] - 1s 3ms/sample - loss: 2.7066 - mean_absolute_error: 1.5173 - mean_squared_error: 2.7066\n",
            "Best: -3.568667 using {'neurons': 64}\n",
            "-4.260035 (0.297585) with: {'neurons': 16}\n",
            "-3.568667 (0.103905) with: {'neurons': 64}\n",
            "(Inner) Assessing hyperparameter performance on fold 4\n",
            "168/168 [==============================] - 1s 4ms/sample - loss: 2.9855 - mean_absolute_error: 1.5712 - mean_squared_error: 2.9855\n",
            "168/168 [==============================] - 1s 4ms/sample - loss: 5.1368 - mean_absolute_error: 2.2109 - mean_squared_error: 5.1368\n",
            "168/168 [==============================] - 1s 4ms/sample - loss: 6.7536 - mean_absolute_error: 2.5224 - mean_squared_error: 6.7536\n",
            "168/168 [==============================] - 1s 4ms/sample - loss: 3.3927 - mean_absolute_error: 1.6304 - mean_squared_error: 3.3927\n",
            "168/168 [==============================] - 1s 4ms/sample - loss: 4.3904 - mean_absolute_error: 2.0075 - mean_squared_error: 4.3904\n",
            "168/168 [==============================] - 1s 4ms/sample - loss: 3.3115 - mean_absolute_error: 1.7142 - mean_squared_error: 3.3115\n",
            "252/252 [==============================] - 1s 3ms/sample - loss: 4.9909 - mean_absolute_error: 2.1420 - mean_squared_error: 4.9909\n",
            "Best: -2.123536 using {'neurons': 64}\n",
            "-3.804452 (0.811591) with: {'neurons': 16}\n",
            "-2.123536 (0.432052) with: {'neurons': 64}\n",
            "(Inner) Assessing hyperparameter performance on fold 5\n",
            "168/168 [==============================] - 1s 4ms/sample - loss: 5.6051 - mean_absolute_error: 2.2996 - mean_squared_error: 5.6051\n",
            "168/168 [==============================] - 1s 4ms/sample - loss: 8.2478 - mean_absolute_error: 2.8081 - mean_squared_error: 8.2478\n",
            "168/168 [==============================] - 1s 4ms/sample - loss: 5.8133 - mean_absolute_error: 2.3406 - mean_squared_error: 5.8133\n",
            "168/168 [==============================] - 1s 4ms/sample - loss: 4.9467 - mean_absolute_error: 2.1082 - mean_squared_error: 4.9467\n",
            "168/168 [==============================] - 1s 4ms/sample - loss: 4.2790 - mean_absolute_error: 1.9377 - mean_squared_error: 4.2790\n",
            "168/168 [==============================] - 1s 5ms/sample - loss: 6.6532 - mean_absolute_error: 2.5300 - mean_squared_error: 6.6532\n",
            "252/252 [==============================] - 1s 3ms/sample - loss: 3.8551 - mean_absolute_error: 1.8454 - mean_squared_error: 3.8551\n",
            "Best: -3.293345 using {'neurons': 64}\n",
            "-5.108787 (0.929489) with: {'neurons': 16}\n",
            "-3.293345 (0.660154) with: {'neurons': 64}\n"
          ],
          "name": "stdout"
        },
        {
          "output_type": "display_data",
          "data": {
            "text/html": [
              "<div>\n",
              "<style scoped>\n",
              "    .dataframe tbody tr th:only-of-type {\n",
              "        vertical-align: middle;\n",
              "    }\n",
              "\n",
              "    .dataframe tbody tr th {\n",
              "        vertical-align: top;\n",
              "    }\n",
              "\n",
              "    .dataframe thead th {\n",
              "        text-align: right;\n",
              "    }\n",
              "</style>\n",
              "<table border=\"1\" class=\"dataframe\">\n",
              "  <thead>\n",
              "    <tr style=\"text-align: right;\">\n",
              "      <th></th>\n",
              "      <th>loss</th>\n",
              "      <th>mean_absolute_error</th>\n",
              "      <th>mean_squared_error</th>\n",
              "      <th>val_loss</th>\n",
              "      <th>val_mean_absolute_error</th>\n",
              "      <th>val_mean_squared_error</th>\n",
              "    </tr>\n",
              "  </thead>\n",
              "  <tbody>\n",
              "    <tr>\n",
              "      <th>95</th>\n",
              "      <td>0.156</td>\n",
              "      <td>0.310</td>\n",
              "      <td>0.156</td>\n",
              "      <td>0.094</td>\n",
              "      <td>0.235</td>\n",
              "      <td>0.094</td>\n",
              "    </tr>\n",
              "    <tr>\n",
              "      <th>96</th>\n",
              "      <td>0.153</td>\n",
              "      <td>0.306</td>\n",
              "      <td>0.153</td>\n",
              "      <td>0.096</td>\n",
              "      <td>0.239</td>\n",
              "      <td>0.096</td>\n",
              "    </tr>\n",
              "    <tr>\n",
              "      <th>97</th>\n",
              "      <td>0.150</td>\n",
              "      <td>0.301</td>\n",
              "      <td>0.150</td>\n",
              "      <td>0.086</td>\n",
              "      <td>0.224</td>\n",
              "      <td>0.086</td>\n",
              "    </tr>\n",
              "    <tr>\n",
              "      <th>98</th>\n",
              "      <td>0.146</td>\n",
              "      <td>0.296</td>\n",
              "      <td>0.146</td>\n",
              "      <td>0.088</td>\n",
              "      <td>0.227</td>\n",
              "      <td>0.088</td>\n",
              "    </tr>\n",
              "    <tr>\n",
              "      <th>99</th>\n",
              "      <td>0.143</td>\n",
              "      <td>0.292</td>\n",
              "      <td>0.143</td>\n",
              "      <td>0.089</td>\n",
              "      <td>0.230</td>\n",
              "      <td>0.089</td>\n",
              "    </tr>\n",
              "  </tbody>\n",
              "</table>\n",
              "</div>"
            ],
            "text/plain": [
              "    loss  mean_absolute_error  mean_squared_error  val_loss  \\\n",
              "95 0.156                0.310               0.156     0.094   \n",
              "96 0.153                0.306               0.153     0.096   \n",
              "97 0.150                0.301               0.150     0.086   \n",
              "98 0.146                0.296               0.146     0.088   \n",
              "99 0.143                0.292               0.143     0.089   \n",
              "\n",
              "    val_mean_absolute_error  val_mean_squared_error  \n",
              "95                    0.235                   0.094  \n",
              "96                    0.239                   0.096  \n",
              "97                    0.224                   0.086  \n",
              "98                    0.227                   0.088  \n",
              "99                    0.230                   0.089  "
            ]
          },
          "metadata": {
            "tags": []
          }
        },
        {
          "output_type": "stream",
          "text": [
            "(Outer) Assessing performance on fold 2\n",
            "(Inner) Assessing hyperparameter performance on fold 1\n",
            "170/170 [==============================] - 1s 5ms/sample - loss: 4.7639 - mean_absolute_error: 2.0796 - mean_squared_error: 4.7639\n",
            "171/171 [==============================] - 1s 5ms/sample - loss: 5.8843 - mean_absolute_error: 2.3493 - mean_squared_error: 5.8843\n",
            "171/171 [==============================] - 1s 5ms/sample - loss: 4.3809 - mean_absolute_error: 2.0214 - mean_squared_error: 4.3809\n",
            "170/170 [==============================] - 1s 5ms/sample - loss: 3.6048 - mean_absolute_error: 1.7823 - mean_squared_error: 3.6048\n",
            "171/171 [==============================] - 1s 5ms/sample - loss: 5.0818 - mean_absolute_error: 2.1465 - mean_squared_error: 5.0818\n",
            "171/171 [==============================] - 1s 5ms/sample - loss: 5.9260 - mean_absolute_error: 2.3694 - mean_squared_error: 5.9260\n"
          ],
          "name": "stdout"
        },
        {
          "output_type": "stream",
          "text": [
            "/usr/local/lib/python3.6/dist-packages/sklearn/model_selection/_search.py:841: DeprecationWarning: The default of the `iid` parameter will change from True to False in version 0.22 and will be removed in 0.24. This will change numeric results when test-set sizes are unequal.\n",
            "  DeprecationWarning)\n"
          ],
          "name": "stderr"
        },
        {
          "output_type": "stream",
          "text": [
            "256/256 [==============================] - 1s 3ms/sample - loss: 3.5352 - mean_absolute_error: 1.7676 - mean_squared_error: 3.5352\n",
            "Best: -3.019333 using {'neurons': 64}\n",
            "-4.096120 (0.654263) with: {'neurons': 16}\n",
            "-3.019333 (0.551953) with: {'neurons': 64}\n",
            "(Inner) Assessing hyperparameter performance on fold 2\n",
            "171/171 [==============================] - 1s 5ms/sample - loss: 7.3174 - mean_absolute_error: 2.6519 - mean_squared_error: 7.3174\n",
            "171/171 [==============================] - 1s 5ms/sample - loss: 5.9167 - mean_absolute_error: 2.3188 - mean_squared_error: 5.9167\n",
            "172/172 [==============================] - 1s 5ms/sample - loss: 5.8310 - mean_absolute_error: 2.3573 - mean_squared_error: 5.8310\n",
            "171/171 [==============================] - 1s 5ms/sample - loss: 3.8471 - mean_absolute_error: 1.8461 - mean_squared_error: 3.8471\n",
            "171/171 [==============================] - 1s 5ms/sample - loss: 4.8456 - mean_absolute_error: 2.1033 - mean_squared_error: 4.8456\n",
            "172/172 [==============================] - 1s 5ms/sample - loss: 5.0245 - mean_absolute_error: 2.1510 - mean_squared_error: 5.0245\n"
          ],
          "name": "stdout"
        },
        {
          "output_type": "stream",
          "text": [
            "/usr/local/lib/python3.6/dist-packages/sklearn/model_selection/_search.py:841: DeprecationWarning: The default of the `iid` parameter will change from True to False in version 0.22 and will be removed in 0.24. This will change numeric results when test-set sizes are unequal.\n",
            "  DeprecationWarning)\n"
          ],
          "name": "stderr"
        },
        {
          "output_type": "stream",
          "text": [
            "257/257 [==============================] - 1s 4ms/sample - loss: 3.4759 - mean_absolute_error: 1.7209 - mean_squared_error: 3.4759\n",
            "Best: -2.683231 using {'neurons': 64}\n",
            "-5.159980 (0.940233) with: {'neurons': 16}\n",
            "-2.683231 (0.174536) with: {'neurons': 64}\n",
            "(Inner) Assessing hyperparameter performance on fold 3\n",
            "171/171 [==============================] - 1s 6ms/sample - loss: 6.9773 - mean_absolute_error: 2.5831 - mean_squared_error: 6.9773\n",
            "171/171 [==============================] - 1s 5ms/sample - loss: 8.2665 - mean_absolute_error: 2.8310 - mean_squared_error: 8.2665\n",
            "172/172 [==============================] - 1s 5ms/sample - loss: 3.8174 - mean_absolute_error: 1.8812 - mean_squared_error: 3.8174\n",
            "171/171 [==============================] - 1s 6ms/sample - loss: 4.0749 - mean_absolute_error: 1.9266 - mean_squared_error: 4.0749\n",
            "171/171 [==============================] - 1s 6ms/sample - loss: 4.4599 - mean_absolute_error: 2.0123 - mean_squared_error: 4.4599\n",
            "172/172 [==============================] - 1s 6ms/sample - loss: 3.8695 - mean_absolute_error: 1.8583 - mean_squared_error: 3.8695\n"
          ],
          "name": "stdout"
        },
        {
          "output_type": "stream",
          "text": [
            "/usr/local/lib/python3.6/dist-packages/sklearn/model_selection/_search.py:841: DeprecationWarning: The default of the `iid` parameter will change from True to False in version 0.22 and will be removed in 0.24. This will change numeric results when test-set sizes are unequal.\n",
            "  DeprecationWarning)\n"
          ],
          "name": "stderr"
        },
        {
          "output_type": "stream",
          "text": [
            "257/257 [==============================] - 1s 4ms/sample - loss: 3.8179 - mean_absolute_error: 1.8492 - mean_squared_error: 3.8179\n",
            "Best: -2.286386 using {'neurons': 64}\n",
            "-5.126822 (1.717334) with: {'neurons': 16}\n",
            "-2.286386 (0.217856) with: {'neurons': 64}\n",
            "(Inner) Assessing hyperparameter performance on fold 4\n",
            "171/171 [==============================] - 1s 6ms/sample - loss: 6.4908 - mean_absolute_error: 2.4866 - mean_squared_error: 6.4908\n",
            "171/171 [==============================] - 1s 6ms/sample - loss: 2.9939 - mean_absolute_error: 1.5729 - mean_squared_error: 2.9939\n",
            "172/172 [==============================] - 1s 6ms/sample - loss: 5.9099 - mean_absolute_error: 2.3690 - mean_squared_error: 5.9099\n",
            "171/171 [==============================] - 1s 6ms/sample - loss: 5.8896 - mean_absolute_error: 2.3562 - mean_squared_error: 5.8896\n",
            "171/171 [==============================] - 1s 6ms/sample - loss: 4.4177 - mean_absolute_error: 2.0224 - mean_squared_error: 4.4177\n",
            "172/172 [==============================] - 1s 6ms/sample - loss: 5.2126 - mean_absolute_error: 2.2050 - mean_squared_error: 5.2126\n"
          ],
          "name": "stdout"
        },
        {
          "output_type": "stream",
          "text": [
            "/usr/local/lib/python3.6/dist-packages/sklearn/model_selection/_search.py:841: DeprecationWarning: The default of the `iid` parameter will change from True to False in version 0.22 and will be removed in 0.24. This will change numeric results when test-set sizes are unequal.\n",
            "  DeprecationWarning)\n"
          ],
          "name": "stderr"
        },
        {
          "output_type": "stream",
          "text": [
            "257/257 [==============================] - 1s 4ms/sample - loss: 4.4057 - mean_absolute_error: 1.9848 - mean_squared_error: 4.4057\n",
            "Best: -3.339873 using {'neurons': 64}\n",
            "-4.195506 (1.753846) with: {'neurons': 16}\n",
            "-3.339873 (1.088709) with: {'neurons': 64}\n",
            "(Inner) Assessing hyperparameter performance on fold 5\n",
            "171/171 [==============================] - 1s 6ms/sample - loss: 7.8133 - mean_absolute_error: 2.7445 - mean_squared_error: 7.8133\n",
            "171/171 [==============================] - 1s 6ms/sample - loss: 4.8070 - mean_absolute_error: 2.0614 - mean_squared_error: 4.8070\n",
            "172/172 [==============================] - 1s 6ms/sample - loss: 4.9871 - mean_absolute_error: 2.1595 - mean_squared_error: 4.9871\n",
            "171/171 [==============================] - 1s 6ms/sample - loss: 4.7131 - mean_absolute_error: 2.0887 - mean_squared_error: 4.7131\n",
            "171/171 [==============================] - 1s 6ms/sample - loss: 4.9024 - mean_absolute_error: 2.1262 - mean_squared_error: 4.9024\n",
            "172/172 [==============================] - 1s 6ms/sample - loss: 6.4445 - mean_absolute_error: 2.4811 - mean_squared_error: 6.4445\n"
          ],
          "name": "stdout"
        },
        {
          "output_type": "stream",
          "text": [
            "/usr/local/lib/python3.6/dist-packages/sklearn/model_selection/_search.py:841: DeprecationWarning: The default of the `iid` parameter will change from True to False in version 0.22 and will be removed in 0.24. This will change numeric results when test-set sizes are unequal.\n",
            "  DeprecationWarning)\n"
          ],
          "name": "stderr"
        },
        {
          "output_type": "stream",
          "text": [
            "257/257 [==============================] - 1s 4ms/sample - loss: 3.8758 - mean_absolute_error: 1.8425 - mean_squared_error: 3.8758\n",
            "Best: -3.403662 using {'neurons': 64}\n",
            "-4.818394 (1.562586) with: {'neurons': 16}\n",
            "-3.403662 (0.606078) with: {'neurons': 64}\n"
          ],
          "name": "stdout"
        },
        {
          "output_type": "display_data",
          "data": {
            "text/html": [
              "<div>\n",
              "<style scoped>\n",
              "    .dataframe tbody tr th:only-of-type {\n",
              "        vertical-align: middle;\n",
              "    }\n",
              "\n",
              "    .dataframe tbody tr th {\n",
              "        vertical-align: top;\n",
              "    }\n",
              "\n",
              "    .dataframe thead th {\n",
              "        text-align: right;\n",
              "    }\n",
              "</style>\n",
              "<table border=\"1\" class=\"dataframe\">\n",
              "  <thead>\n",
              "    <tr style=\"text-align: right;\">\n",
              "      <th></th>\n",
              "      <th>loss</th>\n",
              "      <th>mean_absolute_error</th>\n",
              "      <th>mean_squared_error</th>\n",
              "      <th>val_loss</th>\n",
              "      <th>val_mean_absolute_error</th>\n",
              "      <th>val_mean_squared_error</th>\n",
              "    </tr>\n",
              "  </thead>\n",
              "  <tbody>\n",
              "    <tr>\n",
              "      <th>91</th>\n",
              "      <td>0.087</td>\n",
              "      <td>0.197</td>\n",
              "      <td>0.087</td>\n",
              "      <td>0.086</td>\n",
              "      <td>0.206</td>\n",
              "      <td>0.086</td>\n",
              "    </tr>\n",
              "    <tr>\n",
              "      <th>92</th>\n",
              "      <td>0.088</td>\n",
              "      <td>0.197</td>\n",
              "      <td>0.088</td>\n",
              "      <td>0.095</td>\n",
              "      <td>0.227</td>\n",
              "      <td>0.095</td>\n",
              "    </tr>\n",
              "    <tr>\n",
              "      <th>93</th>\n",
              "      <td>0.088</td>\n",
              "      <td>0.199</td>\n",
              "      <td>0.088</td>\n",
              "      <td>0.080</td>\n",
              "      <td>0.193</td>\n",
              "      <td>0.080</td>\n",
              "    </tr>\n",
              "    <tr>\n",
              "      <th>94</th>\n",
              "      <td>0.087</td>\n",
              "      <td>0.196</td>\n",
              "      <td>0.087</td>\n",
              "      <td>0.084</td>\n",
              "      <td>0.202</td>\n",
              "      <td>0.084</td>\n",
              "    </tr>\n",
              "    <tr>\n",
              "      <th>95</th>\n",
              "      <td>0.087</td>\n",
              "      <td>0.196</td>\n",
              "      <td>0.087</td>\n",
              "      <td>0.080</td>\n",
              "      <td>0.191</td>\n",
              "      <td>0.080</td>\n",
              "    </tr>\n",
              "  </tbody>\n",
              "</table>\n",
              "</div>"
            ],
            "text/plain": [
              "    loss  mean_absolute_error  mean_squared_error  val_loss  \\\n",
              "91 0.087                0.197               0.087     0.086   \n",
              "92 0.088                0.197               0.088     0.095   \n",
              "93 0.088                0.199               0.088     0.080   \n",
              "94 0.087                0.196               0.087     0.084   \n",
              "95 0.087                0.196               0.087     0.080   \n",
              "\n",
              "    val_mean_absolute_error  val_mean_squared_error  \n",
              "91                    0.206                   0.086  \n",
              "92                    0.227                   0.095  \n",
              "93                    0.193                   0.080  \n",
              "94                    0.202                   0.084  \n",
              "95                    0.191                   0.080  "
            ]
          },
          "metadata": {
            "tags": []
          }
        },
        {
          "output_type": "stream",
          "text": [
            "(Outer) Assessing performance on fold 3\n",
            "(Inner) Assessing hyperparameter performance on fold 1\n",
            "166/166 [==============================] - 1s 7ms/sample - loss: 5.8008 - mean_absolute_error: 2.3557 - mean_squared_error: 5.8008\n",
            "167/167 [==============================] - 1s 7ms/sample - loss: 8.2327 - mean_absolute_error: 2.8180 - mean_squared_error: 8.2327\n",
            "167/167 [==============================] - 1s 7ms/sample - loss: 6.1591 - mean_absolute_error: 2.4106 - mean_squared_error: 6.1591\n",
            "166/166 [==============================] - 1s 7ms/sample - loss: 3.8141 - mean_absolute_error: 1.8574 - mean_squared_error: 3.8141\n",
            "167/167 [==============================] - 1s 7ms/sample - loss: 4.4160 - mean_absolute_error: 2.0289 - mean_squared_error: 4.4160\n",
            "167/167 [==============================] - 1s 7ms/sample - loss: 4.5853 - mean_absolute_error: 2.0704 - mean_squared_error: 4.5853\n"
          ],
          "name": "stdout"
        },
        {
          "output_type": "stream",
          "text": [
            "/usr/local/lib/python3.6/dist-packages/sklearn/model_selection/_search.py:841: DeprecationWarning: The default of the `iid` parameter will change from True to False in version 0.22 and will be removed in 0.24. This will change numeric results when test-set sizes are unequal.\n",
            "  DeprecationWarning)\n"
          ],
          "name": "stderr"
        },
        {
          "output_type": "stream",
          "text": [
            "250/250 [==============================] - 1s 5ms/sample - loss: 6.5557 - mean_absolute_error: 2.5119 - mean_squared_error: 6.5557\n",
            "Best: -2.459351 using {'neurons': 64}\n",
            "-5.421214 (0.844713) with: {'neurons': 16}\n",
            "-2.459351 (0.142295) with: {'neurons': 64}\n",
            "(Inner) Assessing hyperparameter performance on fold 2\n",
            "166/166 [==============================] - 1s 7ms/sample - loss: 5.6354 - mean_absolute_error: 2.2932 - mean_squared_error: 5.6354\n",
            "167/167 [==============================] - 1s 7ms/sample - loss: 7.3705 - mean_absolute_error: 2.6464 - mean_squared_error: 7.3705\n",
            "167/167 [==============================] - 1s 7ms/sample - loss: 6.0690 - mean_absolute_error: 2.4064 - mean_squared_error: 6.0690\n",
            "166/166 [==============================] - 1s 7ms/sample - loss: 5.4097 - mean_absolute_error: 2.2297 - mean_squared_error: 5.4097\n",
            "167/167 [==============================] - 1s 7ms/sample - loss: 5.7092 - mean_absolute_error: 2.3203 - mean_squared_error: 5.7092\n",
            "167/167 [==============================] - 1s 8ms/sample - loss: 3.9390 - mean_absolute_error: 1.8727 - mean_squared_error: 3.9390\n"
          ],
          "name": "stdout"
        },
        {
          "output_type": "stream",
          "text": [
            "/usr/local/lib/python3.6/dist-packages/sklearn/model_selection/_search.py:841: DeprecationWarning: The default of the `iid` parameter will change from True to False in version 0.22 and will be removed in 0.24. This will change numeric results when test-set sizes are unequal.\n",
            "  DeprecationWarning)\n"
          ],
          "name": "stderr"
        },
        {
          "output_type": "stream",
          "text": [
            "250/250 [==============================] - 2s 7ms/sample - loss: 3.5277 - mean_absolute_error: 1.7606 - mean_squared_error: 3.5277\n",
            "Best: -2.970616 using {'neurons': 64}\n",
            "-5.121244 (0.753339) with: {'neurons': 16}\n",
            "-2.970616 (0.866074) with: {'neurons': 64}\n",
            "(Inner) Assessing hyperparameter performance on fold 3\n",
            "166/166 [==============================] - 1s 8ms/sample - loss: 5.6310 - mean_absolute_error: 2.3100 - mean_squared_error: 5.6310\n",
            "167/167 [==============================] - 1s 8ms/sample - loss: 5.2854 - mean_absolute_error: 2.2481 - mean_squared_error: 5.2854\n",
            "167/167 [==============================] - 1s 8ms/sample - loss: 5.2847 - mean_absolute_error: 2.2181 - mean_squared_error: 5.2847\n",
            "166/166 [==============================] - 1s 8ms/sample - loss: 4.7860 - mean_absolute_error: 2.0557 - mean_squared_error: 4.7860\n",
            "167/167 [==============================] - 1s 8ms/sample - loss: 5.2558 - mean_absolute_error: 2.2225 - mean_squared_error: 5.2558\n",
            "167/167 [==============================] - 1s 8ms/sample - loss: 5.4426 - mean_absolute_error: 2.2507 - mean_squared_error: 5.4426\n"
          ],
          "name": "stdout"
        },
        {
          "output_type": "stream",
          "text": [
            "/usr/local/lib/python3.6/dist-packages/sklearn/model_selection/_search.py:841: DeprecationWarning: The default of the `iid` parameter will change from True to False in version 0.22 and will be removed in 0.24. This will change numeric results when test-set sizes are unequal.\n",
            "  DeprecationWarning)\n"
          ],
          "name": "stderr"
        },
        {
          "output_type": "stream",
          "text": [
            "250/250 [==============================] - 1s 5ms/sample - loss: 5.8741 - mean_absolute_error: 2.3397 - mean_squared_error: 5.8741\n",
            "Best: -3.338089 using {'neurons': 64}\n",
            "-4.314854 (0.420677) with: {'neurons': 16}\n",
            "-3.338089 (0.022669) with: {'neurons': 64}\n",
            "(Inner) Assessing hyperparameter performance on fold 4\n",
            "167/167 [==============================] - 1s 8ms/sample - loss: 7.0874 - mean_absolute_error: 2.6231 - mean_squared_error: 7.0874\n",
            "167/167 [==============================] - 1s 8ms/sample - loss: 8.0955 - mean_absolute_error: 2.7951 - mean_squared_error: 8.0955\n",
            "168/168 [==============================] - 1s 8ms/sample - loss: 7.0952 - mean_absolute_error: 2.6142 - mean_squared_error: 7.0952\n",
            "167/167 [==============================] - 1s 8ms/sample - loss: 5.6288 - mean_absolute_error: 2.3145 - mean_squared_error: 5.6288\n",
            "167/167 [==============================] - 1s 8ms/sample - loss: 5.3575 - mean_absolute_error: 2.2242 - mean_squared_error: 5.3575\n",
            "168/168 [==============================] - 1s 8ms/sample - loss: 6.8520 - mean_absolute_error: 2.5609 - mean_squared_error: 6.8520\n"
          ],
          "name": "stdout"
        },
        {
          "output_type": "stream",
          "text": [
            "/usr/local/lib/python3.6/dist-packages/sklearn/model_selection/_search.py:841: DeprecationWarning: The default of the `iid` parameter will change from True to False in version 0.22 and will be removed in 0.24. This will change numeric results when test-set sizes are unequal.\n",
            "  DeprecationWarning)\n"
          ],
          "name": "stderr"
        },
        {
          "output_type": "stream",
          "text": [
            "251/251 [==============================] - 1s 6ms/sample - loss: 5.2802 - mean_absolute_error: 2.2041 - mean_squared_error: 5.2802\n",
            "Best: -3.807395 using {'neurons': 64}\n",
            "-6.341001 (0.660318) with: {'neurons': 16}\n",
            "-3.807395 (0.306264) with: {'neurons': 64}\n",
            "(Inner) Assessing hyperparameter performance on fold 5\n",
            "167/167 [==============================] - 1s 8ms/sample - loss: 5.6773 - mean_absolute_error: 2.3274 - mean_squared_error: 5.6773\n",
            "167/167 [==============================] - 1s 9ms/sample - loss: 6.6595 - mean_absolute_error: 2.5328 - mean_squared_error: 6.6595\n",
            "168/168 [==============================] - 1s 8ms/sample - loss: 6.8722 - mean_absolute_error: 2.5654 - mean_squared_error: 6.8722\n",
            "167/167 [==============================] - 1s 9ms/sample - loss: 6.7461 - mean_absolute_error: 2.5397 - mean_squared_error: 6.7461\n",
            "167/167 [==============================] - 1s 9ms/sample - loss: 5.3725 - mean_absolute_error: 2.2243 - mean_squared_error: 5.3725\n",
            "168/168 [==============================] - 1s 9ms/sample - loss: 6.5373 - mean_absolute_error: 2.4976 - mean_squared_error: 6.5373\n"
          ],
          "name": "stdout"
        },
        {
          "output_type": "stream",
          "text": [
            "/usr/local/lib/python3.6/dist-packages/sklearn/model_selection/_search.py:841: DeprecationWarning: The default of the `iid` parameter will change from True to False in version 0.22 and will be removed in 0.24. This will change numeric results when test-set sizes are unequal.\n",
            "  DeprecationWarning)\n"
          ],
          "name": "stderr"
        },
        {
          "output_type": "stream",
          "text": [
            "251/251 [==============================] - 2s 6ms/sample - loss: 3.5851 - mean_absolute_error: 1.7714 - mean_squared_error: 3.5851\n",
            "Best: -4.121561 using {'neurons': 64}\n",
            "-5.328840 (0.101047) with: {'neurons': 16}\n",
            "-4.121561 (0.839249) with: {'neurons': 64}\n"
          ],
          "name": "stdout"
        },
        {
          "output_type": "display_data",
          "data": {
            "text/html": [
              "<div>\n",
              "<style scoped>\n",
              "    .dataframe tbody tr th:only-of-type {\n",
              "        vertical-align: middle;\n",
              "    }\n",
              "\n",
              "    .dataframe tbody tr th {\n",
              "        vertical-align: top;\n",
              "    }\n",
              "\n",
              "    .dataframe thead th {\n",
              "        text-align: right;\n",
              "    }\n",
              "</style>\n",
              "<table border=\"1\" class=\"dataframe\">\n",
              "  <thead>\n",
              "    <tr style=\"text-align: right;\">\n",
              "      <th></th>\n",
              "      <th>loss</th>\n",
              "      <th>mean_absolute_error</th>\n",
              "      <th>mean_squared_error</th>\n",
              "      <th>val_loss</th>\n",
              "      <th>val_mean_absolute_error</th>\n",
              "      <th>val_mean_squared_error</th>\n",
              "    </tr>\n",
              "  </thead>\n",
              "  <tbody>\n",
              "    <tr>\n",
              "      <th>95</th>\n",
              "      <td>0.079</td>\n",
              "      <td>0.188</td>\n",
              "      <td>0.079</td>\n",
              "      <td>0.119</td>\n",
              "      <td>0.234</td>\n",
              "      <td>0.119</td>\n",
              "    </tr>\n",
              "    <tr>\n",
              "      <th>96</th>\n",
              "      <td>0.079</td>\n",
              "      <td>0.186</td>\n",
              "      <td>0.079</td>\n",
              "      <td>0.125</td>\n",
              "      <td>0.246</td>\n",
              "      <td>0.125</td>\n",
              "    </tr>\n",
              "    <tr>\n",
              "      <th>97</th>\n",
              "      <td>0.078</td>\n",
              "      <td>0.182</td>\n",
              "      <td>0.078</td>\n",
              "      <td>0.120</td>\n",
              "      <td>0.235</td>\n",
              "      <td>0.120</td>\n",
              "    </tr>\n",
              "    <tr>\n",
              "      <th>98</th>\n",
              "      <td>0.079</td>\n",
              "      <td>0.189</td>\n",
              "      <td>0.079</td>\n",
              "      <td>0.116</td>\n",
              "      <td>0.227</td>\n",
              "      <td>0.116</td>\n",
              "    </tr>\n",
              "    <tr>\n",
              "      <th>99</th>\n",
              "      <td>0.078</td>\n",
              "      <td>0.185</td>\n",
              "      <td>0.078</td>\n",
              "      <td>0.116</td>\n",
              "      <td>0.227</td>\n",
              "      <td>0.116</td>\n",
              "    </tr>\n",
              "  </tbody>\n",
              "</table>\n",
              "</div>"
            ],
            "text/plain": [
              "    loss  mean_absolute_error  mean_squared_error  val_loss  \\\n",
              "95 0.079                0.188               0.079     0.119   \n",
              "96 0.079                0.186               0.079     0.125   \n",
              "97 0.078                0.182               0.078     0.120   \n",
              "98 0.079                0.189               0.079     0.116   \n",
              "99 0.078                0.185               0.078     0.116   \n",
              "\n",
              "    val_mean_absolute_error  val_mean_squared_error  \n",
              "95                    0.234                   0.119  \n",
              "96                    0.246                   0.125  \n",
              "97                    0.235                   0.120  \n",
              "98                    0.227                   0.116  \n",
              "99                    0.227                   0.116  "
            ]
          },
          "metadata": {
            "tags": []
          }
        },
        {
          "output_type": "stream",
          "text": [
            "(Outer) Assessing performance on fold 4\n",
            "(Inner) Assessing hyperparameter performance on fold 1\n",
            "166/166 [==============================] - 1s 9ms/sample - loss: 4.8738 - mean_absolute_error: 2.1079 - mean_squared_error: 4.8738\n",
            "167/167 [==============================] - 1s 9ms/sample - loss: 7.8210 - mean_absolute_error: 2.7214 - mean_squared_error: 7.8210\n",
            "167/167 [==============================] - 1s 9ms/sample - loss: 5.5347 - mean_absolute_error: 2.2917 - mean_squared_error: 5.5347\n",
            "166/166 [==============================] - 2s 9ms/sample - loss: 5.3874 - mean_absolute_error: 2.2519 - mean_squared_error: 5.3874\n",
            "167/167 [==============================] - 2s 9ms/sample - loss: 5.1498 - mean_absolute_error: 2.1812 - mean_squared_error: 5.1498\n",
            "167/167 [==============================] - 2s 9ms/sample - loss: 4.0706 - mean_absolute_error: 1.9400 - mean_squared_error: 4.0706\n"
          ],
          "name": "stdout"
        },
        {
          "output_type": "stream",
          "text": [
            "/usr/local/lib/python3.6/dist-packages/sklearn/model_selection/_search.py:841: DeprecationWarning: The default of the `iid` parameter will change from True to False in version 0.22 and will be removed in 0.24. This will change numeric results when test-set sizes are unequal.\n",
            "  DeprecationWarning)\n"
          ],
          "name": "stderr"
        },
        {
          "output_type": "stream",
          "text": [
            "250/250 [==============================] - 2s 6ms/sample - loss: 4.5761 - mean_absolute_error: 2.0500 - mean_squared_error: 4.5761\n",
            "Best: -3.130206 using {'neurons': 64}\n",
            "-4.626580 (0.588257) with: {'neurons': 16}\n",
            "-3.130206 (0.643066) with: {'neurons': 64}\n",
            "(Inner) Assessing hyperparameter performance on fold 2\n",
            "166/166 [==============================] - 2s 9ms/sample - loss: 7.0059 - mean_absolute_error: 2.6004 - mean_squared_error: 7.0059\n",
            "167/167 [==============================] - 2s 9ms/sample - loss: 6.4022 - mean_absolute_error: 2.4437 - mean_squared_error: 6.4022\n",
            "167/167 [==============================] - 2s 9ms/sample - loss: 4.6992 - mean_absolute_error: 2.1030 - mean_squared_error: 4.6992\n",
            "166/166 [==============================] - 2s 9ms/sample - loss: 4.4877 - mean_absolute_error: 2.0527 - mean_squared_error: 4.4877\n",
            "167/167 [==============================] - 2s 9ms/sample - loss: 5.1579 - mean_absolute_error: 2.1786 - mean_squared_error: 5.1579\n",
            "167/167 [==============================] - 2s 9ms/sample - loss: 5.2497 - mean_absolute_error: 2.2486 - mean_squared_error: 5.2497\n"
          ],
          "name": "stdout"
        },
        {
          "output_type": "stream",
          "text": [
            "/usr/local/lib/python3.6/dist-packages/sklearn/model_selection/_search.py:841: DeprecationWarning: The default of the `iid` parameter will change from True to False in version 0.22 and will be removed in 0.24. This will change numeric results when test-set sizes are unequal.\n",
            "  DeprecationWarning)\n"
          ],
          "name": "stderr"
        },
        {
          "output_type": "stream",
          "text": [
            "250/250 [==============================] - 2s 6ms/sample - loss: 3.8564 - mean_absolute_error: 1.8556 - mean_squared_error: 3.8564\n",
            "Best: -3.061955 using {'neurons': 64}\n",
            "-4.804808 (1.280577) with: {'neurons': 16}\n",
            "-3.061955 (0.267611) with: {'neurons': 64}\n",
            "(Inner) Assessing hyperparameter performance on fold 3\n",
            "166/166 [==============================] - 2s 10ms/sample - loss: 7.0409 - mean_absolute_error: 2.6004 - mean_squared_error: 7.0409\n",
            "167/167 [==============================] - 2s 10ms/sample - loss: 6.3217 - mean_absolute_error: 2.4426 - mean_squared_error: 6.3217\n",
            "167/167 [==============================] - 2s 10ms/sample - loss: 5.3817 - mean_absolute_error: 2.2346 - mean_squared_error: 5.3817\n",
            "166/166 [==============================] - 2s 10ms/sample - loss: 3.9192 - mean_absolute_error: 1.8518 - mean_squared_error: 3.9192\n",
            "167/167 [==============================] - 2s 10ms/sample - loss: 4.0371 - mean_absolute_error: 1.8992 - mean_squared_error: 4.0371\n",
            "167/167 [==============================] - 2s 10ms/sample - loss: 3.4544 - mean_absolute_error: 1.7692 - mean_squared_error: 3.4544\n"
          ],
          "name": "stdout"
        },
        {
          "output_type": "stream",
          "text": [
            "/usr/local/lib/python3.6/dist-packages/sklearn/model_selection/_search.py:841: DeprecationWarning: The default of the `iid` parameter will change from True to False in version 0.22 and will be removed in 0.24. This will change numeric results when test-set sizes are unequal.\n",
            "  DeprecationWarning)\n"
          ],
          "name": "stderr"
        },
        {
          "output_type": "stream",
          "text": [
            "250/250 [==============================] - 2s 7ms/sample - loss: 3.9474 - mean_absolute_error: 1.8657 - mean_squared_error: 3.9474\n",
            "Best: -2.133408 using {'neurons': 64}\n",
            "-5.112575 (0.936510) with: {'neurons': 16}\n",
            "-2.133408 (0.481917) with: {'neurons': 64}\n",
            "(Inner) Assessing hyperparameter performance on fold 4\n",
            "167/167 [==============================] - 2s 11ms/sample - loss: 6.0170 - mean_absolute_error: 2.4014 - mean_squared_error: 6.0170\n",
            "167/167 [==============================] - 2s 10ms/sample - loss: 4.0903 - mean_absolute_error: 1.9058 - mean_squared_error: 4.0903\n",
            "168/168 [==============================] - 2s 10ms/sample - loss: 6.3595 - mean_absolute_error: 2.4718 - mean_squared_error: 6.3595\n",
            "167/167 [==============================] - 2s 10ms/sample - loss: 5.9433 - mean_absolute_error: 2.3656 - mean_squared_error: 5.9433\n",
            "167/167 [==============================] - 2s 10ms/sample - loss: 4.1372 - mean_absolute_error: 1.9296 - mean_squared_error: 4.1372\n",
            "168/168 [==============================] - 2s 11ms/sample - loss: 5.0027 - mean_absolute_error: 2.1881 - mean_squared_error: 5.0027\n"
          ],
          "name": "stdout"
        },
        {
          "output_type": "stream",
          "text": [
            "/usr/local/lib/python3.6/dist-packages/sklearn/model_selection/_search.py:841: DeprecationWarning: The default of the `iid` parameter will change from True to False in version 0.22 and will be removed in 0.24. This will change numeric results when test-set sizes are unequal.\n",
            "  DeprecationWarning)\n"
          ],
          "name": "stderr"
        },
        {
          "output_type": "stream",
          "text": [
            "251/251 [==============================] - 2s 7ms/sample - loss: 5.7565 - mean_absolute_error: 2.2917 - mean_squared_error: 5.7565\n",
            "Best: -3.364693 using {'neurons': 64}\n",
            "-4.640500 (0.854941) with: {'neurons': 16}\n",
            "-3.364693 (0.816609) with: {'neurons': 64}\n",
            "(Inner) Assessing hyperparameter performance on fold 5\n",
            "167/167 [==============================] - 2s 10ms/sample - loss: 6.0498 - mean_absolute_error: 2.3982 - mean_squared_error: 6.0498\n",
            "167/167 [==============================] - 2s 11ms/sample - loss: 7.4394 - mean_absolute_error: 2.6828 - mean_squared_error: 7.4394\n",
            "168/168 [==============================] - 2s 10ms/sample - loss: 5.5065 - mean_absolute_error: 2.2989 - mean_squared_error: 5.5065\n",
            "167/167 [==============================] - 2s 11ms/sample - loss: 4.0079 - mean_absolute_error: 1.8976 - mean_squared_error: 4.0079\n",
            "167/167 [==============================] - 2s 11ms/sample - loss: 4.4463 - mean_absolute_error: 2.0077 - mean_squared_error: 4.4463\n",
            "168/168 [==============================] - 2s 10ms/sample - loss: 5.9798 - mean_absolute_error: 2.3963 - mean_squared_error: 5.9798\n"
          ],
          "name": "stdout"
        },
        {
          "output_type": "stream",
          "text": [
            "/usr/local/lib/python3.6/dist-packages/sklearn/model_selection/_search.py:841: DeprecationWarning: The default of the `iid` parameter will change from True to False in version 0.22 and will be removed in 0.24. This will change numeric results when test-set sizes are unequal.\n",
            "  DeprecationWarning)\n"
          ],
          "name": "stderr"
        },
        {
          "output_type": "stream",
          "text": [
            "251/251 [==============================] - 2s 7ms/sample - loss: 4.4226 - mean_absolute_error: 1.9888 - mean_squared_error: 4.4226\n",
            "Best: -2.824739 using {'neurons': 64}\n",
            "-5.208573 (0.731259) with: {'neurons': 16}\n",
            "-2.824739 (0.188834) with: {'neurons': 64}\n"
          ],
          "name": "stdout"
        },
        {
          "output_type": "display_data",
          "data": {
            "text/html": [
              "<div>\n",
              "<style scoped>\n",
              "    .dataframe tbody tr th:only-of-type {\n",
              "        vertical-align: middle;\n",
              "    }\n",
              "\n",
              "    .dataframe tbody tr th {\n",
              "        vertical-align: top;\n",
              "    }\n",
              "\n",
              "    .dataframe thead th {\n",
              "        text-align: right;\n",
              "    }\n",
              "</style>\n",
              "<table border=\"1\" class=\"dataframe\">\n",
              "  <thead>\n",
              "    <tr style=\"text-align: right;\">\n",
              "      <th></th>\n",
              "      <th>loss</th>\n",
              "      <th>mean_absolute_error</th>\n",
              "      <th>mean_squared_error</th>\n",
              "      <th>val_loss</th>\n",
              "      <th>val_mean_absolute_error</th>\n",
              "      <th>val_mean_squared_error</th>\n",
              "    </tr>\n",
              "  </thead>\n",
              "  <tbody>\n",
              "    <tr>\n",
              "      <th>95</th>\n",
              "      <td>0.081</td>\n",
              "      <td>0.194</td>\n",
              "      <td>0.081</td>\n",
              "      <td>0.101</td>\n",
              "      <td>0.211</td>\n",
              "      <td>0.101</td>\n",
              "    </tr>\n",
              "    <tr>\n",
              "      <th>96</th>\n",
              "      <td>0.080</td>\n",
              "      <td>0.194</td>\n",
              "      <td>0.080</td>\n",
              "      <td>0.101</td>\n",
              "      <td>0.217</td>\n",
              "      <td>0.101</td>\n",
              "    </tr>\n",
              "    <tr>\n",
              "      <th>97</th>\n",
              "      <td>0.080</td>\n",
              "      <td>0.194</td>\n",
              "      <td>0.080</td>\n",
              "      <td>0.101</td>\n",
              "      <td>0.210</td>\n",
              "      <td>0.101</td>\n",
              "    </tr>\n",
              "    <tr>\n",
              "      <th>98</th>\n",
              "      <td>0.080</td>\n",
              "      <td>0.194</td>\n",
              "      <td>0.080</td>\n",
              "      <td>0.100</td>\n",
              "      <td>0.211</td>\n",
              "      <td>0.100</td>\n",
              "    </tr>\n",
              "    <tr>\n",
              "      <th>99</th>\n",
              "      <td>0.080</td>\n",
              "      <td>0.194</td>\n",
              "      <td>0.080</td>\n",
              "      <td>0.100</td>\n",
              "      <td>0.210</td>\n",
              "      <td>0.100</td>\n",
              "    </tr>\n",
              "  </tbody>\n",
              "</table>\n",
              "</div>"
            ],
            "text/plain": [
              "    loss  mean_absolute_error  mean_squared_error  val_loss  \\\n",
              "95 0.081                0.194               0.081     0.101   \n",
              "96 0.080                0.194               0.080     0.101   \n",
              "97 0.080                0.194               0.080     0.101   \n",
              "98 0.080                0.194               0.080     0.100   \n",
              "99 0.080                0.194               0.080     0.100   \n",
              "\n",
              "    val_mean_absolute_error  val_mean_squared_error  \n",
              "95                    0.211                   0.101  \n",
              "96                    0.217                   0.101  \n",
              "97                    0.210                   0.101  \n",
              "98                    0.211                   0.100  \n",
              "99                    0.210                   0.100  "
            ]
          },
          "metadata": {
            "tags": []
          }
        },
        {
          "output_type": "stream",
          "text": [
            "(Outer) Assessing performance on fold 5\n",
            "(Inner) Assessing hyperparameter performance on fold 1\n",
            "169/169 [==============================] - 2s 11ms/sample - loss: 5.4623 - mean_absolute_error: 2.2594 - mean_squared_error: 5.4623\n",
            "169/169 [==============================] - 2s 11ms/sample - loss: 7.8487 - mean_absolute_error: 2.7623 - mean_squared_error: 7.8487\n",
            "170/170 [==============================] - 2s 11ms/sample - loss: 7.1734 - mean_absolute_error: 2.6397 - mean_squared_error: 7.1734\n",
            "169/169 [==============================] - 2s 11ms/sample - loss: 4.4545 - mean_absolute_error: 2.0259 - mean_squared_error: 4.4545\n",
            "169/169 [==============================] - 2s 12ms/sample - loss: 5.4457 - mean_absolute_error: 2.2798 - mean_squared_error: 5.4457\n",
            "170/170 [==============================] - 2s 11ms/sample - loss: 3.5319 - mean_absolute_error: 1.7668 - mean_squared_error: 3.5319\n"
          ],
          "name": "stdout"
        },
        {
          "output_type": "stream",
          "text": [
            "/usr/local/lib/python3.6/dist-packages/sklearn/model_selection/_search.py:841: DeprecationWarning: The default of the `iid` parameter will change from True to False in version 0.22 and will be removed in 0.24. This will change numeric results when test-set sizes are unequal.\n",
            "  DeprecationWarning)\n"
          ],
          "name": "stderr"
        },
        {
          "output_type": "stream",
          "text": [
            "254/254 [==============================] - 2s 7ms/sample - loss: 3.4842 - mean_absolute_error: 1.7345 - mean_squared_error: 3.4842\n",
            "Best: -2.716081 using {'neurons': 64}\n",
            "-5.505947 (1.008215) with: {'neurons': 16}\n",
            "-2.716081 (0.706466) with: {'neurons': 64}\n",
            "(Inner) Assessing hyperparameter performance on fold 2\n",
            "169/169 [==============================] - 2s 11ms/sample - loss: 4.9381 - mean_absolute_error: 2.1799 - mean_squared_error: 4.9381\n",
            "169/169 [==============================] - 2s 11ms/sample - loss: 5.7681 - mean_absolute_error: 2.3194 - mean_squared_error: 5.7681\n",
            "170/170 [==============================] - 2s 11ms/sample - loss: 5.4584 - mean_absolute_error: 2.2788 - mean_squared_error: 5.4584\n",
            "169/169 [==============================] - 2s 11ms/sample - loss: 4.5622 - mean_absolute_error: 2.0289 - mean_squared_error: 4.5622\n",
            "169/169 [==============================] - 2s 11ms/sample - loss: 5.2044 - mean_absolute_error: 2.1986 - mean_squared_error: 5.2044\n",
            "170/170 [==============================] - 2s 11ms/sample - loss: 5.0593 - mean_absolute_error: 2.1738 - mean_squared_error: 5.0593\n"
          ],
          "name": "stdout"
        },
        {
          "output_type": "stream",
          "text": [
            "/usr/local/lib/python3.6/dist-packages/sklearn/model_selection/_search.py:841: DeprecationWarning: The default of the `iid` parameter will change from True to False in version 0.22 and will be removed in 0.24. This will change numeric results when test-set sizes are unequal.\n",
            "  DeprecationWarning)\n"
          ],
          "name": "stderr"
        },
        {
          "output_type": "stream",
          "text": [
            "254/254 [==============================] - 2s 8ms/sample - loss: 5.6618 - mean_absolute_error: 2.2760 - mean_squared_error: 5.6618\n",
            "Best: -3.026513 using {'neurons': 64}\n",
            "-4.014593 (0.340677) with: {'neurons': 16}\n",
            "-3.026513 (0.280960) with: {'neurons': 64}\n",
            "(Inner) Assessing hyperparameter performance on fold 3\n",
            "169/169 [==============================] - 2s 12ms/sample - loss: 6.3033 - mean_absolute_error: 2.4597 - mean_squared_error: 6.3033\n",
            "169/169 [==============================] - 2s 12ms/sample - loss: 7.5309 - mean_absolute_error: 2.6928 - mean_squared_error: 7.5309\n",
            "170/170 [==============================] - 2s 11ms/sample - loss: 5.4915 - mean_absolute_error: 2.2819 - mean_squared_error: 5.4915\n",
            "169/169 [==============================] - 2s 12ms/sample - loss: 3.9211 - mean_absolute_error: 1.8791 - mean_squared_error: 3.9211\n",
            "169/169 [==============================] - 2s 11ms/sample - loss: 3.6443 - mean_absolute_error: 1.7937 - mean_squared_error: 3.6443\n",
            "170/170 [==============================] - 2s 12ms/sample - loss: 4.2406 - mean_absolute_error: 1.9906 - mean_squared_error: 4.2406\n"
          ],
          "name": "stdout"
        },
        {
          "output_type": "stream",
          "text": [
            "/usr/local/lib/python3.6/dist-packages/sklearn/model_selection/_search.py:841: DeprecationWarning: The default of the `iid` parameter will change from True to False in version 0.22 and will be removed in 0.24. This will change numeric results when test-set sizes are unequal.\n",
            "  DeprecationWarning)\n"
          ],
          "name": "stderr"
        },
        {
          "output_type": "stream",
          "text": [
            "254/254 [==============================] - 2s 8ms/sample - loss: 5.7678 - mean_absolute_error: 2.2615 - mean_squared_error: 5.7678\n",
            "Best: -2.017688 using {'neurons': 64}\n",
            "-5.377189 (0.849823) with: {'neurons': 16}\n",
            "-2.017688 (0.216518) with: {'neurons': 64}\n",
            "(Inner) Assessing hyperparameter performance on fold 4\n",
            "170/170 [==============================] - 2s 12ms/sample - loss: 4.5478 - mean_absolute_error: 2.0624 - mean_squared_error: 4.5478\n",
            "170/170 [==============================] - 2s 12ms/sample - loss: 4.1739 - mean_absolute_error: 1.9780 - mean_squared_error: 4.1739\n",
            "170/170 [==============================] - 2s 12ms/sample - loss: 7.5139 - mean_absolute_error: 2.7040 - mean_squared_error: 7.5139\n",
            "170/170 [==============================] - 2s 12ms/sample - loss: 4.7394 - mean_absolute_error: 2.0833 - mean_squared_error: 4.7394\n",
            "170/170 [==============================] - 2s 12ms/sample - loss: 5.0774 - mean_absolute_error: 2.1743 - mean_squared_error: 5.0774\n",
            "170/170 [==============================] - 2s 12ms/sample - loss: 6.4697 - mean_absolute_error: 2.5000 - mean_squared_error: 6.4697\n",
            "255/255 [==============================] - 2s 8ms/sample - loss: 3.7050 - mean_absolute_error: 1.8376 - mean_squared_error: 3.7050\n",
            "Best: -3.431604 using {'neurons': 64}\n",
            "-4.368450 (1.136877) with: {'neurons': 16}\n",
            "-3.431604 (0.376224) with: {'neurons': 64}\n",
            "(Inner) Assessing hyperparameter performance on fold 5\n",
            "170/170 [==============================] - 2s 12ms/sample - loss: 7.1424 - mean_absolute_error: 2.6206 - mean_squared_error: 7.1424\n",
            "170/170 [==============================] - 2s 12ms/sample - loss: 5.9159 - mean_absolute_error: 2.3706 - mean_squared_error: 5.9159\n",
            "170/170 [==============================] - 2s 12ms/sample - loss: 6.3122 - mean_absolute_error: 2.4663 - mean_squared_error: 6.3122\n",
            "170/170 [==============================] - 2s 12ms/sample - loss: 7.8884 - mean_absolute_error: 2.7506 - mean_squared_error: 7.8884\n",
            "170/170 [==============================] - 2s 12ms/sample - loss: 4.3033 - mean_absolute_error: 1.9669 - mean_squared_error: 4.3033\n",
            "170/170 [==============================] - 2s 12ms/sample - loss: 5.0266 - mean_absolute_error: 2.1587 - mean_squared_error: 5.0266\n",
            "255/255 [==============================] - 2s 8ms/sample - loss: 5.5753 - mean_absolute_error: 2.2654 - mean_squared_error: 5.5753\n",
            "Best: -3.769269 using {'neurons': 64}\n",
            "-5.231784 (0.657668) with: {'neurons': 16}\n",
            "-3.769269 (1.585014) with: {'neurons': 64}\n"
          ],
          "name": "stdout"
        },
        {
          "output_type": "display_data",
          "data": {
            "text/html": [
              "<div>\n",
              "<style scoped>\n",
              "    .dataframe tbody tr th:only-of-type {\n",
              "        vertical-align: middle;\n",
              "    }\n",
              "\n",
              "    .dataframe tbody tr th {\n",
              "        vertical-align: top;\n",
              "    }\n",
              "\n",
              "    .dataframe thead th {\n",
              "        text-align: right;\n",
              "    }\n",
              "</style>\n",
              "<table border=\"1\" class=\"dataframe\">\n",
              "  <thead>\n",
              "    <tr style=\"text-align: right;\">\n",
              "      <th></th>\n",
              "      <th>loss</th>\n",
              "      <th>mean_absolute_error</th>\n",
              "      <th>mean_squared_error</th>\n",
              "      <th>val_loss</th>\n",
              "      <th>val_mean_absolute_error</th>\n",
              "      <th>val_mean_squared_error</th>\n",
              "    </tr>\n",
              "  </thead>\n",
              "  <tbody>\n",
              "    <tr>\n",
              "      <th>95</th>\n",
              "      <td>0.105</td>\n",
              "      <td>0.222</td>\n",
              "      <td>0.105</td>\n",
              "      <td>0.087</td>\n",
              "      <td>0.218</td>\n",
              "      <td>0.087</td>\n",
              "    </tr>\n",
              "    <tr>\n",
              "      <th>96</th>\n",
              "      <td>0.104</td>\n",
              "      <td>0.222</td>\n",
              "      <td>0.104</td>\n",
              "      <td>0.087</td>\n",
              "      <td>0.219</td>\n",
              "      <td>0.087</td>\n",
              "    </tr>\n",
              "    <tr>\n",
              "      <th>97</th>\n",
              "      <td>0.103</td>\n",
              "      <td>0.218</td>\n",
              "      <td>0.103</td>\n",
              "      <td>0.086</td>\n",
              "      <td>0.217</td>\n",
              "      <td>0.086</td>\n",
              "    </tr>\n",
              "    <tr>\n",
              "      <th>98</th>\n",
              "      <td>0.102</td>\n",
              "      <td>0.216</td>\n",
              "      <td>0.102</td>\n",
              "      <td>0.087</td>\n",
              "      <td>0.219</td>\n",
              "      <td>0.087</td>\n",
              "    </tr>\n",
              "    <tr>\n",
              "      <th>99</th>\n",
              "      <td>0.102</td>\n",
              "      <td>0.218</td>\n",
              "      <td>0.102</td>\n",
              "      <td>0.086</td>\n",
              "      <td>0.217</td>\n",
              "      <td>0.086</td>\n",
              "    </tr>\n",
              "  </tbody>\n",
              "</table>\n",
              "</div>"
            ],
            "text/plain": [
              "    loss  mean_absolute_error  mean_squared_error  val_loss  \\\n",
              "95 0.105                0.222               0.105     0.087   \n",
              "96 0.104                0.222               0.104     0.087   \n",
              "97 0.103                0.218               0.103     0.086   \n",
              "98 0.102                0.216               0.102     0.087   \n",
              "99 0.102                0.218               0.102     0.086   \n",
              "\n",
              "    val_mean_absolute_error  val_mean_squared_error  \n",
              "95                    0.218                   0.087  \n",
              "96                    0.219                   0.087  \n",
              "97                    0.217                   0.086  \n",
              "98                    0.219                   0.087  \n",
              "99                    0.217                   0.086  "
            ]
          },
          "metadata": {
            "tags": []
          }
        }
      ]
    },
    {
      "metadata": {
        "id": "ccPjg5Hvxh08",
        "colab_type": "code",
        "colab": {}
      },
      "cell_type": "code",
      "source": [
        "end_fold_error = pd.DataFrame()\n",
        "\n",
        "# Loop through the k folds for cross validation\n",
        "for i, (train_index, test_index) in enumerate(kf.split(train_dataframe), 1):\n",
        "  print(\"Training on fold \" + str(i))\n",
        "  \n",
        "  feature_train, label_train = process_data(train_dataframe.iloc[train_index].copy())\n",
        "  feature_test, label_test = process_data(train_dataframe.iloc[test_index].copy())\n",
        "  \n",
        "  model = None\n",
        "  model = build_model()\n",
        "  \n",
        "  history = train_model(model, feature_train, label_train, feature_test, label_test)\n",
        "  mse_history = history.history['mean_squared_error']\n",
        "  val_mse_history = history.history['val_mean_squared_error']\n",
        "  end_fold_error = end_fold_error.append(\n",
        "      pd.Series([history.history['loss'][-1],\n",
        "                 history.history['mean_absolute_error'][-1],\n",
        "                 mse_history[-1], \n",
        "                 history.history['val_loss'][-1],\n",
        "                 history.history['val_mean_absolute_error'][-1],\n",
        "                 val_mse_history[-1]]\n",
        "                ), ignore_index=True)\n",
        "  print(\"Last training error: \" + str(mse_history[-1]))\n",
        "  print(\"Last validation error: \" + str(val_mse_history[-1]))\n",
        "\n",
        "#hist = pd.DataFrame(history.history)\n",
        "#hist['epoch'] = history.epoch\n",
        "#hist.tail()"
      ],
      "execution_count": 0,
      "outputs": []
    },
    {
      "metadata": {
        "id": "Qdhb56jAL1MA",
        "colab_type": "code",
        "outputId": "1ff4708e-8d90-4158-a1c3-3d17a55db549",
        "colab": {
          "base_uri": "https://localhost:8080/",
          "height": 359
        }
      },
      "cell_type": "code",
      "source": [
        "end_fold_error"
      ],
      "execution_count": 0,
      "outputs": [
        {
          "output_type": "execute_result",
          "data": {
            "text/html": [
              "<div>\n",
              "<style scoped>\n",
              "    .dataframe tbody tr th:only-of-type {\n",
              "        vertical-align: middle;\n",
              "    }\n",
              "\n",
              "    .dataframe tbody tr th {\n",
              "        vertical-align: top;\n",
              "    }\n",
              "\n",
              "    .dataframe thead th {\n",
              "        text-align: right;\n",
              "    }\n",
              "</style>\n",
              "<table border=\"1\" class=\"dataframe\">\n",
              "  <thead>\n",
              "    <tr style=\"text-align: right;\">\n",
              "      <th></th>\n",
              "      <th>0</th>\n",
              "      <th>1</th>\n",
              "      <th>2</th>\n",
              "      <th>3</th>\n",
              "      <th>4</th>\n",
              "      <th>5</th>\n",
              "    </tr>\n",
              "  </thead>\n",
              "  <tbody>\n",
              "    <tr>\n",
              "      <th>0</th>\n",
              "      <td>2.034</td>\n",
              "      <td>1.343</td>\n",
              "      <td>2.034</td>\n",
              "      <td>2.233</td>\n",
              "      <td>1.431</td>\n",
              "      <td>2.233</td>\n",
              "    </tr>\n",
              "    <tr>\n",
              "      <th>1</th>\n",
              "      <td>0.205</td>\n",
              "      <td>0.358</td>\n",
              "      <td>0.205</td>\n",
              "      <td>0.150</td>\n",
              "      <td>0.315</td>\n",
              "      <td>0.150</td>\n",
              "    </tr>\n",
              "    <tr>\n",
              "      <th>2</th>\n",
              "      <td>2.044</td>\n",
              "      <td>1.350</td>\n",
              "      <td>2.044</td>\n",
              "      <td>2.082</td>\n",
              "      <td>1.352</td>\n",
              "      <td>2.082</td>\n",
              "    </tr>\n",
              "    <tr>\n",
              "      <th>3</th>\n",
              "      <td>0.240</td>\n",
              "      <td>0.358</td>\n",
              "      <td>0.240</td>\n",
              "      <td>0.207</td>\n",
              "      <td>0.345</td>\n",
              "      <td>0.207</td>\n",
              "    </tr>\n",
              "    <tr>\n",
              "      <th>4</th>\n",
              "      <td>2.069</td>\n",
              "      <td>1.360</td>\n",
              "      <td>2.069</td>\n",
              "      <td>1.850</td>\n",
              "      <td>1.257</td>\n",
              "      <td>1.850</td>\n",
              "    </tr>\n",
              "    <tr>\n",
              "      <th>5</th>\n",
              "      <td>0.158</td>\n",
              "      <td>0.293</td>\n",
              "      <td>0.158</td>\n",
              "      <td>0.121</td>\n",
              "      <td>0.280</td>\n",
              "      <td>0.121</td>\n",
              "    </tr>\n",
              "    <tr>\n",
              "      <th>6</th>\n",
              "      <td>2.008</td>\n",
              "      <td>1.337</td>\n",
              "      <td>2.008</td>\n",
              "      <td>2.425</td>\n",
              "      <td>1.473</td>\n",
              "      <td>2.425</td>\n",
              "    </tr>\n",
              "    <tr>\n",
              "      <th>7</th>\n",
              "      <td>0.471</td>\n",
              "      <td>0.560</td>\n",
              "      <td>0.471</td>\n",
              "      <td>0.271</td>\n",
              "      <td>0.432</td>\n",
              "      <td>0.271</td>\n",
              "    </tr>\n",
              "    <tr>\n",
              "      <th>8</th>\n",
              "      <td>2.061</td>\n",
              "      <td>1.354</td>\n",
              "      <td>2.061</td>\n",
              "      <td>1.926</td>\n",
              "      <td>1.307</td>\n",
              "      <td>1.926</td>\n",
              "    </tr>\n",
              "    <tr>\n",
              "      <th>9</th>\n",
              "      <td>0.464</td>\n",
              "      <td>0.560</td>\n",
              "      <td>0.464</td>\n",
              "      <td>0.603</td>\n",
              "      <td>0.637</td>\n",
              "      <td>0.603</td>\n",
              "    </tr>\n",
              "  </tbody>\n",
              "</table>\n",
              "</div>"
            ],
            "text/plain": [
              "      0     1     2     3     4     5\n",
              "0 2.034 1.343 2.034 2.233 1.431 2.233\n",
              "1 0.205 0.358 0.205 0.150 0.315 0.150\n",
              "2 2.044 1.350 2.044 2.082 1.352 2.082\n",
              "3 0.240 0.358 0.240 0.207 0.345 0.207\n",
              "4 2.069 1.360 2.069 1.850 1.257 1.850\n",
              "5 0.158 0.293 0.158 0.121 0.280 0.121\n",
              "6 2.008 1.337 2.008 2.425 1.473 2.425\n",
              "7 0.471 0.560 0.471 0.271 0.432 0.271\n",
              "8 2.061 1.354 2.061 1.926 1.307 1.926\n",
              "9 0.464 0.560 0.464 0.603 0.637 0.603"
            ]
          },
          "metadata": {
            "tags": []
          },
          "execution_count": 15
        }
      ]
    },
    {
      "metadata": {
        "id": "Bd3KBpmN3HwV",
        "colab_type": "text"
      },
      "cell_type": "markdown",
      "source": [
        "**View error trends**"
      ]
    },
    {
      "metadata": {
        "id": "_KoVE-9y3HbY",
        "colab_type": "code",
        "outputId": "851df6f6-c1d6-4973-c88a-97cfc1ba0fce",
        "colab": {
          "base_uri": "https://localhost:8080/",
          "height": 705
        }
      },
      "cell_type": "code",
      "source": [
        "def plot_history(history):\n",
        "  hist = pd.DataFrame(history.history)\n",
        "  hist['epoch'] = history.epoch\n",
        "  \n",
        "  plt.figure()\n",
        "  plt.xlabel('Epoch')\n",
        "  plt.ylabel('Mean Abs Error')\n",
        "  plt.plot(hist['epoch'], hist['mean_absolute_error'],\n",
        "           label='Train Error')\n",
        "  plt.plot(hist['epoch'], hist['val_mean_absolute_error'],\n",
        "           label = 'Val Error')\n",
        "  plt.legend()\n",
        "  #plt.ylim([0,3])\n",
        "  \n",
        "  plt.figure()\n",
        "  plt.xlabel('Epoch')\n",
        "  plt.ylabel('Mean Square Error')\n",
        "  plt.plot(hist['epoch'], hist['mean_squared_error'],\n",
        "           label='Train Error')\n",
        "  plt.plot(hist['epoch'], hist['val_mean_squared_error'],\n",
        "           label = 'Val Error')\n",
        "  plt.legend()\n",
        "  #plt.ylim([0,5])\n",
        "\n",
        "plot_history(history)"
      ],
      "execution_count": 0,
      "outputs": [
        {
          "output_type": "display_data",
          "data": {
            "image/png": "[encoded data removed]",
            "text/plain": [
              "<Figure size 576x396 with 1 Axes>"
            ]
          },
          "metadata": {
            "tags": []
          }
        },
        {
          "output_type": "display_data",
          "data": {
            "image/png": "[encoded data removed]",
            "text/plain": [
              "<Figure size 576x396 with 1 Axes>"
            ]
          },
          "metadata": {
            "tags": []
          }
        }
      ]
    },
    {
      "metadata": {
        "id": "bk13vUm863O3",
        "colab_type": "text"
      },
      "cell_type": "markdown",
      "source": [
        "**Assess model performance on test data**"
      ]
    },
    {
      "metadata": {
        "id": "dyieaFiH65NZ",
        "colab_type": "code",
        "outputId": "8541f7d3-4f91-45b1-f321-0bf86bf8211e",
        "colab": {
          "base_uri": "https://localhost:8080/",
          "height": 68
        }
      },
      "cell_type": "code",
      "source": [
        "test_features, test_label = process_data(test_dataframe)\n",
        "loss, mae, mse = model.evaluate(test_features, test_label, verbose=0)\n",
        "\n",
        "print(\"Testing set Loss: {:5.2f}\".format(loss))\n",
        "print(\"Testing set Mean Abs Error: {:5.2f}\".format(mae))\n",
        "print(\"Testing set Mean Squared Error: {:5.2f}\".format(mse))"
      ],
      "execution_count": 0,
      "outputs": [
        {
          "output_type": "stream",
          "text": [
            "Testing set Loss:  0.34\n",
            "Testing set Mean Abs Error:  0.23\n",
            "Testing set Mean Squared Error:  0.28\n"
          ],
          "name": "stdout"
        }
      ]
    },
    {
      "metadata": {
        "id": "ZRcQrqi17c3-",
        "colab_type": "code",
        "outputId": "d827aa73-6fd0-4610-8179-f54291db9800",
        "colab": {
          "base_uri": "https://localhost:8080/",
          "height": 378
        }
      },
      "cell_type": "code",
      "source": [
        "test_predictions = model.predict(test_features).flatten()\n",
        "\n",
        "plt.scatter(test_label, test_predictions)\n",
        "plt.xlabel('True Values [delta_6mwt]')\n",
        "plt.ylabel('Predictions [delta_6mwt]')\n",
        "plt.axis('equal')\n",
        "plt.axis('square')\n",
        "plt.xlim([0,plt.xlim()[1]])\n",
        "plt.ylim([0,plt.ylim()[1]])\n",
        "#_ = plt.plot([-100, 100], [-100, 100])"
      ],
      "execution_count": 0,
      "outputs": [
        {
          "output_type": "execute_result",
          "data": {
            "text/plain": [
              "(0, 1182.5841960545788)"
            ]
          },
          "metadata": {
            "tags": []
          },
          "execution_count": 52
        },
        {
          "output_type": "display_data",
          "data": {
            "image/png": "[encoded data removed]",
            "text/plain": [
              "<Figure size 576x396 with 1 Axes>"
            ]
          },
          "metadata": {
            "tags": []
          }
        }
      ]
    },
    {
      "metadata": {
        "id": "eWeDoxc17oEM",
        "colab_type": "code",
        "outputId": "1e8cad06-92b6-4c69-c18e-45f83204c77c",
        "colab": {
          "base_uri": "https://localhost:8080/",
          "height": 361
        }
      },
      "cell_type": "code",
      "source": [
        "error = test_predictions - test_labels\n",
        "plt.hist(error, bins = 25)\n",
        "plt.xlabel('Prediction Error ['+target_feature[0]+']')\n",
        "_ = plt.ylabel('Count')"
      ],
      "execution_count": 0,
      "outputs": [
        {
          "output_type": "display_data",
          "data": {
            "image/png": "[encoded data removed]",
            "text/plain": [
              "<Figure size 576x396 with 1 Axes>"
            ]
          },
          "metadata": {
            "tags": []
          }
        }
      ]
    }
  ]
}