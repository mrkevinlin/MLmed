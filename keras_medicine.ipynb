{
  "nbformat": 4,
  "nbformat_minor": 0,
  "metadata": {
    "colab": {
      "name": "keras_medicine.ipynb",
      "version": "0.3.2",
      "provenance": [],
      "collapsed_sections": [
        "PRZkKs_FB66i",
        "SEdPqiD-krvg"
      ],
      "include_colab_link": true
    },
    "kernelspec": {
      "name": "python3",
      "display_name": "Python 3"
    },
    "accelerator": "GPU"
  },
  "cells": [
    {
      "cell_type": "markdown",
      "metadata": {
        "id": "view-in-github",
        "colab_type": "text"
      },
      "source": [
        "<a href=\"https://colab.research.google.com/github/mrkevinlin/MLmed/blob/master/keras_medicine.ipynb\" target=\"_parent\"><img src=\"https://colab.research.google.com/assets/colab-badge.svg\" alt=\"Open In Colab\"/></a>"
      ]
    },
    {
      "metadata": {
        "id": "vs7O6ODuZKs8",
        "colab_type": "text"
      },
      "cell_type": "markdown",
      "source": [
        "Notes:\n",
        "#**- Determine imputation to use**"
      ]
    },
    {
      "metadata": {
        "id": "Npz1MpjiJHfR",
        "colab_type": "text"
      },
      "cell_type": "markdown",
      "source": [
        "# **Initialize everything**"
      ]
    },
    {
      "metadata": {
        "id": "Ajb6OoyEoOsp",
        "colab_type": "code",
        "colab": {
          "base_uri": "https://localhost:8080/",
          "height": 34
        },
        "outputId": "d9a4f351-e9bd-4be0-dd76-4b3a30008e66"
      },
      "cell_type": "code",
      "source": [
        "!pip install --upgrade -q gspread\n",
        "\n",
        "from __future__ import print_function\n",
        "\n",
        "import math\n",
        "from google.colab import files\n",
        "from IPython import display\n",
        "from matplotlib import cm\n",
        "from matplotlib import gridspec\n",
        "import matplotlib.pyplot as plt\n",
        "import numpy as np\n",
        "import pandas as pd\n",
        "import sklearn.metrics as metrics\n",
        "from sklearn.model_selection import GridSearchCV\n",
        "from sklearn.model_selection import cross_val_score\n",
        "from sklearn.model_selection import KFold\n",
        "import tensorflow as tf\n",
        "from tensorflow.keras import layers\n",
        "from tensorflow import keras \n",
        "from keras.wrappers.scikit_learn import KerasRegressor\n",
        "\n",
        "tf.logging.set_verbosity(tf.logging.ERROR)\n",
        "pd.options.display.max_rows = 15\n",
        "pd.options.display.max_columns = 40\n",
        "pd.options.display.float_format = '{:.3f}'.format"
      ],
      "execution_count": 1,
      "outputs": [
        {
          "output_type": "stream",
          "text": [
            "Using TensorFlow backend.\n"
          ],
          "name": "stderr"
        }
      ]
    },
    {
      "metadata": {
        "id": "havMoLwBoU8X",
        "colab_type": "code",
        "colab": {}
      },
      "cell_type": "code",
      "source": [
        "from google.colab import auth\n",
        "auth.authenticate_user()\n",
        "\n",
        "import gspread\n",
        "from oauth2client.client import GoogleCredentials\n",
        "gc = gspread.authorize(GoogleCredentials.get_application_default())"
      ],
      "execution_count": 0,
      "outputs": []
    },
    {
      "metadata": {
        "id": "oV1GAFHjJO3c",
        "colab_type": "text"
      },
      "cell_type": "markdown",
      "source": [
        "# Create a DataFrame of patient data"
      ]
    },
    {
      "metadata": {
        "id": "3fuIiFwBB3-G",
        "colab_type": "text"
      },
      "cell_type": "markdown",
      "source": [
        "**Import CSV to populate a DataFrame**"
      ]
    },
    {
      "metadata": {
        "id": "KkpYbCCzBvjV",
        "colab_type": "code",
        "colab": {}
      },
      "cell_type": "code",
      "source": [
        "# Open Google Sheet of patient data and get column titles\n",
        "patient_dataframe = gc.open('patient_data').sheet1\n",
        "column_names = patient_dataframe.row_values(1)\n",
        "\n",
        "# Process Google Sheet into a pandas dataframe of all numeric values\n",
        "patient_dataframe = pd.DataFrame.from_records(\n",
        "    patient_dataframe.get_all_values(),\n",
        "    columns=column_names)\n",
        "patient_dataframe = patient_dataframe.iloc[1:]\n",
        "patient_dataframe = patient_dataframe.apply(pd.to_numeric, errors='coerce')\n",
        "patient_dataframe = patient_dataframe.replace('', np.nan)\n",
        "patient_dataframe_original = patient_dataframe.copy()"
      ],
      "execution_count": 0,
      "outputs": []
    },
    {
      "metadata": {
        "id": "PRZkKs_FB66i",
        "colab_type": "text"
      },
      "cell_type": "markdown",
      "source": [
        "\n",
        "# **View some stats on the data**"
      ]
    },
    {
      "metadata": {
        "id": "VP1GM_Y5B_Aq",
        "colab_type": "code",
        "outputId": "3b28bb6a-b473-43f8-bd3d-e9735c80acdc",
        "colab": {
          "base_uri": "https://localhost:8080/",
          "height": 14691
        }
      },
      "cell_type": "code",
      "source": [
        "def view_stats(df):\n",
        "  \n",
        "  df = create_all_hads_bins(df)\n",
        " \n",
        "  plt.close('all')\n",
        "  display.display(df.describe())\n",
        "  print(\"\\nNumber missing in each column:\")\n",
        "  display.display(df.isna().sum())\n",
        "  \n",
        "  hads_columns = ['normal', 'borderline', 'severe']\n",
        "  for timing in ['entry', 'exit']:\n",
        "    for mood in ['a', 'd']:\n",
        "      for col in hads_columns:\n",
        "        print('%s %s (%s) count: ' % (timing, col, mood) + str(df['%s_%s_%s' % (timing, col, mood)].sum()))\n",
        "        \n",
        "\n",
        "  plt.close('all')\n",
        "  for col in df.columns:\n",
        "    plt.figure()\n",
        "    plt.hist(df[col])\n",
        "    plt.xlabel(col)\n",
        "    plt.ylabel(\"Count\")\n",
        "\n",
        "    \n",
        "def create_all_hads_bins(df):\n",
        "  hads_bins=[-1,7,10,21]\n",
        "  entry_anxiety_df = pd.get_dummies(pd.cut(df['entry_hads_a'], bins=hads_bins, labels=['entry_normal_a', 'entry_borderline_a', 'entry_severe_a']))\n",
        "  entry_depression_df = pd.get_dummies(pd.cut(df['entry_hads_d'], bins=hads_bins, labels=['entry_normal_d', 'entry_borderline_d', 'entry_severe_d']))\n",
        "  exit_anxiety_df = pd.get_dummies(pd.cut(df['exit_hads_a'], bins=hads_bins, labels=['exit_normal_a', 'exit_borderline_a', 'exit_severe_a']))\n",
        "  exit_depression_df = pd.get_dummies(pd.cut(df['exit_hads_d'], bins=hads_bins, labels=['exit_normal_d', 'exit_borderline_d', 'exit_severe_d']))\n",
        "  return df.join(entry_anxiety_df).join(entry_depression_df).join(exit_anxiety_df).join(exit_depression_df)\n",
        "\n",
        "view_stats(patient_dataframe_original)"
      ],
      "execution_count": 0,
      "outputs": [
        {
          "output_type": "display_data",
          "data": {
            "text/html": [
              "<div>\n",
              "<style scoped>\n",
              "    .dataframe tbody tr th:only-of-type {\n",
              "        vertical-align: middle;\n",
              "    }\n",
              "\n",
              "    .dataframe tbody tr th {\n",
              "        vertical-align: top;\n",
              "    }\n",
              "\n",
              "    .dataframe thead th {\n",
              "        text-align: right;\n",
              "    }\n",
              "</style>\n",
              "<table border=\"1\" class=\"dataframe\">\n",
              "  <thead>\n",
              "    <tr style=\"text-align: right;\">\n",
              "      <th></th>\n",
              "      <th>year</th>\n",
              "      <th>entry_knowledge</th>\n",
              "      <th>entry_hads_a</th>\n",
              "      <th>entry_hads_d</th>\n",
              "      <th>entry_height</th>\n",
              "      <th>entry_weight</th>\n",
              "      <th>entry_waist</th>\n",
              "      <th>entry_BF</th>\n",
              "      <th>entry_BMI</th>\n",
              "      <th>entry_6mwt</th>\n",
              "      <th>entry_met</th>\n",
              "      <th>entry_chol</th>\n",
              "      <th>entry_trig</th>\n",
              "      <th>entry_hdl</th>\n",
              "      <th>entry_ldl</th>\n",
              "      <th>exit_knowledge</th>\n",
              "      <th>exit_hads_a</th>\n",
              "      <th>exit_hads_d</th>\n",
              "      <th>exit_weight</th>\n",
              "      <th>exit_waist</th>\n",
              "      <th>exit_BF</th>\n",
              "      <th>exit_BMI</th>\n",
              "      <th>exit_6mwt</th>\n",
              "      <th>exit_met</th>\n",
              "      <th>exit_chol</th>\n",
              "      <th>exit_trig</th>\n",
              "      <th>exit_hdl</th>\n",
              "      <th>exit_ldl</th>\n",
              "      <th>entry_normal_a</th>\n",
              "      <th>entry_borderline_a</th>\n",
              "      <th>entry_severe_a</th>\n",
              "      <th>entry_normal_d</th>\n",
              "      <th>entry_borderline_d</th>\n",
              "      <th>entry_severe_d</th>\n",
              "      <th>exit_normal_a</th>\n",
              "      <th>exit_borderline_a</th>\n",
              "      <th>exit_severe_a</th>\n",
              "      <th>exit_normal_d</th>\n",
              "      <th>exit_borderline_d</th>\n",
              "      <th>exit_severe_d</th>\n",
              "    </tr>\n",
              "  </thead>\n",
              "  <tbody>\n",
              "    <tr>\n",
              "      <th>count</th>\n",
              "      <td>566.000</td>\n",
              "      <td>478.000</td>\n",
              "      <td>487.000</td>\n",
              "      <td>411.000</td>\n",
              "      <td>441.000</td>\n",
              "      <td>523.000</td>\n",
              "      <td>506.000</td>\n",
              "      <td>491.000</td>\n",
              "      <td>407.000</td>\n",
              "      <td>376.000</td>\n",
              "      <td>487.000</td>\n",
              "      <td>330.000</td>\n",
              "      <td>330.000</td>\n",
              "      <td>328.000</td>\n",
              "      <td>323.000</td>\n",
              "      <td>118.000</td>\n",
              "      <td>121.000</td>\n",
              "      <td>88.000</td>\n",
              "      <td>123.000</td>\n",
              "      <td>123.000</td>\n",
              "      <td>121.000</td>\n",
              "      <td>86.000</td>\n",
              "      <td>80.000</td>\n",
              "      <td>124.000</td>\n",
              "      <td>97.000</td>\n",
              "      <td>97.000</td>\n",
              "      <td>98.000</td>\n",
              "      <td>98.000</td>\n",
              "      <td>566.000</td>\n",
              "      <td>566.000</td>\n",
              "      <td>566.000</td>\n",
              "      <td>566.000</td>\n",
              "      <td>566.000</td>\n",
              "      <td>566.000</td>\n",
              "      <td>566.000</td>\n",
              "      <td>566.000</td>\n",
              "      <td>566.000</td>\n",
              "      <td>566.000</td>\n",
              "      <td>566.000</td>\n",
              "      <td>566.000</td>\n",
              "    </tr>\n",
              "    <tr>\n",
              "      <th>mean</th>\n",
              "      <td>2016.756</td>\n",
              "      <td>67.383</td>\n",
              "      <td>5.072</td>\n",
              "      <td>5.088</td>\n",
              "      <td>66.714</td>\n",
              "      <td>192.452</td>\n",
              "      <td>39.385</td>\n",
              "      <td>29.948</td>\n",
              "      <td>30.313</td>\n",
              "      <td>1083.535</td>\n",
              "      <td>2.551</td>\n",
              "      <td>159.458</td>\n",
              "      <td>135.733</td>\n",
              "      <td>47.384</td>\n",
              "      <td>88.077</td>\n",
              "      <td>73.924</td>\n",
              "      <td>3.479</td>\n",
              "      <td>2.682</td>\n",
              "      <td>187.728</td>\n",
              "      <td>38.219</td>\n",
              "      <td>27.508</td>\n",
              "      <td>29.002</td>\n",
              "      <td>1493.312</td>\n",
              "      <td>3.263</td>\n",
              "      <td>150.948</td>\n",
              "      <td>107.546</td>\n",
              "      <td>54.112</td>\n",
              "      <td>76.755</td>\n",
              "      <td>0.641</td>\n",
              "      <td>0.118</td>\n",
              "      <td>0.101</td>\n",
              "      <td>0.542</td>\n",
              "      <td>0.097</td>\n",
              "      <td>0.087</td>\n",
              "      <td>0.186</td>\n",
              "      <td>0.023</td>\n",
              "      <td>0.005</td>\n",
              "      <td>0.143</td>\n",
              "      <td>0.009</td>\n",
              "      <td>0.004</td>\n",
              "    </tr>\n",
              "    <tr>\n",
              "      <th>std</th>\n",
              "      <td>1.149</td>\n",
              "      <td>20.886</td>\n",
              "      <td>4.413</td>\n",
              "      <td>4.316</td>\n",
              "      <td>4.378</td>\n",
              "      <td>47.627</td>\n",
              "      <td>5.889</td>\n",
              "      <td>8.189</td>\n",
              "      <td>6.552</td>\n",
              "      <td>392.374</td>\n",
              "      <td>0.513</td>\n",
              "      <td>47.339</td>\n",
              "      <td>130.403</td>\n",
              "      <td>15.538</td>\n",
              "      <td>37.438</td>\n",
              "      <td>19.176</td>\n",
              "      <td>3.349</td>\n",
              "      <td>3.124</td>\n",
              "      <td>43.234</td>\n",
              "      <td>5.480</td>\n",
              "      <td>7.540</td>\n",
              "      <td>5.250</td>\n",
              "      <td>351.040</td>\n",
              "      <td>0.682</td>\n",
              "      <td>41.186</td>\n",
              "      <td>59.681</td>\n",
              "      <td>17.704</td>\n",
              "      <td>30.487</td>\n",
              "      <td>0.480</td>\n",
              "      <td>0.323</td>\n",
              "      <td>0.301</td>\n",
              "      <td>0.499</td>\n",
              "      <td>0.296</td>\n",
              "      <td>0.281</td>\n",
              "      <td>0.389</td>\n",
              "      <td>0.150</td>\n",
              "      <td>0.073</td>\n",
              "      <td>0.350</td>\n",
              "      <td>0.094</td>\n",
              "      <td>0.059</td>\n",
              "    </tr>\n",
              "    <tr>\n",
              "      <th>min</th>\n",
              "      <td>2015.000</td>\n",
              "      <td>0.000</td>\n",
              "      <td>0.000</td>\n",
              "      <td>0.000</td>\n",
              "      <td>54.250</td>\n",
              "      <td>90.600</td>\n",
              "      <td>24.000</td>\n",
              "      <td>9.000</td>\n",
              "      <td>17.000</td>\n",
              "      <td>200.000</td>\n",
              "      <td>1.100</td>\n",
              "      <td>51.000</td>\n",
              "      <td>33.000</td>\n",
              "      <td>11.000</td>\n",
              "      <td>7.000</td>\n",
              "      <td>15.000</td>\n",
              "      <td>0.000</td>\n",
              "      <td>0.000</td>\n",
              "      <td>121.600</td>\n",
              "      <td>27.250</td>\n",
              "      <td>15.900</td>\n",
              "      <td>19.310</td>\n",
              "      <td>300.000</td>\n",
              "      <td>1.400</td>\n",
              "      <td>69.000</td>\n",
              "      <td>43.000</td>\n",
              "      <td>31.000</td>\n",
              "      <td>24.000</td>\n",
              "      <td>0.000</td>\n",
              "      <td>0.000</td>\n",
              "      <td>0.000</td>\n",
              "      <td>0.000</td>\n",
              "      <td>0.000</td>\n",
              "      <td>0.000</td>\n",
              "      <td>0.000</td>\n",
              "      <td>0.000</td>\n",
              "      <td>0.000</td>\n",
              "      <td>0.000</td>\n",
              "      <td>0.000</td>\n",
              "      <td>0.000</td>\n",
              "    </tr>\n",
              "    <tr>\n",
              "      <th>25%</th>\n",
              "      <td>2016.000</td>\n",
              "      <td>54.000</td>\n",
              "      <td>1.000</td>\n",
              "      <td>2.000</td>\n",
              "      <td>63.750</td>\n",
              "      <td>159.150</td>\n",
              "      <td>35.500</td>\n",
              "      <td>23.705</td>\n",
              "      <td>25.120</td>\n",
              "      <td>900.000</td>\n",
              "      <td>2.300</td>\n",
              "      <td>127.250</td>\n",
              "      <td>76.000</td>\n",
              "      <td>36.000</td>\n",
              "      <td>61.000</td>\n",
              "      <td>62.000</td>\n",
              "      <td>0.000</td>\n",
              "      <td>0.000</td>\n",
              "      <td>156.800</td>\n",
              "      <td>34.750</td>\n",
              "      <td>21.800</td>\n",
              "      <td>24.150</td>\n",
              "      <td>1361.250</td>\n",
              "      <td>2.900</td>\n",
              "      <td>124.000</td>\n",
              "      <td>72.000</td>\n",
              "      <td>41.000</td>\n",
              "      <td>54.000</td>\n",
              "      <td>0.000</td>\n",
              "      <td>0.000</td>\n",
              "      <td>0.000</td>\n",
              "      <td>0.000</td>\n",
              "      <td>0.000</td>\n",
              "      <td>0.000</td>\n",
              "      <td>0.000</td>\n",
              "      <td>0.000</td>\n",
              "      <td>0.000</td>\n",
              "      <td>0.000</td>\n",
              "      <td>0.000</td>\n",
              "      <td>0.000</td>\n",
              "    </tr>\n",
              "    <tr>\n",
              "      <th>50%</th>\n",
              "      <td>2017.000</td>\n",
              "      <td>69.000</td>\n",
              "      <td>4.000</td>\n",
              "      <td>4.000</td>\n",
              "      <td>66.800</td>\n",
              "      <td>184.500</td>\n",
              "      <td>38.750</td>\n",
              "      <td>29.500</td>\n",
              "      <td>29.100</td>\n",
              "      <td>1100.000</td>\n",
              "      <td>2.600</td>\n",
              "      <td>152.000</td>\n",
              "      <td>107.000</td>\n",
              "      <td>45.000</td>\n",
              "      <td>84.000</td>\n",
              "      <td>77.000</td>\n",
              "      <td>3.000</td>\n",
              "      <td>2.000</td>\n",
              "      <td>182.400</td>\n",
              "      <td>37.500</td>\n",
              "      <td>26.810</td>\n",
              "      <td>28.300</td>\n",
              "      <td>1525.000</td>\n",
              "      <td>3.200</td>\n",
              "      <td>144.000</td>\n",
              "      <td>94.000</td>\n",
              "      <td>50.000</td>\n",
              "      <td>72.000</td>\n",
              "      <td>1.000</td>\n",
              "      <td>0.000</td>\n",
              "      <td>0.000</td>\n",
              "      <td>1.000</td>\n",
              "      <td>0.000</td>\n",
              "      <td>0.000</td>\n",
              "      <td>0.000</td>\n",
              "      <td>0.000</td>\n",
              "      <td>0.000</td>\n",
              "      <td>0.000</td>\n",
              "      <td>0.000</td>\n",
              "      <td>0.000</td>\n",
              "    </tr>\n",
              "    <tr>\n",
              "      <th>75%</th>\n",
              "      <td>2018.000</td>\n",
              "      <td>85.000</td>\n",
              "      <td>8.000</td>\n",
              "      <td>8.000</td>\n",
              "      <td>70.000</td>\n",
              "      <td>218.200</td>\n",
              "      <td>43.000</td>\n",
              "      <td>36.000</td>\n",
              "      <td>34.375</td>\n",
              "      <td>1276.000</td>\n",
              "      <td>2.900</td>\n",
              "      <td>184.750</td>\n",
              "      <td>153.000</td>\n",
              "      <td>56.000</td>\n",
              "      <td>106.500</td>\n",
              "      <td>92.000</td>\n",
              "      <td>6.000</td>\n",
              "      <td>4.000</td>\n",
              "      <td>209.500</td>\n",
              "      <td>41.250</td>\n",
              "      <td>32.200</td>\n",
              "      <td>33.147</td>\n",
              "      <td>1701.000</td>\n",
              "      <td>3.625</td>\n",
              "      <td>167.000</td>\n",
              "      <td>121.000</td>\n",
              "      <td>61.750</td>\n",
              "      <td>92.500</td>\n",
              "      <td>1.000</td>\n",
              "      <td>0.000</td>\n",
              "      <td>0.000</td>\n",
              "      <td>1.000</td>\n",
              "      <td>0.000</td>\n",
              "      <td>0.000</td>\n",
              "      <td>0.000</td>\n",
              "      <td>0.000</td>\n",
              "      <td>0.000</td>\n",
              "      <td>0.000</td>\n",
              "      <td>0.000</td>\n",
              "      <td>0.000</td>\n",
              "    </tr>\n",
              "    <tr>\n",
              "      <th>max</th>\n",
              "      <td>2019.000</td>\n",
              "      <td>100.000</td>\n",
              "      <td>21.000</td>\n",
              "      <td>21.000</td>\n",
              "      <td>79.000</td>\n",
              "      <td>399.200</td>\n",
              "      <td>64.500</td>\n",
              "      <td>50.000</td>\n",
              "      <td>62.300</td>\n",
              "      <td>5422.000</td>\n",
              "      <td>6.500</td>\n",
              "      <td>342.000</td>\n",
              "      <td>1549.000</td>\n",
              "      <td>100.000</td>\n",
              "      <td>245.000</td>\n",
              "      <td>100.000</td>\n",
              "      <td>13.000</td>\n",
              "      <td>14.000</td>\n",
              "      <td>299.600</td>\n",
              "      <td>64.000</td>\n",
              "      <td>43.820</td>\n",
              "      <td>40.720</td>\n",
              "      <td>2189.000</td>\n",
              "      <td>6.200</td>\n",
              "      <td>289.000</td>\n",
              "      <td>389.000</td>\n",
              "      <td>118.000</td>\n",
              "      <td>169.000</td>\n",
              "      <td>1.000</td>\n",
              "      <td>1.000</td>\n",
              "      <td>1.000</td>\n",
              "      <td>1.000</td>\n",
              "      <td>1.000</td>\n",
              "      <td>1.000</td>\n",
              "      <td>1.000</td>\n",
              "      <td>1.000</td>\n",
              "      <td>1.000</td>\n",
              "      <td>1.000</td>\n",
              "      <td>1.000</td>\n",
              "      <td>1.000</td>\n",
              "    </tr>\n",
              "  </tbody>\n",
              "</table>\n",
              "</div>"
            ],
            "text/plain": [
              "          year  entry_knowledge  entry_hads_a  entry_hads_d  entry_height  \\\n",
              "count  566.000          478.000       487.000       411.000       441.000   \n",
              "mean  2016.756           67.383         5.072         5.088        66.714   \n",
              "std      1.149           20.886         4.413         4.316         4.378   \n",
              "min   2015.000            0.000         0.000         0.000        54.250   \n",
              "25%   2016.000           54.000         1.000         2.000        63.750   \n",
              "50%   2017.000           69.000         4.000         4.000        66.800   \n",
              "75%   2018.000           85.000         8.000         8.000        70.000   \n",
              "max   2019.000          100.000        21.000        21.000        79.000   \n",
              "\n",
              "       entry_weight  entry_waist  entry_BF  entry_BMI  entry_6mwt  entry_met  \\\n",
              "count       523.000      506.000   491.000    407.000     376.000    487.000   \n",
              "mean        192.452       39.385    29.948     30.313    1083.535      2.551   \n",
              "std          47.627        5.889     8.189      6.552     392.374      0.513   \n",
              "min          90.600       24.000     9.000     17.000     200.000      1.100   \n",
              "25%         159.150       35.500    23.705     25.120     900.000      2.300   \n",
              "50%         184.500       38.750    29.500     29.100    1100.000      2.600   \n",
              "75%         218.200       43.000    36.000     34.375    1276.000      2.900   \n",
              "max         399.200       64.500    50.000     62.300    5422.000      6.500   \n",
              "\n",
              "       entry_chol  entry_trig  entry_hdl  entry_ldl  exit_knowledge  \\\n",
              "count     330.000     330.000    328.000    323.000         118.000   \n",
              "mean      159.458     135.733     47.384     88.077          73.924   \n",
              "std        47.339     130.403     15.538     37.438          19.176   \n",
              "min        51.000      33.000     11.000      7.000          15.000   \n",
              "25%       127.250      76.000     36.000     61.000          62.000   \n",
              "50%       152.000     107.000     45.000     84.000          77.000   \n",
              "75%       184.750     153.000     56.000    106.500          92.000   \n",
              "max       342.000    1549.000    100.000    245.000         100.000   \n",
              "\n",
              "       exit_hads_a  exit_hads_d  exit_weight  exit_waist  exit_BF  exit_BMI  \\\n",
              "count      121.000       88.000      123.000     123.000  121.000    86.000   \n",
              "mean         3.479        2.682      187.728      38.219   27.508    29.002   \n",
              "std          3.349        3.124       43.234       5.480    7.540     5.250   \n",
              "min          0.000        0.000      121.600      27.250   15.900    19.310   \n",
              "25%          0.000        0.000      156.800      34.750   21.800    24.150   \n",
              "50%          3.000        2.000      182.400      37.500   26.810    28.300   \n",
              "75%          6.000        4.000      209.500      41.250   32.200    33.147   \n",
              "max         13.000       14.000      299.600      64.000   43.820    40.720   \n",
              "\n",
              "       exit_6mwt  exit_met  exit_chol  exit_trig  exit_hdl  exit_ldl  \\\n",
              "count     80.000   124.000     97.000     97.000    98.000    98.000   \n",
              "mean    1493.312     3.263    150.948    107.546    54.112    76.755   \n",
              "std      351.040     0.682     41.186     59.681    17.704    30.487   \n",
              "min      300.000     1.400     69.000     43.000    31.000    24.000   \n",
              "25%     1361.250     2.900    124.000     72.000    41.000    54.000   \n",
              "50%     1525.000     3.200    144.000     94.000    50.000    72.000   \n",
              "75%     1701.000     3.625    167.000    121.000    61.750    92.500   \n",
              "max     2189.000     6.200    289.000    389.000   118.000   169.000   \n",
              "\n",
              "       entry_normal_a  entry_borderline_a  entry_severe_a  entry_normal_d  \\\n",
              "count         566.000             566.000         566.000         566.000   \n",
              "mean            0.641               0.118           0.101           0.542   \n",
              "std             0.480               0.323           0.301           0.499   \n",
              "min             0.000               0.000           0.000           0.000   \n",
              "25%             0.000               0.000           0.000           0.000   \n",
              "50%             1.000               0.000           0.000           1.000   \n",
              "75%             1.000               0.000           0.000           1.000   \n",
              "max             1.000               1.000           1.000           1.000   \n",
              "\n",
              "       entry_borderline_d  entry_severe_d  exit_normal_a  exit_borderline_a  \\\n",
              "count             566.000         566.000        566.000            566.000   \n",
              "mean                0.097           0.087          0.186              0.023   \n",
              "std                 0.296           0.281          0.389              0.150   \n",
              "min                 0.000           0.000          0.000              0.000   \n",
              "25%                 0.000           0.000          0.000              0.000   \n",
              "50%                 0.000           0.000          0.000              0.000   \n",
              "75%                 0.000           0.000          0.000              0.000   \n",
              "max                 1.000           1.000          1.000              1.000   \n",
              "\n",
              "       exit_severe_a  exit_normal_d  exit_borderline_d  exit_severe_d  \n",
              "count        566.000        566.000            566.000        566.000  \n",
              "mean           0.005          0.143              0.009          0.004  \n",
              "std            0.073          0.350              0.094          0.059  \n",
              "min            0.000          0.000              0.000          0.000  \n",
              "25%            0.000          0.000              0.000          0.000  \n",
              "50%            0.000          0.000              0.000          0.000  \n",
              "75%            0.000          0.000              0.000          0.000  \n",
              "max            1.000          1.000              1.000          1.000  "
            ]
          },
          "metadata": {
            "tags": []
          }
        },
        {
          "output_type": "stream",
          "text": [
            "\n",
            "Number missing in each column:\n"
          ],
          "name": "stdout"
        },
        {
          "output_type": "display_data",
          "data": {
            "text/plain": [
              "year                   0\n",
              "entry_knowledge       88\n",
              "entry_hads_a          79\n",
              "entry_hads_d         155\n",
              "entry_height         125\n",
              "entry_weight          43\n",
              "entry_waist           60\n",
              "                    ... \n",
              "entry_severe_d         0\n",
              "exit_normal_a          0\n",
              "exit_borderline_a      0\n",
              "exit_severe_a          0\n",
              "exit_normal_d          0\n",
              "exit_borderline_d      0\n",
              "exit_severe_d          0\n",
              "Length: 40, dtype: int64"
            ]
          },
          "metadata": {
            "tags": []
          }
        },
        {
          "output_type": "stream",
          "text": [
            "entry normal (a) count: 363\n",
            "entry borderline (a) count: 67\n",
            "entry severe (a) count: 57\n",
            "entry normal (d) count: 307\n",
            "entry borderline (d) count: 55\n",
            "entry severe (d) count: 49\n",
            "exit normal (a) count: 105\n",
            "exit borderline (a) count: 13\n",
            "exit severe (a) count: 3\n",
            "exit normal (d) count: 81\n",
            "exit borderline (d) count: 5\n",
            "exit severe (d) count: 2\n"
          ],
          "name": "stdout"
        },
        {
          "output_type": "stream",
          "text": [
            "/usr/local/lib/python3.6/dist-packages/numpy/lib/function_base.py:780: RuntimeWarning: invalid value encountered in greater_equal\n",
            "  keep = (tmp_a >= first_edge)\n",
            "/usr/local/lib/python3.6/dist-packages/numpy/lib/function_base.py:781: RuntimeWarning: invalid value encountered in less_equal\n",
            "  keep &= (tmp_a <= last_edge)\n",
            "/usr/local/lib/python3.6/dist-packages/matplotlib/pyplot.py:514: RuntimeWarning: More than 20 figures have been opened. Figures created through the pyplot interface (`matplotlib.pyplot.figure`) are retained until explicitly closed and may consume too much memory. (To control this warning, see the rcParam `figure.max_open_warning`).\n",
            "  max_open_warning, RuntimeWarning)\n"
          ],
          "name": "stderr"
        },
        {
          "output_type": "display_data",
          "data": {
            "image/png": "[encoded data removed]",
            "text/plain": [
              "<Figure size 576x396 with 1 Axes>"
            ]
          },
          "metadata": {
            "tags": []
          }
        },
        {
          "output_type": "display_data",
          "data": {
            "image/png": "[encoded data removed]",
            "text/plain": [
              "<Figure size 576x396 with 1 Axes>"
            ]
          },
          "metadata": {
            "tags": []
          }
        },
        {
          "output_type": "display_data",
          "data": {
            "image/png": "[encoded data removed]",
            "text/plain": [
              "<Figure size 576x396 with 1 Axes>"
            ]
          },
          "metadata": {
            "tags": []
          }
        },
        {
          "output_type": "display_data",
          "data": {
            "image/png": "[encoded data removed]",
            "text/plain": [
              "<Figure size 576x396 with 1 Axes>"
            ]
          },
          "metadata": {
            "tags": []
          }
        },
        {
          "output_type": "display_data",
          "data": {
            "image/png": "[encoded data removed]",
            "text/plain": [
              "<Figure size 576x396 with 1 Axes>"
            ]
          },
          "metadata": {
            "tags": []
          }
        },
        {
          "output_type": "display_data",
          "data": {
            "image/png": "[encoded data removed]",
            "text/plain": [
              "<Figure size 576x396 with 1 Axes>"
            ]
          },
          "metadata": {
            "tags": []
          }
        },
        {
          "output_type": "display_data",
          "data": {
            "image/png": "[encoded data removed]",
            "text/plain": [
              "<Figure size 576x396 with 1 Axes>"
            ]
          },
          "metadata": {
            "tags": []
          }
        },
        {
          "output_type": "display_data",
          "data": {
            "image/png": "[encoded data removed]",
            "text/plain": [
              "<Figure size 576x396 with 1 Axes>"
            ]
          },
          "metadata": {
            "tags": []
          }
        },
        {
          "output_type": "display_data",
          "data": {
            "image/png": "[encoded data removed]",
            "text/plain": [
              "<Figure size 576x396 with 1 Axes>"
            ]
          },
          "metadata": {
            "tags": []
          }
        },
        {
          "output_type": "display_data",
          "data": {
            "image/png": "[encoded data removed]",
            "text/plain": [
              "<Figure size 576x396 with 1 Axes>"
            ]
          },
          "metadata": {
            "tags": []
          }
        },
        {
          "output_type": "display_data",
          "data": {
            "image/png": "[encoded data removed]",
            "text/plain": [
              "<Figure size 576x396 with 1 Axes>"
            ]
          },
          "metadata": {
            "tags": []
          }
        },
        {
          "output_type": "display_data",
          "data": {
            "image/png": "[encoded data removed]",
            "text/plain": [
              "<Figure size 576x396 with 1 Axes>"
            ]
          },
          "metadata": {
            "tags": []
          }
        },
        {
          "output_type": "display_data",
          "data": {
            "image/png": "[encoded data removed]",
            "text/plain": [
              "<Figure size 576x396 with 1 Axes>"
            ]
          },
          "metadata": {
            "tags": []
          }
        },
        {
          "output_type": "display_data",
          "data": {
            "image/png": "[encoded data removed]",
            "text/plain": [
              "<Figure size 576x396 with 1 Axes>"
            ]
          },
          "metadata": {
            "tags": []
          }
        },
        {
          "output_type": "display_data",
          "data": {
            "image/png": "[encoded data removed]",
            "text/plain": [
              "<Figure size 576x396 with 1 Axes>"
            ]
          },
          "metadata": {
            "tags": []
          }
        },
        {
          "output_type": "display_data",
          "data": {
            "image/png": "[encoded data removed]",
            "text/plain": [
              "<Figure size 576x396 with 1 Axes>"
            ]
          },
          "metadata": {
            "tags": []
          }
        },
        {
          "output_type": "display_data",
          "data": {
            "image/png": "[encoded data removed]",
            "text/plain": [
              "<Figure size 576x396 with 1 Axes>"
            ]
          },
          "metadata": {
            "tags": []
          }
        },
        {
          "output_type": "display_data",
          "data": {
            "image/png": "[encoded data removed]",
            "text/plain": [
              "<Figure size 576x396 with 1 Axes>"
            ]
          },
          "metadata": {
            "tags": []
          }
        },
        {
          "output_type": "display_data",
          "data": {
            "image/png": "[encoded data removed]",
            "text/plain": [
              "<Figure size 576x396 with 1 Axes>"
            ]
          },
          "metadata": {
            "tags": []
          }
        },
        {
          "output_type": "display_data",
          "data": {
            "image/png": "[encoded data removed]",
            "text/plain": [
              "<Figure size 576x396 with 1 Axes>"
            ]
          },
          "metadata": {
            "tags": []
          }
        },
        {
          "output_type": "display_data",
          "data": {
            "image/png": "[encoded data removed]",
            "text/plain": [
              "<Figure size 576x396 with 1 Axes>"
            ]
          },
          "metadata": {
            "tags": []
          }
        },
        {
          "output_type": "display_data",
          "data": {
            "image/png": "[encoded data removed]",
            "text/plain": [
              "<Figure size 576x396 with 1 Axes>"
            ]
          },
          "metadata": {
            "tags": []
          }
        },
        {
          "output_type": "display_data",
          "data": {
            "image/png": "[encoded data removed]",
            "text/plain": [
              "<Figure size 576x396 with 1 Axes>"
            ]
          },
          "metadata": {
            "tags": []
          }
        },
        {
          "output_type": "display_data",
          "data": {
            "image/png": "[encoded data removed]",
            "text/plain": [
              "<Figure size 576x396 with 1 Axes>"
            ]
          },
          "metadata": {
            "tags": []
          }
        },
        {
          "output_type": "display_data",
          "data": {
            "image/png": "[encoded data removed]",
            "text/plain": [
              "<Figure size 576x396 with 1 Axes>"
            ]
          },
          "metadata": {
            "tags": []
          }
        },
        {
          "output_type": "display_data",
          "data": {
            "image/png": "[encoded data removed]",
            "text/plain": [
              "<Figure size 576x396 with 1 Axes>"
            ]
          },
          "metadata": {
            "tags": []
          }
        },
        {
          "output_type": "display_data",
          "data": {
            "image/png": "[encoded data removed]",
            "text/plain": [
              "<Figure size 576x396 with 1 Axes>"
            ]
          },
          "metadata": {
            "tags": []
          }
        },
        {
          "output_type": "display_data",
          "data": {
            "image/png": "[encoded data removed]",
            "text/plain": [
              "<Figure size 576x396 with 1 Axes>"
            ]
          },
          "metadata": {
            "tags": []
          }
        },
        {
          "output_type": "display_data",
          "data": {
            "image/png": "[encoded data removed]",
            "text/plain": [
              "<Figure size 576x396 with 1 Axes>"
            ]
          },
          "metadata": {
            "tags": []
          }
        },
        {
          "output_type": "display_data",
          "data": {
            "image/png": "[encoded data removed]",
            "text/plain": [
              "<Figure size 576x396 with 1 Axes>"
            ]
          },
          "metadata": {
            "tags": []
          }
        },
        {
          "output_type": "display_data",
          "data": {
            "image/png": "[encoded data removed]",
            "text/plain": [
              "<Figure size 576x396 with 1 Axes>"
            ]
          },
          "metadata": {
            "tags": []
          }
        },
        {
          "output_type": "display_data",
          "data": {
            "image/png": "[encoded data removed]",
            "text/plain": [
              "<Figure size 576x396 with 1 Axes>"
            ]
          },
          "metadata": {
            "tags": []
          }
        },
        {
          "output_type": "display_data",
          "data": {
            "image/png": "[encoded data removed]",
            "text/plain": [
              "<Figure size 576x396 with 1 Axes>"
            ]
          },
          "metadata": {
            "tags": []
          }
        },
        {
          "output_type": "display_data",
          "data": {
            "image/png": "[encoded data removed]",
            "text/plain": [
              "<Figure size 576x396 with 1 Axes>"
            ]
          },
          "metadata": {
            "tags": []
          }
        },
        {
          "output_type": "display_data",
          "data": {
            "image/png": "[encoded data removed]",
            "text/plain": [
              "<Figure size 576x396 with 1 Axes>"
            ]
          },
          "metadata": {
            "tags": []
          }
        },
        {
          "output_type": "display_data",
          "data": {
            "image/png": "[encoded data removed]",
            "text/plain": [
              "<Figure size 576x396 with 1 Axes>"
            ]
          },
          "metadata": {
            "tags": []
          }
        },
        {
          "output_type": "display_data",
          "data": {
            "image/png": "[encoded data removed]",
            "text/plain": [
              "<Figure size 576x396 with 1 Axes>"
            ]
          },
          "metadata": {
            "tags": []
          }
        },
        {
          "output_type": "display_data",
          "data": {
            "image/png": "[encoded data removed]",
            "text/plain": [
              "<Figure size 576x396 with 1 Axes>"
            ]
          },
          "metadata": {
            "tags": []
          }
        },
        {
          "output_type": "display_data",
          "data": {
            "image/png": "[encoded data removed]",
            "text/plain": [
              "<Figure size 576x396 with 1 Axes>"
            ]
          },
          "metadata": {
            "tags": []
          }
        },
        {
          "output_type": "display_data",
          "data": {
            "image/png": "[encoded data removed]",
            "text/plain": [
              "<Figure size 576x396 with 1 Axes>"
            ]
          },
          "metadata": {
            "tags": []
          }
        }
      ]
    },
    {
      "metadata": {
        "id": "oFh4r7LGPUkQ",
        "colab_type": "text"
      },
      "cell_type": "markdown",
      "source": [
        "# **Split into training and test sets**"
      ]
    },
    {
      "metadata": {
        "id": "NFmmjo69PavB",
        "colab_type": "code",
        "colab": {}
      },
      "cell_type": "code",
      "source": [
        "# Close the matlib plots from view stats to reduce memory usage\n",
        "plt.close('all')\n",
        "# Reset the dataframe\n",
        "patient_dataframe = patient_dataframe_original.copy()\n",
        "\n",
        "# Set random number seed\n",
        "rand_state = 4\n",
        "\n",
        "# Randomize and divide the data set into training and test sets\n",
        "train_dataframe = patient_dataframe.sample(frac=0.8, random_state=rand_state)\n",
        "test_dataframe = patient_dataframe.drop(train_dataframe.index)\n",
        "\n",
        "#test_dataframe.describe()"
      ],
      "execution_count": 0,
      "outputs": []
    },
    {
      "metadata": {
        "id": "UiVC8iUcIIXN",
        "colab_type": "text"
      },
      "cell_type": "markdown",
      "source": [
        "# **Create methods for cleaning up data**"
      ]
    },
    {
      "metadata": {
        "id": "JtwnMn_HHnNm",
        "colab_type": "code",
        "outputId": "b15e6eff-f591-463a-9a4a-c9427d0f25b4",
        "colab": {
          "base_uri": "https://localhost:8080/",
          "height": 450
        }
      },
      "cell_type": "code",
      "source": [
        "def process_data(df):\n",
        "  # Try alternate features and targets\n",
        "  trial = 2\n",
        "  \n",
        "  # Specify features and labels to work with\n",
        "  if trial==1: # Predict improvement in 6MWT distance after CR\n",
        "    target_label = 'delta_6mwt'\n",
        "    numeric_selected_features = ['entry_knowledge', 'entry_height', 'entry_weight', 'entry_waist', 'entry_BF', 'entry_BMI', 'entry_met']\n",
        "    optional_numeric_selected_features = ['entry_chol', 'entry_trig', 'entry_hdl', 'entry_ldl']\n",
        "    categorical_selected_features = ['normal_a', 'borderline_a', 'severe_a', 'normal_d', 'borderline_d', 'severe_d']\n",
        "    \n",
        "    df = create_synthetic_target(df, target_label)\n",
        "    \n",
        "  elif trial==2: # Predict initial exercise tolerance with entry MET\n",
        "    target_label = 'entry_met'\n",
        "    numeric_selected_features = ['entry_knowledge', 'entry_height', 'entry_weight', 'entry_waist', 'entry_BF', 'entry_BMI', 'entry_6mwt']\n",
        "    optional_numeric_selected_features = ['entry_chol', 'entry_trig', 'entry_hdl', 'entry_ldl']\n",
        "    categorical_selected_features = ['normal_a', 'borderline_a', 'severe_a', 'normal_d', 'borderline_d', 'severe_d']\n",
        "      \n",
        "  else:\n",
        "    return\n",
        "  \n",
        "  df = create_features(df)\n",
        "  df = clean_up_by_target(df, target_label)\n",
        "  df = remove_outliers(df, 'entry_trig', 1000)\n",
        "  df = remove_outliers(df, 'entry_6mwt', 2000)\n",
        "  df = median_impute_missing_values(df) # Temporary  \n",
        "  df[numeric_selected_features] = scale_features_z_score(df[numeric_selected_features].copy())\n",
        "  \n",
        "  # Split into used feature and label dataframes\n",
        "  feature_df = df[numeric_selected_features+categorical_selected_features]\n",
        "  target_df = df[target_label]\n",
        "  \n",
        "  return feature_df, target_df\n",
        "\n",
        "# Create synthetic features\n",
        "def create_features(df):\n",
        "  df = calculate_bmi(df)\n",
        "  df = create_hads_bins(df)\n",
        "  return df\n",
        "\n",
        "# Create target label of change in 6MWT results  \n",
        "def create_synthetic_target(df, target):\n",
        "  df[target] = (df['exit_6mwt'] - df['entry_6mwt'])\n",
        "  return df\n",
        "  \n",
        "# Create categorical bins of anxiety and depression scale\n",
        "def create_hads_bins(df):\n",
        "  hads_bins=[-1,7,10,21]\n",
        "  anxiety_df = pd.get_dummies(pd.cut(df['entry_hads_a'], bins=hads_bins, labels=['normal_a', 'borderline_a', 'severe_a']))\n",
        "  depression_df = pd.get_dummies(pd.cut(df['entry_hads_d'], bins=hads_bins, labels=['normal_d', 'borderline_d', 'severe_d']))\n",
        "  return df.join(anxiety_df).join(depression_df) \n",
        "  \n",
        "# Recalculate and fill in BMI from height/weight\n",
        "def calculate_bmi(df):\n",
        "  df['calc_bmi'] = (702.95 * df['entry_weight']/(df['entry_height'] ** 2))\n",
        "  return df\n",
        "\n",
        "# Remove all rows with values missing in the specified columns\n",
        "def clean_up_by_target(df, column):\n",
        "  return df.dropna(subset=[column])\n",
        "\n",
        "# Remove flagrant outliers by clipping\n",
        "def remove_outliers(df, feature, maximum):\n",
        "  df[feature] = df[feature].clip(lower=0, upper=maximum)\n",
        "  return df\n",
        "\n",
        "# Replace missing values with the median of the group (temporary measure)\n",
        "def median_impute_missing_values(df):\n",
        "  for col in df.columns:\n",
        "    if df[col].isnull().values.any():\n",
        "      df[col] = df[col].fillna(df[col].median())\n",
        "  return df\n",
        "\n",
        "# Normalize the values of features\n",
        "def scale_features_z_score(df):\n",
        "  for col in df.columns:\n",
        "    df[col] = (df[col] - df[col].mean())/df[col].std()\n",
        "  return df\n",
        "  \n",
        "feature_dataframe, target_dataframe = process_data(train_dataframe)\n",
        "display.display(feature_dataframe.describe())\n",
        "display.display(target_dataframe.describe())"
      ],
      "execution_count": 5,
      "outputs": [
        {
          "output_type": "display_data",
          "data": {
            "text/html": [
              "<div>\n",
              "<style scoped>\n",
              "    .dataframe tbody tr th:only-of-type {\n",
              "        vertical-align: middle;\n",
              "    }\n",
              "\n",
              "    .dataframe tbody tr th {\n",
              "        vertical-align: top;\n",
              "    }\n",
              "\n",
              "    .dataframe thead th {\n",
              "        text-align: right;\n",
              "    }\n",
              "</style>\n",
              "<table border=\"1\" class=\"dataframe\">\n",
              "  <thead>\n",
              "    <tr style=\"text-align: right;\">\n",
              "      <th></th>\n",
              "      <th>entry_knowledge</th>\n",
              "      <th>entry_height</th>\n",
              "      <th>entry_weight</th>\n",
              "      <th>entry_waist</th>\n",
              "      <th>entry_BF</th>\n",
              "      <th>entry_BMI</th>\n",
              "      <th>entry_6mwt</th>\n",
              "      <th>normal_a</th>\n",
              "      <th>borderline_a</th>\n",
              "      <th>severe_a</th>\n",
              "      <th>normal_d</th>\n",
              "      <th>borderline_d</th>\n",
              "      <th>severe_d</th>\n",
              "    </tr>\n",
              "  </thead>\n",
              "  <tbody>\n",
              "    <tr>\n",
              "      <th>count</th>\n",
              "      <td>395.000</td>\n",
              "      <td>395.000</td>\n",
              "      <td>395.000</td>\n",
              "      <td>395.000</td>\n",
              "      <td>395.000</td>\n",
              "      <td>395.000</td>\n",
              "      <td>395.000</td>\n",
              "      <td>395.000</td>\n",
              "      <td>395.000</td>\n",
              "      <td>395.000</td>\n",
              "      <td>395.000</td>\n",
              "      <td>395.000</td>\n",
              "      <td>395.000</td>\n",
              "    </tr>\n",
              "    <tr>\n",
              "      <th>mean</th>\n",
              "      <td>-0.000</td>\n",
              "      <td>0.000</td>\n",
              "      <td>0.000</td>\n",
              "      <td>-0.000</td>\n",
              "      <td>-0.000</td>\n",
              "      <td>-0.000</td>\n",
              "      <td>-0.000</td>\n",
              "      <td>0.722</td>\n",
              "      <td>0.116</td>\n",
              "      <td>0.114</td>\n",
              "      <td>0.600</td>\n",
              "      <td>0.106</td>\n",
              "      <td>0.099</td>\n",
              "    </tr>\n",
              "    <tr>\n",
              "      <th>std</th>\n",
              "      <td>1.000</td>\n",
              "      <td>1.000</td>\n",
              "      <td>1.000</td>\n",
              "      <td>1.000</td>\n",
              "      <td>1.000</td>\n",
              "      <td>1.000</td>\n",
              "      <td>1.000</td>\n",
              "      <td>0.449</td>\n",
              "      <td>0.321</td>\n",
              "      <td>0.318</td>\n",
              "      <td>0.491</td>\n",
              "      <td>0.309</td>\n",
              "      <td>0.299</td>\n",
              "    </tr>\n",
              "    <tr>\n",
              "      <th>min</th>\n",
              "      <td>-3.421</td>\n",
              "      <td>-3.088</td>\n",
              "      <td>-2.097</td>\n",
              "      <td>-2.586</td>\n",
              "      <td>-2.515</td>\n",
              "      <td>-2.151</td>\n",
              "      <td>-3.060</td>\n",
              "      <td>0.000</td>\n",
              "      <td>0.000</td>\n",
              "      <td>0.000</td>\n",
              "      <td>0.000</td>\n",
              "      <td>0.000</td>\n",
              "      <td>0.000</td>\n",
              "    </tr>\n",
              "    <tr>\n",
              "      <th>25%</th>\n",
              "      <td>-0.709</td>\n",
              "      <td>-0.397</td>\n",
              "      <td>-0.701</td>\n",
              "      <td>-0.667</td>\n",
              "      <td>-0.754</td>\n",
              "      <td>-0.600</td>\n",
              "      <td>-0.427</td>\n",
              "      <td>0.000</td>\n",
              "      <td>0.000</td>\n",
              "      <td>0.000</td>\n",
              "      <td>0.000</td>\n",
              "      <td>0.000</td>\n",
              "      <td>0.000</td>\n",
              "    </tr>\n",
              "    <tr>\n",
              "      <th>50%</th>\n",
              "      <td>0.044</td>\n",
              "      <td>-0.022</td>\n",
              "      <td>-0.164</td>\n",
              "      <td>-0.084</td>\n",
              "      <td>-0.084</td>\n",
              "      <td>-0.154</td>\n",
              "      <td>0.065</td>\n",
              "      <td>1.000</td>\n",
              "      <td>0.000</td>\n",
              "      <td>0.000</td>\n",
              "      <td>1.000</td>\n",
              "      <td>0.000</td>\n",
              "      <td>0.000</td>\n",
              "    </tr>\n",
              "    <tr>\n",
              "      <th>75%</th>\n",
              "      <td>0.848</td>\n",
              "      <td>0.604</td>\n",
              "      <td>0.551</td>\n",
              "      <td>0.584</td>\n",
              "      <td>0.719</td>\n",
              "      <td>0.506</td>\n",
              "      <td>0.527</td>\n",
              "      <td>1.000</td>\n",
              "      <td>0.000</td>\n",
              "      <td>0.000</td>\n",
              "      <td>1.000</td>\n",
              "      <td>0.000</td>\n",
              "      <td>0.000</td>\n",
              "    </tr>\n",
              "    <tr>\n",
              "      <th>max</th>\n",
              "      <td>1.601</td>\n",
              "      <td>3.106</td>\n",
              "      <td>4.189</td>\n",
              "      <td>4.170</td>\n",
              "      <td>2.512</td>\n",
              "      <td>5.278</td>\n",
              "      <td>3.342</td>\n",
              "      <td>1.000</td>\n",
              "      <td>1.000</td>\n",
              "      <td>1.000</td>\n",
              "      <td>1.000</td>\n",
              "      <td>1.000</td>\n",
              "      <td>1.000</td>\n",
              "    </tr>\n",
              "  </tbody>\n",
              "</table>\n",
              "</div>"
            ],
            "text/plain": [
              "       entry_knowledge  entry_height  entry_weight  entry_waist  entry_BF  \\\n",
              "count          395.000       395.000       395.000      395.000   395.000   \n",
              "mean            -0.000         0.000         0.000       -0.000    -0.000   \n",
              "std              1.000         1.000         1.000        1.000     1.000   \n",
              "min             -3.421        -3.088        -2.097       -2.586    -2.515   \n",
              "25%             -0.709        -0.397        -0.701       -0.667    -0.754   \n",
              "50%              0.044        -0.022        -0.164       -0.084    -0.084   \n",
              "75%              0.848         0.604         0.551        0.584     0.719   \n",
              "max              1.601         3.106         4.189        4.170     2.512   \n",
              "\n",
              "       entry_BMI  entry_6mwt  normal_a  borderline_a  severe_a  normal_d  \\\n",
              "count    395.000     395.000   395.000       395.000   395.000   395.000   \n",
              "mean      -0.000      -0.000     0.722         0.116     0.114     0.600   \n",
              "std        1.000       1.000     0.449         0.321     0.318     0.491   \n",
              "min       -2.151      -3.060     0.000         0.000     0.000     0.000   \n",
              "25%       -0.600      -0.427     0.000         0.000     0.000     0.000   \n",
              "50%       -0.154       0.065     1.000         0.000     0.000     1.000   \n",
              "75%        0.506       0.527     1.000         0.000     0.000     1.000   \n",
              "max        5.278       3.342     1.000         1.000     1.000     1.000   \n",
              "\n",
              "       borderline_d  severe_d  \n",
              "count       395.000   395.000  \n",
              "mean          0.106     0.099  \n",
              "std           0.309     0.299  \n",
              "min           0.000     0.000  \n",
              "25%           0.000     0.000  \n",
              "50%           0.000     0.000  \n",
              "75%           0.000     0.000  \n",
              "max           1.000     1.000  "
            ]
          },
          "metadata": {
            "tags": []
          }
        },
        {
          "output_type": "display_data",
          "data": {
            "text/plain": [
              "count   395.000\n",
              "mean      2.543\n",
              "std       0.477\n",
              "min       1.100\n",
              "25%       2.300\n",
              "50%       2.600\n",
              "75%       2.900\n",
              "max       4.400\n",
              "Name: entry_met, dtype: float64"
            ]
          },
          "metadata": {
            "tags": []
          }
        }
      ]
    },
    {
      "metadata": {
        "id": "5KKOPverI-pT",
        "colab_type": "text"
      },
      "cell_type": "markdown",
      "source": [
        "# **Set up Keras TensorFlow code**"
      ]
    },
    {
      "metadata": {
        "id": "6pSrGMNc1cZD",
        "colab_type": "text"
      },
      "cell_type": "markdown",
      "source": [
        "**Set up functions to build and train models**"
      ]
    },
    {
      "metadata": {
        "id": "J-r55SdN11Sp",
        "colab_type": "text"
      },
      "cell_type": "markdown",
      "source": [
        "https://weina.me/nested-cross-validation/\n",
        "\n",
        "https://machinelearningmastery.com/grid-search-hyperparameters-deep-learning-models-python-keras/\n",
        "\n",
        "https://stackoverflow.com/questions/42228735/scikit-learn-gridsearchcv-with-multiple-repetitions/42230764#42230764"
      ]
    },
    {
      "metadata": {
        "id": "R7wvPh1AI-Og",
        "colab_type": "code",
        "colab": {}
      },
      "cell_type": "code",
      "source": [
        "# Create a model with various hyperparameters default\n",
        "def build_model(learn_rate=0.001, neurons=64, dropout_rate=0.0):\n",
        "  model = keras.Sequential([\n",
        "      layers.Dense(neurons, activation=tf.nn.relu, input_shape=[len(feature_dataframe.columns)]),\n",
        "      layers.Dropout(dropout_rate),\n",
        "      layers.Dense(neurons, activation=tf.nn.relu),\n",
        "      layers.Dropout(dropout_rate),\n",
        "      layers.Dense(1)\n",
        "  ])\n",
        "  \n",
        "  optimizer = tf.keras.optimizers.RMSprop(lr=learn_rate)\n",
        "  \n",
        "  model.compile(loss='mse',\n",
        "               optimizer=optimizer,\n",
        "               metrics=['mae', 'mse'])\n",
        "  return model\n",
        "\n",
        "# Train and evaluate the model\n",
        "def train_model(model, x_train, y_train, x_test, y_test, epochs=100):\n",
        "  hist = model.fit(\n",
        "      x = x_train, \n",
        "      y = y_train,\n",
        "      epochs = epochs,\n",
        "      verbose=0,\n",
        "      callbacks = [early_stop_call],\n",
        "      validation_data = (x_test, y_test))\n",
        "  return hist\n",
        "  \n",
        "# Callback function to stop training with no improvement\n",
        "early_stop_call = keras.callbacks.EarlyStopping(monitor='val_loss', patience=10)"
      ],
      "execution_count": 0,
      "outputs": []
    },
    {
      "metadata": {
        "id": "LYk2WmA6xeo8",
        "colab_type": "text"
      },
      "cell_type": "markdown",
      "source": [
        "**Create nested cross-validation for optimal hyperparameter search and model performance estimation**"
      ]
    },
    {
      "metadata": {
        "id": "_mDvYhjK9mP8",
        "colab_type": "code",
        "colab": {
          "base_uri": "https://localhost:8080/",
          "height": 8477
        },
        "outputId": "fb0cdd96-1b74-489d-b83b-4e6df4f04d49"
      },
      "cell_type": "code",
      "source": [
        "outer_fold = KFold(n_splits=5, shuffle=True, random_state=rand_state)\n",
        "inner_fold = KFold(n_splits=5, shuffle=True, random_state=rand_state)\n",
        "\n",
        "outer_scores = []\n",
        "inner_scores = []\n",
        "best_params = []\n",
        "\n",
        "learn_rate = [0.001, 0.01, 0.1]#, 0.1, 0.25, 0.5]\n",
        "dropout_rate = [0.0, 0.5, 0.8]#, 0.2, 0.4, 0.6, 0.8]\n",
        "neurons = [16, 64]#[1, 4, 16, 64]\n",
        "parameters = dict(learn_rate=learn_rate,\n",
        "                  dropout_rate=dropout_rate,\n",
        "                  #neurons=neurons\n",
        "                 )\n",
        "\n",
        "inner_model = None\n",
        "inner_model = KerasRegressor(build_fn=build_model, epochs=500, verbose=0)\n",
        "grid_estimator = GridSearchCV(estimator=inner_model, param_grid=parameters, scoring='neg_mean_squared_error', cv=inner_fold, verbose=2, iid=False)\n",
        "#outer_scores = cross_val_score(grid, X=feature_dataframe, y=target_dataframe, scoring='neg_mean_squared_error', cv=outer_fold, verbose=0)\n",
        "\n",
        "for i, (outer_train_index, outer_test_index) in enumerate(outer_fold.split(train_dataframe)):\n",
        "  print(\"Begin fold \" + str(i+1))\n",
        "  \n",
        "  outer_x_train, outer_y_train = process_data(train_dataframe.iloc[outer_train_index].copy())\n",
        "  outer_x_test, outer_y_test = process_data(train_dataframe.iloc[outer_test_index].copy())\n",
        "  \n",
        "  grid_estimator.fit(outer_x_train, outer_y_train)\n",
        "  inner_scores.append(grid_estimator.score(outer_x_test, outer_y_test))\n",
        "  best_params.append(grid_estimator.best_params_)\n",
        "  print(inner_scores)\n",
        "  print(best_params)\n",
        "  \n",
        "outer_scores.append(sum(inner_scores)/len(inner_scores))\n",
        "print(\"Overall score: \" + outer_scores)\n",
        "print(outer_scores)"
      ],
      "execution_count": 7,
      "outputs": [
        {
          "output_type": "stream",
          "text": [
            "Begin fold 1\n",
            "Fitting 5 folds for each of 9 candidates, totalling 45 fits\n",
            "[CV] dropout_rate=0.0, learn_rate=0.001 ..............................\n"
          ],
          "name": "stdout"
        },
        {
          "output_type": "stream",
          "text": [
            "[Parallel(n_jobs=1)]: Using backend SequentialBackend with 1 concurrent workers.\n"
          ],
          "name": "stderr"
        },
        {
          "output_type": "stream",
          "text": [
            "[CV] ............... dropout_rate=0.0, learn_rate=0.001, total=  20.7s\n",
            "[CV] dropout_rate=0.0, learn_rate=0.001 ..............................\n"
          ],
          "name": "stdout"
        },
        {
          "output_type": "stream",
          "text": [
            "[Parallel(n_jobs=1)]: Done   1 out of   1 | elapsed:   20.7s remaining:    0.0s\n"
          ],
          "name": "stderr"
        },
        {
          "output_type": "stream",
          "text": [
            "[CV] ............... dropout_rate=0.0, learn_rate=0.001, total=  17.3s\n",
            "[CV] dropout_rate=0.0, learn_rate=0.001 ..............................\n",
            "[CV] ............... dropout_rate=0.0, learn_rate=0.001, total=  16.9s\n",
            "[CV] dropout_rate=0.0, learn_rate=0.001 ..............................\n",
            "[CV] ............... dropout_rate=0.0, learn_rate=0.001, total=  16.7s\n",
            "[CV] dropout_rate=0.0, learn_rate=0.001 ..............................\n",
            "[CV] ............... dropout_rate=0.0, learn_rate=0.001, total=  17.7s\n",
            "[CV] dropout_rate=0.0, learn_rate=0.01 ...............................\n",
            "[CV] ................ dropout_rate=0.0, learn_rate=0.01, total=  18.1s\n",
            "[CV] dropout_rate=0.0, learn_rate=0.01 ...............................\n",
            "[CV] ................ dropout_rate=0.0, learn_rate=0.01, total=  18.0s\n",
            "[CV] dropout_rate=0.0, learn_rate=0.01 ...............................\n",
            "[CV] ................ dropout_rate=0.0, learn_rate=0.01, total=  18.6s\n",
            "[CV] dropout_rate=0.0, learn_rate=0.01 ...............................\n",
            "[CV] ................ dropout_rate=0.0, learn_rate=0.01, total=  19.0s\n",
            "[CV] dropout_rate=0.0, learn_rate=0.01 ...............................\n",
            "[CV] ................ dropout_rate=0.0, learn_rate=0.01, total=  19.0s\n",
            "[CV] dropout_rate=0.0, learn_rate=0.1 ................................\n",
            "[CV] ................. dropout_rate=0.0, learn_rate=0.1, total=  18.6s\n",
            "[CV] dropout_rate=0.0, learn_rate=0.1 ................................\n",
            "[CV] ................. dropout_rate=0.0, learn_rate=0.1, total=  19.8s\n",
            "[CV] dropout_rate=0.0, learn_rate=0.1 ................................\n",
            "[CV] ................. dropout_rate=0.0, learn_rate=0.1, total=  20.6s\n",
            "[CV] dropout_rate=0.0, learn_rate=0.1 ................................\n",
            "[CV] ................. dropout_rate=0.0, learn_rate=0.1, total=  21.9s\n",
            "[CV] dropout_rate=0.0, learn_rate=0.1 ................................\n",
            "[CV] ................. dropout_rate=0.0, learn_rate=0.1, total=  22.2s\n",
            "[CV] dropout_rate=0.5, learn_rate=0.001 ..............................\n",
            "[CV] ............... dropout_rate=0.5, learn_rate=0.001, total=  21.2s\n",
            "[CV] dropout_rate=0.5, learn_rate=0.001 ..............................\n",
            "[CV] ............... dropout_rate=0.5, learn_rate=0.001, total=  20.8s\n",
            "[CV] dropout_rate=0.5, learn_rate=0.001 ..............................\n",
            "[CV] ............... dropout_rate=0.5, learn_rate=0.001, total=  21.5s\n",
            "[CV] dropout_rate=0.5, learn_rate=0.001 ..............................\n",
            "[CV] ............... dropout_rate=0.5, learn_rate=0.001, total=  22.4s\n",
            "[CV] dropout_rate=0.5, learn_rate=0.001 ..............................\n",
            "[CV] ............... dropout_rate=0.5, learn_rate=0.001, total=  22.4s\n",
            "[CV] dropout_rate=0.5, learn_rate=0.01 ...............................\n",
            "[CV] ................ dropout_rate=0.5, learn_rate=0.01, total=  22.7s\n",
            "[CV] dropout_rate=0.5, learn_rate=0.01 ...............................\n",
            "[CV] ................ dropout_rate=0.5, learn_rate=0.01, total=  23.7s\n",
            "[CV] dropout_rate=0.5, learn_rate=0.01 ...............................\n",
            "[CV] ................ dropout_rate=0.5, learn_rate=0.01, total=  24.0s\n",
            "[CV] dropout_rate=0.5, learn_rate=0.01 ...............................\n",
            "[CV] ................ dropout_rate=0.5, learn_rate=0.01, total=  22.8s\n",
            "[CV] dropout_rate=0.5, learn_rate=0.01 ...............................\n",
            "[CV] ................ dropout_rate=0.5, learn_rate=0.01, total=  23.4s\n",
            "[CV] dropout_rate=0.5, learn_rate=0.1 ................................\n",
            "[CV] ................. dropout_rate=0.5, learn_rate=0.1, total=  24.8s\n",
            "[CV] dropout_rate=0.5, learn_rate=0.1 ................................\n",
            "[CV] ................. dropout_rate=0.5, learn_rate=0.1, total=  26.2s\n",
            "[CV] dropout_rate=0.5, learn_rate=0.1 ................................\n",
            "[CV] ................. dropout_rate=0.5, learn_rate=0.1, total=  26.6s\n",
            "[CV] dropout_rate=0.5, learn_rate=0.1 ................................\n",
            "[CV] ................. dropout_rate=0.5, learn_rate=0.1, total=  24.8s\n",
            "[CV] dropout_rate=0.5, learn_rate=0.1 ................................\n",
            "[CV] ................. dropout_rate=0.5, learn_rate=0.1, total=  25.2s\n",
            "[CV] dropout_rate=0.8, learn_rate=0.001 ..............................\n",
            "[CV] ............... dropout_rate=0.8, learn_rate=0.001, total=  26.6s\n",
            "[CV] dropout_rate=0.8, learn_rate=0.001 ..............................\n",
            "[CV] ............... dropout_rate=0.8, learn_rate=0.001, total=  26.8s\n",
            "[CV] dropout_rate=0.8, learn_rate=0.001 ..............................\n",
            "[CV] ............... dropout_rate=0.8, learn_rate=0.001, total=  26.4s\n",
            "[CV] dropout_rate=0.8, learn_rate=0.001 ..............................\n",
            "[CV] ............... dropout_rate=0.8, learn_rate=0.001, total=  26.6s\n",
            "[CV] dropout_rate=0.8, learn_rate=0.001 ..............................\n",
            "[CV] ............... dropout_rate=0.8, learn_rate=0.001, total=  26.7s\n",
            "[CV] dropout_rate=0.8, learn_rate=0.01 ...............................\n",
            "[CV] ................ dropout_rate=0.8, learn_rate=0.01, total=  26.7s\n",
            "[CV] dropout_rate=0.8, learn_rate=0.01 ...............................\n",
            "[CV] ................ dropout_rate=0.8, learn_rate=0.01, total=  28.1s\n",
            "[CV] dropout_rate=0.8, learn_rate=0.01 ...............................\n",
            "[CV] ................ dropout_rate=0.8, learn_rate=0.01, total=  30.4s\n",
            "[CV] dropout_rate=0.8, learn_rate=0.01 ...............................\n",
            "[CV] ................ dropout_rate=0.8, learn_rate=0.01, total=  30.6s\n",
            "[CV] dropout_rate=0.8, learn_rate=0.01 ...............................\n",
            "[CV] ................ dropout_rate=0.8, learn_rate=0.01, total=  28.9s\n",
            "[CV] dropout_rate=0.8, learn_rate=0.1 ................................\n",
            "[CV] ................. dropout_rate=0.8, learn_rate=0.1, total=  29.4s\n",
            "[CV] dropout_rate=0.8, learn_rate=0.1 ................................\n",
            "[CV] ................. dropout_rate=0.8, learn_rate=0.1, total=  29.0s\n",
            "[CV] dropout_rate=0.8, learn_rate=0.1 ................................\n",
            "[CV] ................. dropout_rate=0.8, learn_rate=0.1, total=  30.2s\n",
            "[CV] dropout_rate=0.8, learn_rate=0.1 ................................\n",
            "[CV] ................. dropout_rate=0.8, learn_rate=0.1, total=  31.2s\n",
            "[CV] dropout_rate=0.8, learn_rate=0.1 ................................\n",
            "[CV] ................. dropout_rate=0.8, learn_rate=0.1, total=  30.7s\n"
          ],
          "name": "stdout"
        },
        {
          "output_type": "stream",
          "text": [
            "[Parallel(n_jobs=1)]: Done  45 out of  45 | elapsed: 17.8min finished\n"
          ],
          "name": "stderr"
        },
        {
          "output_type": "stream",
          "text": [
            "[-0.048432573194979976]\n",
            "[{'dropout_rate': 0.5, 'learn_rate': 0.001}]\n",
            "Begin fold 2\n",
            "Fitting 5 folds for each of 9 candidates, totalling 45 fits\n",
            "[CV] dropout_rate=0.0, learn_rate=0.001 ..............................\n"
          ],
          "name": "stdout"
        },
        {
          "output_type": "stream",
          "text": [
            "[Parallel(n_jobs=1)]: Using backend SequentialBackend with 1 concurrent workers.\n"
          ],
          "name": "stderr"
        },
        {
          "output_type": "stream",
          "text": [
            "[CV] ............... dropout_rate=0.0, learn_rate=0.001, total=  32.8s\n",
            "[CV] dropout_rate=0.0, learn_rate=0.001 ..............................\n"
          ],
          "name": "stdout"
        },
        {
          "output_type": "stream",
          "text": [
            "[Parallel(n_jobs=1)]: Done   1 out of   1 | elapsed:   32.8s remaining:    0.0s\n"
          ],
          "name": "stderr"
        },
        {
          "output_type": "stream",
          "text": [
            "[CV] ............... dropout_rate=0.0, learn_rate=0.001, total=  33.7s\n",
            "[CV] dropout_rate=0.0, learn_rate=0.001 ..............................\n",
            "[CV] ............... dropout_rate=0.0, learn_rate=0.001, total=  33.6s\n",
            "[CV] dropout_rate=0.0, learn_rate=0.001 ..............................\n",
            "[CV] ............... dropout_rate=0.0, learn_rate=0.001, total=  33.9s\n",
            "[CV] dropout_rate=0.0, learn_rate=0.001 ..............................\n",
            "[CV] ............... dropout_rate=0.0, learn_rate=0.001, total=  35.1s\n",
            "[CV] dropout_rate=0.0, learn_rate=0.01 ...............................\n",
            "[CV] ................ dropout_rate=0.0, learn_rate=0.01, total=  32.6s\n",
            "[CV] dropout_rate=0.0, learn_rate=0.01 ...............................\n",
            "[CV] ................ dropout_rate=0.0, learn_rate=0.01, total=  35.2s\n",
            "[CV] dropout_rate=0.0, learn_rate=0.01 ...............................\n",
            "[CV] ................ dropout_rate=0.0, learn_rate=0.01, total=  37.7s\n",
            "[CV] dropout_rate=0.0, learn_rate=0.01 ...............................\n",
            "[CV] ................ dropout_rate=0.0, learn_rate=0.01, total=  36.5s\n",
            "[CV] dropout_rate=0.0, learn_rate=0.01 ...............................\n",
            "[CV] ................ dropout_rate=0.0, learn_rate=0.01, total=  35.3s\n",
            "[CV] dropout_rate=0.0, learn_rate=0.1 ................................\n",
            "[CV] ................. dropout_rate=0.0, learn_rate=0.1, total=  33.9s\n",
            "[CV] dropout_rate=0.0, learn_rate=0.1 ................................\n",
            "[CV] ................. dropout_rate=0.0, learn_rate=0.1, total=  36.0s\n",
            "[CV] dropout_rate=0.0, learn_rate=0.1 ................................\n",
            "[CV] ................. dropout_rate=0.0, learn_rate=0.1, total=  37.3s\n",
            "[CV] dropout_rate=0.0, learn_rate=0.1 ................................\n",
            "[CV] ................. dropout_rate=0.0, learn_rate=0.1, total=  38.9s\n",
            "[CV] dropout_rate=0.0, learn_rate=0.1 ................................\n",
            "[CV] ................. dropout_rate=0.0, learn_rate=0.1, total=  39.3s\n",
            "[CV] dropout_rate=0.5, learn_rate=0.001 ..............................\n",
            "[CV] ............... dropout_rate=0.5, learn_rate=0.001, total=  39.4s\n",
            "[CV] dropout_rate=0.5, learn_rate=0.001 ..............................\n",
            "[CV] ............... dropout_rate=0.5, learn_rate=0.001, total=  39.6s\n",
            "[CV] dropout_rate=0.5, learn_rate=0.001 ..............................\n",
            "[CV] ............... dropout_rate=0.5, learn_rate=0.001, total=  39.7s\n",
            "[CV] dropout_rate=0.5, learn_rate=0.001 ..............................\n",
            "[CV] ............... dropout_rate=0.5, learn_rate=0.001, total=  39.4s\n",
            "[CV] dropout_rate=0.5, learn_rate=0.001 ..............................\n",
            "[CV] ............... dropout_rate=0.5, learn_rate=0.001, total=  40.2s\n",
            "[CV] dropout_rate=0.5, learn_rate=0.01 ...............................\n",
            "[CV] ................ dropout_rate=0.5, learn_rate=0.01, total=  40.2s\n",
            "[CV] dropout_rate=0.5, learn_rate=0.01 ...............................\n",
            "[CV] ................ dropout_rate=0.5, learn_rate=0.01, total=  39.4s\n",
            "[CV] dropout_rate=0.5, learn_rate=0.01 ...............................\n",
            "[CV] ................ dropout_rate=0.5, learn_rate=0.01, total=  44.7s\n",
            "[CV] dropout_rate=0.5, learn_rate=0.01 ...............................\n",
            "[CV] ................ dropout_rate=0.5, learn_rate=0.01, total=  44.8s\n",
            "[CV] dropout_rate=0.5, learn_rate=0.01 ...............................\n",
            "[CV] ................ dropout_rate=0.5, learn_rate=0.01, total=  42.9s\n",
            "[CV] dropout_rate=0.5, learn_rate=0.1 ................................\n",
            "[CV] ................. dropout_rate=0.5, learn_rate=0.1, total=  41.7s\n",
            "[CV] dropout_rate=0.5, learn_rate=0.1 ................................\n",
            "[CV] ................. dropout_rate=0.5, learn_rate=0.1, total=  43.3s\n",
            "[CV] dropout_rate=0.5, learn_rate=0.1 ................................\n",
            "[CV] ................. dropout_rate=0.5, learn_rate=0.1, total=  45.8s\n",
            "[CV] dropout_rate=0.5, learn_rate=0.1 ................................\n",
            "[CV] ................. dropout_rate=0.5, learn_rate=0.1, total=  43.3s\n",
            "[CV] dropout_rate=0.5, learn_rate=0.1 ................................\n",
            "[CV] ................. dropout_rate=0.5, learn_rate=0.1, total=  48.8s\n",
            "[CV] dropout_rate=0.8, learn_rate=0.001 ..............................\n",
            "[CV] ............... dropout_rate=0.8, learn_rate=0.001, total=  44.9s\n",
            "[CV] dropout_rate=0.8, learn_rate=0.001 ..............................\n",
            "[CV] ............... dropout_rate=0.8, learn_rate=0.001, total=  44.4s\n",
            "[CV] dropout_rate=0.8, learn_rate=0.001 ..............................\n",
            "[CV] ............... dropout_rate=0.8, learn_rate=0.001, total=  45.8s\n",
            "[CV] dropout_rate=0.8, learn_rate=0.001 ..............................\n",
            "[CV] ............... dropout_rate=0.8, learn_rate=0.001, total=  47.6s\n",
            "[CV] dropout_rate=0.8, learn_rate=0.001 ..............................\n",
            "[CV] ............... dropout_rate=0.8, learn_rate=0.001, total=  46.2s\n",
            "[CV] dropout_rate=0.8, learn_rate=0.01 ...............................\n",
            "[CV] ................ dropout_rate=0.8, learn_rate=0.01, total=  48.8s\n",
            "[CV] dropout_rate=0.8, learn_rate=0.01 ...............................\n",
            "[CV] ................ dropout_rate=0.8, learn_rate=0.01, total=  46.7s\n",
            "[CV] dropout_rate=0.8, learn_rate=0.01 ...............................\n",
            "[CV] ................ dropout_rate=0.8, learn_rate=0.01, total=  49.4s\n",
            "[CV] dropout_rate=0.8, learn_rate=0.01 ...............................\n",
            "[CV] ................ dropout_rate=0.8, learn_rate=0.01, total=  48.9s\n",
            "[CV] dropout_rate=0.8, learn_rate=0.01 ...............................\n",
            "[CV] ................ dropout_rate=0.8, learn_rate=0.01, total=  48.5s\n",
            "[CV] dropout_rate=0.8, learn_rate=0.1 ................................\n",
            "[CV] ................. dropout_rate=0.8, learn_rate=0.1, total=  51.7s\n",
            "[CV] dropout_rate=0.8, learn_rate=0.1 ................................\n",
            "[CV] ................. dropout_rate=0.8, learn_rate=0.1, total=  50.0s\n",
            "[CV] dropout_rate=0.8, learn_rate=0.1 ................................\n",
            "[CV] ................. dropout_rate=0.8, learn_rate=0.1, total=  50.2s\n",
            "[CV] dropout_rate=0.8, learn_rate=0.1 ................................\n",
            "[CV] ................. dropout_rate=0.8, learn_rate=0.1, total=  53.3s\n",
            "[CV] dropout_rate=0.8, learn_rate=0.1 ................................\n",
            "[CV] ................. dropout_rate=0.8, learn_rate=0.1, total=  53.5s\n"
          ],
          "name": "stdout"
        },
        {
          "output_type": "stream",
          "text": [
            "[Parallel(n_jobs=1)]: Done  45 out of  45 | elapsed: 31.6min finished\n"
          ],
          "name": "stderr"
        },
        {
          "output_type": "stream",
          "text": [
            "[-0.048432573194979976, -0.07354103377797906]\n",
            "[{'dropout_rate': 0.5, 'learn_rate': 0.001}, {'dropout_rate': 0.5, 'learn_rate': 0.001}]\n",
            "Begin fold 3\n",
            "Fitting 5 folds for each of 9 candidates, totalling 45 fits\n",
            "[CV] dropout_rate=0.0, learn_rate=0.001 ..............................\n"
          ],
          "name": "stdout"
        },
        {
          "output_type": "stream",
          "text": [
            "[Parallel(n_jobs=1)]: Using backend SequentialBackend with 1 concurrent workers.\n"
          ],
          "name": "stderr"
        },
        {
          "output_type": "stream",
          "text": [
            "[CV] ............... dropout_rate=0.0, learn_rate=0.001, total=  54.0s\n",
            "[CV] dropout_rate=0.0, learn_rate=0.001 ..............................\n"
          ],
          "name": "stdout"
        },
        {
          "output_type": "stream",
          "text": [
            "[Parallel(n_jobs=1)]: Done   1 out of   1 | elapsed:   54.0s remaining:    0.0s\n"
          ],
          "name": "stderr"
        },
        {
          "output_type": "stream",
          "text": [
            "[CV] ............... dropout_rate=0.0, learn_rate=0.001, total=  49.5s\n",
            "[CV] dropout_rate=0.0, learn_rate=0.001 ..............................\n",
            "[CV] ............... dropout_rate=0.0, learn_rate=0.001, total=  49.9s\n",
            "[CV] dropout_rate=0.0, learn_rate=0.001 ..............................\n",
            "[CV] ............... dropout_rate=0.0, learn_rate=0.001, total=  51.6s\n",
            "[CV] dropout_rate=0.0, learn_rate=0.001 ..............................\n",
            "[CV] ............... dropout_rate=0.0, learn_rate=0.001, total=  53.0s\n",
            "[CV] dropout_rate=0.0, learn_rate=0.01 ...............................\n",
            "[CV] ................ dropout_rate=0.0, learn_rate=0.01, total=  53.2s\n",
            "[CV] dropout_rate=0.0, learn_rate=0.01 ...............................\n",
            "[CV] ................ dropout_rate=0.0, learn_rate=0.01, total=  57.2s\n",
            "[CV] dropout_rate=0.0, learn_rate=0.01 ...............................\n",
            "[CV] ................ dropout_rate=0.0, learn_rate=0.01, total=  53.8s\n",
            "[CV] dropout_rate=0.0, learn_rate=0.01 ...............................\n",
            "[CV] ................ dropout_rate=0.0, learn_rate=0.01, total=  53.1s\n",
            "[CV] dropout_rate=0.0, learn_rate=0.01 ...............................\n",
            "[CV] ................ dropout_rate=0.0, learn_rate=0.01, total=  54.2s\n",
            "[CV] dropout_rate=0.0, learn_rate=0.1 ................................\n",
            "[CV] ................. dropout_rate=0.0, learn_rate=0.1, total=  54.6s\n",
            "[CV] dropout_rate=0.0, learn_rate=0.1 ................................\n",
            "[CV] ................. dropout_rate=0.0, learn_rate=0.1, total=  59.7s\n",
            "[CV] dropout_rate=0.0, learn_rate=0.1 ................................\n",
            "[CV] ................. dropout_rate=0.0, learn_rate=0.1, total=  55.4s\n",
            "[CV] dropout_rate=0.0, learn_rate=0.1 ................................\n",
            "[CV] ................. dropout_rate=0.0, learn_rate=0.1, total=  55.9s\n",
            "[CV] dropout_rate=0.0, learn_rate=0.1 ................................\n",
            "[CV] ................. dropout_rate=0.0, learn_rate=0.1, total=  56.2s\n",
            "[CV] dropout_rate=0.5, learn_rate=0.001 ..............................\n",
            "[CV] ............... dropout_rate=0.5, learn_rate=0.001, total= 1.0min\n",
            "[CV] dropout_rate=0.5, learn_rate=0.001 ..............................\n",
            "[CV] ............... dropout_rate=0.5, learn_rate=0.001, total=  58.1s\n",
            "[CV] dropout_rate=0.5, learn_rate=0.001 ..............................\n",
            "[CV] ............... dropout_rate=0.5, learn_rate=0.001, total=  58.4s\n",
            "[CV] dropout_rate=0.5, learn_rate=0.001 ..............................\n",
            "[CV] ............... dropout_rate=0.5, learn_rate=0.001, total=  59.6s\n",
            "[CV] dropout_rate=0.5, learn_rate=0.001 ..............................\n",
            "[CV] ............... dropout_rate=0.5, learn_rate=0.001, total=  59.4s\n",
            "[CV] dropout_rate=0.5, learn_rate=0.01 ...............................\n",
            "[CV] ................ dropout_rate=0.5, learn_rate=0.01, total= 1.1min\n",
            "[CV] dropout_rate=0.5, learn_rate=0.01 ...............................\n",
            "[CV] ................ dropout_rate=0.5, learn_rate=0.01, total= 1.0min\n",
            "[CV] dropout_rate=0.5, learn_rate=0.01 ...............................\n",
            "[CV] ................ dropout_rate=0.5, learn_rate=0.01, total= 1.0min\n",
            "[CV] dropout_rate=0.5, learn_rate=0.01 ...............................\n",
            "[CV] ................ dropout_rate=0.5, learn_rate=0.01, total= 1.0min\n",
            "[CV] dropout_rate=0.5, learn_rate=0.01 ...............................\n",
            "[CV] ................ dropout_rate=0.5, learn_rate=0.01, total= 1.1min\n",
            "[CV] dropout_rate=0.5, learn_rate=0.1 ................................\n",
            "[CV] ................. dropout_rate=0.5, learn_rate=0.1, total= 1.1min\n",
            "[CV] dropout_rate=0.5, learn_rate=0.1 ................................\n",
            "[CV] ................. dropout_rate=0.5, learn_rate=0.1, total= 1.0min\n",
            "[CV] dropout_rate=0.5, learn_rate=0.1 ................................\n",
            "[CV] ................. dropout_rate=0.5, learn_rate=0.1, total= 1.1min\n",
            "[CV] dropout_rate=0.5, learn_rate=0.1 ................................\n",
            "[CV] ................. dropout_rate=0.5, learn_rate=0.1, total= 1.1min\n",
            "[CV] dropout_rate=0.5, learn_rate=0.1 ................................\n",
            "[CV] ................. dropout_rate=0.5, learn_rate=0.1, total= 1.2min\n",
            "[CV] dropout_rate=0.8, learn_rate=0.001 ..............................\n",
            "[CV] ............... dropout_rate=0.8, learn_rate=0.001, total= 1.1min\n",
            "[CV] dropout_rate=0.8, learn_rate=0.001 ..............................\n",
            "[CV] ............... dropout_rate=0.8, learn_rate=0.001, total= 1.1min\n",
            "[CV] dropout_rate=0.8, learn_rate=0.001 ..............................\n",
            "[CV] ............... dropout_rate=0.8, learn_rate=0.001, total= 1.1min\n",
            "[CV] dropout_rate=0.8, learn_rate=0.001 ..............................\n",
            "[CV] ............... dropout_rate=0.8, learn_rate=0.001, total= 1.2min\n",
            "[CV] dropout_rate=0.8, learn_rate=0.001 ..............................\n",
            "[CV] ............... dropout_rate=0.8, learn_rate=0.001, total= 1.1min\n",
            "[CV] dropout_rate=0.8, learn_rate=0.01 ...............................\n",
            "[CV] ................ dropout_rate=0.8, learn_rate=0.01, total= 1.2min\n",
            "[CV] dropout_rate=0.8, learn_rate=0.01 ...............................\n",
            "[CV] ................ dropout_rate=0.8, learn_rate=0.01, total= 1.2min\n",
            "[CV] dropout_rate=0.8, learn_rate=0.01 ...............................\n",
            "[CV] ................ dropout_rate=0.8, learn_rate=0.01, total= 1.2min\n",
            "[CV] dropout_rate=0.8, learn_rate=0.01 ...............................\n",
            "[CV] ................ dropout_rate=0.8, learn_rate=0.01, total= 1.2min\n",
            "[CV] dropout_rate=0.8, learn_rate=0.01 ...............................\n",
            "[CV] ................ dropout_rate=0.8, learn_rate=0.01, total= 1.2min\n",
            "[CV] dropout_rate=0.8, learn_rate=0.1 ................................\n",
            "[CV] ................. dropout_rate=0.8, learn_rate=0.1, total= 1.3min\n",
            "[CV] dropout_rate=0.8, learn_rate=0.1 ................................\n",
            "[CV] ................. dropout_rate=0.8, learn_rate=0.1, total= 1.2min\n",
            "[CV] dropout_rate=0.8, learn_rate=0.1 ................................\n",
            "[CV] ................. dropout_rate=0.8, learn_rate=0.1, total= 1.2min\n",
            "[CV] dropout_rate=0.8, learn_rate=0.1 ................................\n",
            "[CV] ................. dropout_rate=0.8, learn_rate=0.1, total= 1.2min\n",
            "[CV] dropout_rate=0.8, learn_rate=0.1 ................................\n",
            "[CV] ................. dropout_rate=0.8, learn_rate=0.1, total= 1.3min\n"
          ],
          "name": "stdout"
        },
        {
          "output_type": "stream",
          "text": [
            "[Parallel(n_jobs=1)]: Done  45 out of  45 | elapsed: 47.1min finished\n"
          ],
          "name": "stderr"
        },
        {
          "output_type": "stream",
          "text": [
            "[-0.048432573194979976, -0.07354103377797906, -0.13264592003069436]\n",
            "[{'dropout_rate': 0.5, 'learn_rate': 0.001}, {'dropout_rate': 0.5, 'learn_rate': 0.001}, {'dropout_rate': 0.5, 'learn_rate': 0.001}]\n",
            "Begin fold 4\n",
            "Fitting 5 folds for each of 9 candidates, totalling 45 fits\n",
            "[CV] dropout_rate=0.0, learn_rate=0.001 ..............................\n"
          ],
          "name": "stdout"
        },
        {
          "output_type": "stream",
          "text": [
            "[Parallel(n_jobs=1)]: Using backend SequentialBackend with 1 concurrent workers.\n"
          ],
          "name": "stderr"
        },
        {
          "output_type": "stream",
          "text": [
            "[CV] ............... dropout_rate=0.0, learn_rate=0.001, total= 1.2min\n",
            "[CV] dropout_rate=0.0, learn_rate=0.001 ..............................\n"
          ],
          "name": "stdout"
        },
        {
          "output_type": "stream",
          "text": [
            "[Parallel(n_jobs=1)]: Done   1 out of   1 | elapsed:  1.2min remaining:    0.0s\n"
          ],
          "name": "stderr"
        },
        {
          "output_type": "stream",
          "text": [
            "[CV] ............... dropout_rate=0.0, learn_rate=0.001, total= 1.2min\n",
            "[CV] dropout_rate=0.0, learn_rate=0.001 ..............................\n",
            "[CV] ............... dropout_rate=0.0, learn_rate=0.001, total= 1.4min\n",
            "[CV] dropout_rate=0.0, learn_rate=0.001 ..............................\n",
            "[CV] ............... dropout_rate=0.0, learn_rate=0.001, total= 1.3min\n",
            "[CV] dropout_rate=0.0, learn_rate=0.001 ..............................\n",
            "[CV] ............... dropout_rate=0.0, learn_rate=0.001, total= 1.3min\n",
            "[CV] dropout_rate=0.0, learn_rate=0.01 ...............................\n",
            "[CV] ................ dropout_rate=0.0, learn_rate=0.01, total= 1.3min\n",
            "[CV] dropout_rate=0.0, learn_rate=0.01 ...............................\n",
            "[CV] ................ dropout_rate=0.0, learn_rate=0.01, total= 1.3min\n",
            "[CV] dropout_rate=0.0, learn_rate=0.01 ...............................\n",
            "[CV] ................ dropout_rate=0.0, learn_rate=0.01, total= 1.3min\n",
            "[CV] dropout_rate=0.0, learn_rate=0.01 ...............................\n",
            "[CV] ................ dropout_rate=0.0, learn_rate=0.01, total= 1.3min\n",
            "[CV] dropout_rate=0.0, learn_rate=0.01 ...............................\n",
            "[CV] ................ dropout_rate=0.0, learn_rate=0.01, total= 1.4min\n",
            "[CV] dropout_rate=0.0, learn_rate=0.1 ................................\n",
            "[CV] ................. dropout_rate=0.0, learn_rate=0.1, total= 1.3min\n",
            "[CV] dropout_rate=0.0, learn_rate=0.1 ................................\n",
            "[CV] ................. dropout_rate=0.0, learn_rate=0.1, total= 1.3min\n",
            "[CV] dropout_rate=0.0, learn_rate=0.1 ................................\n",
            "[CV] ................. dropout_rate=0.0, learn_rate=0.1, total= 1.4min\n",
            "[CV] dropout_rate=0.0, learn_rate=0.1 ................................\n",
            "[CV] ................. dropout_rate=0.0, learn_rate=0.1, total= 1.5min\n",
            "[CV] dropout_rate=0.0, learn_rate=0.1 ................................\n",
            "[CV] ................. dropout_rate=0.0, learn_rate=0.1, total= 1.4min\n",
            "[CV] dropout_rate=0.5, learn_rate=0.001 ..............................\n",
            "[CV] ............... dropout_rate=0.5, learn_rate=0.001, total= 1.4min\n",
            "[CV] dropout_rate=0.5, learn_rate=0.001 ..............................\n",
            "[CV] ............... dropout_rate=0.5, learn_rate=0.001, total= 1.5min\n",
            "[CV] dropout_rate=0.5, learn_rate=0.001 ..............................\n",
            "[CV] ............... dropout_rate=0.5, learn_rate=0.001, total= 1.4min\n",
            "[CV] dropout_rate=0.5, learn_rate=0.001 ..............................\n",
            "[CV] ............... dropout_rate=0.5, learn_rate=0.001, total= 1.4min\n",
            "[CV] dropout_rate=0.5, learn_rate=0.001 ..............................\n",
            "[CV] ............... dropout_rate=0.5, learn_rate=0.001, total= 1.6min\n",
            "[CV] dropout_rate=0.5, learn_rate=0.01 ...............................\n",
            "[CV] ................ dropout_rate=0.5, learn_rate=0.01, total= 1.5min\n",
            "[CV] dropout_rate=0.5, learn_rate=0.01 ...............................\n",
            "[CV] ................ dropout_rate=0.5, learn_rate=0.01, total= 1.5min\n",
            "[CV] dropout_rate=0.5, learn_rate=0.01 ...............................\n",
            "[CV] ................ dropout_rate=0.5, learn_rate=0.01, total= 1.5min\n",
            "[CV] dropout_rate=0.5, learn_rate=0.01 ...............................\n",
            "[CV] ................ dropout_rate=0.5, learn_rate=0.01, total= 1.5min\n",
            "[CV] dropout_rate=0.5, learn_rate=0.01 ...............................\n",
            "[CV] ................ dropout_rate=0.5, learn_rate=0.01, total= 1.5min\n",
            "[CV] dropout_rate=0.5, learn_rate=0.1 ................................\n",
            "[CV] ................. dropout_rate=0.5, learn_rate=0.1, total= 1.6min\n",
            "[CV] dropout_rate=0.5, learn_rate=0.1 ................................\n",
            "[CV] ................. dropout_rate=0.5, learn_rate=0.1, total= 1.5min\n",
            "[CV] dropout_rate=0.5, learn_rate=0.1 ................................\n",
            "[CV] ................. dropout_rate=0.5, learn_rate=0.1, total= 1.5min\n",
            "[CV] dropout_rate=0.5, learn_rate=0.1 ................................\n",
            "[CV] ................. dropout_rate=0.5, learn_rate=0.1, total= 1.5min\n",
            "[CV] dropout_rate=0.5, learn_rate=0.1 ................................\n",
            "[CV] ................. dropout_rate=0.5, learn_rate=0.1, total= 1.6min\n",
            "[CV] dropout_rate=0.8, learn_rate=0.001 ..............................\n",
            "[CV] ............... dropout_rate=0.8, learn_rate=0.001, total= 1.5min\n",
            "[CV] dropout_rate=0.8, learn_rate=0.001 ..............................\n",
            "[CV] ............... dropout_rate=0.8, learn_rate=0.001, total= 1.6min\n",
            "[CV] dropout_rate=0.8, learn_rate=0.001 ..............................\n",
            "[CV] ............... dropout_rate=0.8, learn_rate=0.001, total= 1.6min\n",
            "[CV] dropout_rate=0.8, learn_rate=0.001 ..............................\n",
            "[CV] ............... dropout_rate=0.8, learn_rate=0.001, total= 1.5min\n",
            "[CV] dropout_rate=0.8, learn_rate=0.001 ..............................\n",
            "[CV] ............... dropout_rate=0.8, learn_rate=0.001, total= 1.7min\n",
            "[CV] dropout_rate=0.8, learn_rate=0.01 ...............................\n",
            "[CV] ................ dropout_rate=0.8, learn_rate=0.01, total= 1.6min\n",
            "[CV] dropout_rate=0.8, learn_rate=0.01 ...............................\n",
            "[CV] ................ dropout_rate=0.8, learn_rate=0.01, total= 1.6min\n",
            "[CV] dropout_rate=0.8, learn_rate=0.01 ...............................\n",
            "[CV] ................ dropout_rate=0.8, learn_rate=0.01, total= 1.7min\n",
            "[CV] dropout_rate=0.8, learn_rate=0.01 ...............................\n",
            "[CV] ................ dropout_rate=0.8, learn_rate=0.01, total= 1.7min\n",
            "[CV] dropout_rate=0.8, learn_rate=0.01 ...............................\n",
            "[CV] ................ dropout_rate=0.8, learn_rate=0.01, total= 1.7min\n",
            "[CV] dropout_rate=0.8, learn_rate=0.1 ................................\n",
            "[CV] ................. dropout_rate=0.8, learn_rate=0.1, total= 1.7min\n",
            "[CV] dropout_rate=0.8, learn_rate=0.1 ................................\n",
            "[CV] ................. dropout_rate=0.8, learn_rate=0.1, total= 1.7min\n",
            "[CV] dropout_rate=0.8, learn_rate=0.1 ................................\n",
            "[CV] ................. dropout_rate=0.8, learn_rate=0.1, total= 1.7min\n",
            "[CV] dropout_rate=0.8, learn_rate=0.1 ................................\n",
            "[CV] ................. dropout_rate=0.8, learn_rate=0.1, total= 1.7min\n",
            "[CV] dropout_rate=0.8, learn_rate=0.1 ................................\n",
            "[CV] ................. dropout_rate=0.8, learn_rate=0.1, total= 1.8min\n"
          ],
          "name": "stdout"
        },
        {
          "output_type": "stream",
          "text": [
            "[Parallel(n_jobs=1)]: Done  45 out of  45 | elapsed: 67.2min finished\n"
          ],
          "name": "stderr"
        },
        {
          "output_type": "stream",
          "text": [
            "[-0.048432573194979976, -0.07354103377797906, -0.13264592003069436, -0.09607956656829761]\n",
            "[{'dropout_rate': 0.5, 'learn_rate': 0.001}, {'dropout_rate': 0.5, 'learn_rate': 0.001}, {'dropout_rate': 0.5, 'learn_rate': 0.001}, {'dropout_rate': 0.5, 'learn_rate': 0.001}]\n",
            "Begin fold 5\n",
            "Fitting 5 folds for each of 9 candidates, totalling 45 fits\n",
            "[CV] dropout_rate=0.0, learn_rate=0.001 ..............................\n"
          ],
          "name": "stdout"
        },
        {
          "output_type": "stream",
          "text": [
            "[Parallel(n_jobs=1)]: Using backend SequentialBackend with 1 concurrent workers.\n"
          ],
          "name": "stderr"
        },
        {
          "output_type": "stream",
          "text": [
            "[CV] ............... dropout_rate=0.0, learn_rate=0.001, total= 1.7min\n",
            "[CV] dropout_rate=0.0, learn_rate=0.001 ..............................\n"
          ],
          "name": "stdout"
        },
        {
          "output_type": "stream",
          "text": [
            "[Parallel(n_jobs=1)]: Done   1 out of   1 | elapsed:  1.7min remaining:    0.0s\n"
          ],
          "name": "stderr"
        },
        {
          "output_type": "stream",
          "text": [
            "[CV] ............... dropout_rate=0.0, learn_rate=0.001, total= 1.8min\n",
            "[CV] dropout_rate=0.0, learn_rate=0.001 ..............................\n",
            "[CV] ............... dropout_rate=0.0, learn_rate=0.001, total= 1.7min\n",
            "[CV] dropout_rate=0.0, learn_rate=0.001 ..............................\n",
            "[CV] ............... dropout_rate=0.0, learn_rate=0.001, total= 1.7min\n",
            "[CV] dropout_rate=0.0, learn_rate=0.001 ..............................\n",
            "[CV] ............... dropout_rate=0.0, learn_rate=0.001, total= 1.8min\n",
            "[CV] dropout_rate=0.0, learn_rate=0.01 ...............................\n",
            "[CV] ................ dropout_rate=0.0, learn_rate=0.01, total= 1.8min\n",
            "[CV] dropout_rate=0.0, learn_rate=0.01 ...............................\n",
            "[CV] ................ dropout_rate=0.0, learn_rate=0.01, total= 1.9min\n",
            "[CV] dropout_rate=0.0, learn_rate=0.01 ...............................\n",
            "[CV] ................ dropout_rate=0.0, learn_rate=0.01, total= 1.8min\n",
            "[CV] dropout_rate=0.0, learn_rate=0.01 ...............................\n",
            "[CV] ................ dropout_rate=0.0, learn_rate=0.01, total= 1.8min\n",
            "[CV] dropout_rate=0.0, learn_rate=0.01 ...............................\n",
            "[CV] ................ dropout_rate=0.0, learn_rate=0.01, total= 1.8min\n",
            "[CV] dropout_rate=0.0, learn_rate=0.1 ................................\n",
            "[CV] ................. dropout_rate=0.0, learn_rate=0.1, total= 1.9min\n",
            "[CV] dropout_rate=0.0, learn_rate=0.1 ................................\n",
            "[CV] ................. dropout_rate=0.0, learn_rate=0.1, total= 1.9min\n",
            "[CV] dropout_rate=0.0, learn_rate=0.1 ................................\n",
            "[CV] ................. dropout_rate=0.0, learn_rate=0.1, total= 1.8min\n",
            "[CV] dropout_rate=0.0, learn_rate=0.1 ................................\n",
            "[CV] ................. dropout_rate=0.0, learn_rate=0.1, total= 1.9min\n",
            "[CV] dropout_rate=0.0, learn_rate=0.1 ................................\n",
            "[CV] ................. dropout_rate=0.0, learn_rate=0.1, total= 1.9min\n",
            "[CV] dropout_rate=0.5, learn_rate=0.001 ..............................\n",
            "[CV] ............... dropout_rate=0.5, learn_rate=0.001, total= 2.1min\n",
            "[CV] dropout_rate=0.5, learn_rate=0.001 ..............................\n",
            "[CV] ............... dropout_rate=0.5, learn_rate=0.001, total= 1.9min\n",
            "[CV] dropout_rate=0.5, learn_rate=0.001 ..............................\n",
            "[CV] ............... dropout_rate=0.5, learn_rate=0.001, total= 1.9min\n",
            "[CV] dropout_rate=0.5, learn_rate=0.001 ..............................\n",
            "[CV] ............... dropout_rate=0.5, learn_rate=0.001, total= 2.0min\n",
            "[CV] dropout_rate=0.5, learn_rate=0.001 ..............................\n",
            "[CV] ............... dropout_rate=0.5, learn_rate=0.001, total= 2.0min\n",
            "[CV] dropout_rate=0.5, learn_rate=0.01 ...............................\n",
            "[CV] ................ dropout_rate=0.5, learn_rate=0.01, total= 2.1min\n",
            "[CV] dropout_rate=0.5, learn_rate=0.01 ...............................\n",
            "[CV] ................ dropout_rate=0.5, learn_rate=0.01, total= 2.0min\n",
            "[CV] dropout_rate=0.5, learn_rate=0.01 ...............................\n",
            "[CV] ................ dropout_rate=0.5, learn_rate=0.01, total= 2.0min\n",
            "[CV] dropout_rate=0.5, learn_rate=0.01 ...............................\n",
            "[CV] ................ dropout_rate=0.5, learn_rate=0.01, total= 2.1min\n",
            "[CV] dropout_rate=0.5, learn_rate=0.01 ...............................\n",
            "[CV] ................ dropout_rate=0.5, learn_rate=0.01, total= 2.2min\n",
            "[CV] dropout_rate=0.5, learn_rate=0.1 ................................\n",
            "[CV] ................. dropout_rate=0.5, learn_rate=0.1, total= 2.1min\n",
            "[CV] dropout_rate=0.5, learn_rate=0.1 ................................\n",
            "[CV] ................. dropout_rate=0.5, learn_rate=0.1, total= 2.2min\n",
            "[CV] dropout_rate=0.5, learn_rate=0.1 ................................\n",
            "[CV] ................. dropout_rate=0.5, learn_rate=0.1, total= 2.0min\n",
            "[CV] dropout_rate=0.5, learn_rate=0.1 ................................\n",
            "[CV] ................. dropout_rate=0.5, learn_rate=0.1, total= 2.1min\n",
            "[CV] dropout_rate=0.5, learn_rate=0.1 ................................\n",
            "[CV] ................. dropout_rate=0.5, learn_rate=0.1, total= 2.1min\n",
            "[CV] dropout_rate=0.8, learn_rate=0.001 ..............................\n",
            "[CV] ............... dropout_rate=0.8, learn_rate=0.001, total= 2.1min\n",
            "[CV] dropout_rate=0.8, learn_rate=0.001 ..............................\n",
            "[CV] ............... dropout_rate=0.8, learn_rate=0.001, total= 2.1min\n",
            "[CV] dropout_rate=0.8, learn_rate=0.001 ..............................\n",
            "[CV] ............... dropout_rate=0.8, learn_rate=0.001, total= 2.2min\n",
            "[CV] dropout_rate=0.8, learn_rate=0.001 ..............................\n",
            "[CV] ............... dropout_rate=0.8, learn_rate=0.001, total= 2.3min\n",
            "[CV] dropout_rate=0.8, learn_rate=0.001 ..............................\n",
            "[CV] ............... dropout_rate=0.8, learn_rate=0.001, total= 2.2min\n",
            "[CV] dropout_rate=0.8, learn_rate=0.01 ...............................\n",
            "[CV] ................ dropout_rate=0.8, learn_rate=0.01, total= 2.3min\n",
            "[CV] dropout_rate=0.8, learn_rate=0.01 ...............................\n",
            "[CV] ................ dropout_rate=0.8, learn_rate=0.01, total= 2.2min\n",
            "[CV] dropout_rate=0.8, learn_rate=0.01 ...............................\n",
            "[CV] ................ dropout_rate=0.8, learn_rate=0.01, total= 2.2min\n",
            "[CV] dropout_rate=0.8, learn_rate=0.01 ...............................\n",
            "[CV] ................ dropout_rate=0.8, learn_rate=0.01, total= 2.2min\n",
            "[CV] dropout_rate=0.8, learn_rate=0.01 ...............................\n",
            "[CV] ................ dropout_rate=0.8, learn_rate=0.01, total= 2.2min\n",
            "[CV] dropout_rate=0.8, learn_rate=0.1 ................................\n",
            "[CV] ................. dropout_rate=0.8, learn_rate=0.1, total= 2.3min\n",
            "[CV] dropout_rate=0.8, learn_rate=0.1 ................................\n",
            "[CV] ................. dropout_rate=0.8, learn_rate=0.1, total= 2.2min\n",
            "[CV] dropout_rate=0.8, learn_rate=0.1 ................................\n",
            "[CV] ................. dropout_rate=0.8, learn_rate=0.1, total= 2.3min\n",
            "[CV] dropout_rate=0.8, learn_rate=0.1 ................................\n",
            "[CV] ................. dropout_rate=0.8, learn_rate=0.1, total= 2.3min\n",
            "[CV] dropout_rate=0.8, learn_rate=0.1 ................................\n",
            "[CV] ................. dropout_rate=0.8, learn_rate=0.1, total= 2.2min\n"
          ],
          "name": "stdout"
        },
        {
          "output_type": "stream",
          "text": [
            "[Parallel(n_jobs=1)]: Done  45 out of  45 | elapsed: 91.4min finished\n"
          ],
          "name": "stderr"
        },
        {
          "output_type": "stream",
          "text": [
            "[-0.048432573194979976, -0.07354103377797906, -0.13264592003069436, -0.09607956656829761, -0.08041845871422845]\n",
            "[{'dropout_rate': 0.5, 'learn_rate': 0.001}, {'dropout_rate': 0.5, 'learn_rate': 0.001}, {'dropout_rate': 0.5, 'learn_rate': 0.001}, {'dropout_rate': 0.5, 'learn_rate': 0.001}, {'dropout_rate': 0.5, 'learn_rate': 0.001}]\n"
          ],
          "name": "stdout"
        },
        {
          "output_type": "error",
          "ename": "AttributeError",
          "evalue": "ignored",
          "traceback": [
            "\u001b[0;31m---------------------------------------------------------------------------\u001b[0m",
            "\u001b[0;31mAttributeError\u001b[0m                            Traceback (most recent call last)",
            "\u001b[0;32m<ipython-input-7-1c6d0f8dc60c>\u001b[0m in \u001b[0;36m<module>\u001b[0;34m()\u001b[0m\n\u001b[1;32m     31\u001b[0m   \u001b[0mprint\u001b[0m\u001b[0;34m(\u001b[0m\u001b[0mbest_params\u001b[0m\u001b[0;34m)\u001b[0m\u001b[0;34m\u001b[0m\u001b[0;34m\u001b[0m\u001b[0m\n\u001b[1;32m     32\u001b[0m \u001b[0;34m\u001b[0m\u001b[0m\n\u001b[0;32m---> 33\u001b[0;31m \u001b[0mouter_scores\u001b[0m \u001b[0;34m=\u001b[0m \u001b[0mouter_scores\u001b[0m\u001b[0;34m.\u001b[0m\u001b[0mappend\u001b[0m\u001b[0;34m(\u001b[0m\u001b[0minner_scores\u001b[0m\u001b[0;34m.\u001b[0m\u001b[0mmean\u001b[0m\u001b[0;34m(\u001b[0m\u001b[0;34m)\u001b[0m\u001b[0;34m)\u001b[0m\u001b[0;34m\u001b[0m\u001b[0;34m\u001b[0m\u001b[0m\n\u001b[0m\u001b[1;32m     34\u001b[0m \u001b[0mprint\u001b[0m\u001b[0;34m(\u001b[0m\u001b[0;34m\"Overall score\"\u001b[0m\u001b[0;34m)\u001b[0m\u001b[0;34m\u001b[0m\u001b[0;34m\u001b[0m\u001b[0m\n\u001b[1;32m     35\u001b[0m \u001b[0mprint\u001b[0m\u001b[0;34m(\u001b[0m\u001b[0mouter_scores\u001b[0m\u001b[0;34m)\u001b[0m\u001b[0;34m\u001b[0m\u001b[0;34m\u001b[0m\u001b[0m\n",
            "\u001b[0;31mAttributeError\u001b[0m: 'list' object has no attribute 'mean'"
          ]
        }
      ]
    },
    {
      "metadata": {
        "id": "VfSAM8IHTK6y",
        "colab_type": "code",
        "colab": {
          "base_uri": "https://localhost:8080/",
          "height": 68
        },
        "outputId": "f37c3c29-8ff3-40c6-c4b7-5bde4e6b09da"
      },
      "cell_type": "code",
      "source": [
        "print(inner_scores)\n",
        "print(best_params)\n",
        "outer_scores.append(sum(inner_scores)/len(inner_scores))\n",
        "print(outer_scores)"
      ],
      "execution_count": 13,
      "outputs": [
        {
          "output_type": "stream",
          "text": [
            "[-0.048432573194979976, -0.07354103377797906, -0.13264592003069436, -0.09607956656829761, -0.08041845871422845]\n",
            "[{'dropout_rate': 0.5, 'learn_rate': 0.001}, {'dropout_rate': 0.5, 'learn_rate': 0.001}, {'dropout_rate': 0.5, 'learn_rate': 0.001}, {'dropout_rate': 0.5, 'learn_rate': 0.001}, {'dropout_rate': 0.5, 'learn_rate': 0.001}]\n",
            "[-0.0862235104572359, -0.0862235104572359]\n"
          ],
          "name": "stdout"
        }
      ]
    },
    {
      "metadata": {
        "id": "cUoAaTMr5KaL",
        "colab_type": "text"
      },
      "cell_type": "markdown",
      "source": [
        "# **Old nested CV code**"
      ]
    },
    {
      "metadata": {
        "id": "gRTPtDZ1W6xi",
        "colab_type": "code",
        "outputId": "0c109ce7-952a-4b1c-b1ee-629d553496ef",
        "colab": {
          "base_uri": "https://localhost:8080/",
          "height": 6344
        }
      },
      "cell_type": "code",
      "source": [
        "# Create outer cross-validation loop to assess average performance of hyperparameter model found by inner cross-validation loop\n",
        "outer_fold = KFold(n_splits=5, shuffle=True, random_state=rand_state)\n",
        "# Create array to track performance of models identified by inner loop\n",
        "outer_scores = []\n",
        "\n",
        "# The outer cross-validation loop\n",
        "for outfold, (outer_train_index, outer_test_index) in enumerate(outer_fold.split(train_dataframe), 1):\n",
        "  print(\"(Outer) Assessing performance on fold \" + str(outfold))\n",
        "  \n",
        "  outer_feature_train, outer_label_train = process_data(train_dataframe.iloc[outer_train_index].copy())\n",
        "  outer_feature_test, outer_label_test = process_data(train_dataframe.iloc[outer_test_index].copy())\n",
        "  \n",
        "  # Create inner cross-validation loop to optimize hyperparameters\n",
        "  inner_fold = KFold(n_splits=5, shuffle=True, random_state=rand_state)\n",
        "  # Create array to track performance of models with each hyperparameter combination\n",
        "  inner_mean_scores = []\n",
        "  \n",
        "  # Assorted hyperparameters to test and the dict compiling them\n",
        "  learn_rate = [0.001, 0.01]#, 0.1, 0.25, 0.5]\n",
        "  dropout_rate = [0.0, 0.5]#, 0.2, 0.4, 0.6, 0.8]\n",
        "  #dropout_rate_2 = dropout_rate_1.copy()\n",
        "  neurons = [16, 64]#[1, 4, 16, 64]\n",
        "  #neurons_2 = neurons_1.copy()\n",
        "  #epochs = [10, 50]#, 100, 1000]\n",
        "  parameters = dict(#learn_rate=learn_rate,\n",
        "                    #dropout_rate=dropout_rate,\n",
        "                    #dropout_rate_2=dropout_rate_2,\n",
        "                    neurons=neurons,\n",
        "                    #neurons_2=neurons_2,\n",
        "                    #epochs=epochs\n",
        "                   )\n",
        "  \n",
        "  # The inner cross-validation loop\n",
        "  for infold, (inner_train_index, inner_test_index) in enumerate(inner_fold.split(outer_feature_train), 1):\n",
        "    print(\"(Inner) Assessing hyperparameter performance on fold \" + str(infold))\n",
        "    \n",
        "    inner_feature_train, inner_feature_test = outer_feature_train.iloc[inner_train_index], outer_feature_train.iloc[inner_test_index]\n",
        "    inner_label_train, inner_label_test = outer_label_train.iloc[inner_train_index], outer_label_train.iloc[inner_test_index]\n",
        "    \n",
        "    inner_model = KerasRegressor(build_fn=build_model)\n",
        "    grid = GridSearchCV(estimator=inner_model, param_grid=parameters, scoring='neg_mean_squared_error', cv=3)\n",
        "    grid_result = grid.fit(inner_feature_train, inner_label_train)\n",
        "    # summarize results\n",
        "    print(\"Best: %f using %s\" % (grid_result.best_score_, grid_result.best_params_))\n",
        "    means = grid_result.cv_results_['mean_test_score']\n",
        "    stds = grid_result.cv_results_['std_test_score']\n",
        "    params = grid_result.cv_results_['params']\n",
        "    for mean, stdev, param in zip(means, stds, params):\n",
        "      print(\"%f (%f) with: %r\" % (mean, stdev, param))\n",
        "  \n",
        "  \n",
        "  best_model = None\n",
        "  best_model = build_model()\n",
        "  outer_history = train_model(best_model, outer_feature_train, outer_label_train, outer_feature_test, outer_label_test, epochs=100)\n",
        "  outer_hist = pd.DataFrame(outer_history.history)\n",
        "  display.display(outer_hist.tail())"
      ],
      "execution_count": 0,
      "outputs": [
        {
          "output_type": "stream",
          "text": [
            "(Outer) Assessing performance on fold 1\n",
            "(Inner) Assessing hyperparameter performance on fold 1\n",
            "168/168 [==============================] - 0s 3ms/sample - loss: 6.6862 - mean_absolute_error: 2.5431 - mean_squared_error: 6.6862\n",
            "168/168 [==============================] - 0s 3ms/sample - loss: 6.8431 - mean_absolute_error: 2.5644 - mean_squared_error: 6.8431\n",
            "168/168 [==============================] - 0s 3ms/sample - loss: 4.9501 - mean_absolute_error: 2.1733 - mean_squared_error: 4.9501\n",
            "168/168 [==============================] - 0s 3ms/sample - loss: 4.7114 - mean_absolute_error: 2.0999 - mean_squared_error: 4.7114\n",
            "168/168 [==============================] - 0s 3ms/sample - loss: 5.2524 - mean_absolute_error: 2.2251 - mean_squared_error: 5.2524\n",
            "168/168 [==============================] - 0s 3ms/sample - loss: 4.5440 - mean_absolute_error: 2.0535 - mean_squared_error: 4.5440\n",
            "252/252 [==============================] - 0s 2ms/sample - loss: 6.2779 - mean_absolute_error: 2.4336 - mean_squared_error: 6.2779\n",
            "Best: -3.067360 using {'neurons': 64}\n",
            "-4.994781 (0.760710) with: {'neurons': 16}\n",
            "-3.067360 (0.178459) with: {'neurons': 64}\n",
            "(Inner) Assessing hyperparameter performance on fold 2\n",
            "168/168 [==============================] - 0s 3ms/sample - loss: 5.4483 - mean_absolute_error: 2.2617 - mean_squared_error: 5.4483\n",
            "168/168 [==============================] - 1s 3ms/sample - loss: 5.0142 - mean_absolute_error: 2.1215 - mean_squared_error: 5.0142\n",
            "168/168 [==============================] - 1s 3ms/sample - loss: 6.7142 - mean_absolute_error: 2.5443 - mean_squared_error: 6.7142\n",
            "168/168 [==============================] - 1s 3ms/sample - loss: 5.7480 - mean_absolute_error: 2.3292 - mean_squared_error: 5.7480\n",
            "168/168 [==============================] - 1s 3ms/sample - loss: 4.9981 - mean_absolute_error: 2.1263 - mean_squared_error: 4.9981\n",
            "168/168 [==============================] - 1s 3ms/sample - loss: 4.2774 - mean_absolute_error: 2.0040 - mean_squared_error: 4.2774\n",
            "252/252 [==============================] - 1s 2ms/sample - loss: 3.5705 - mean_absolute_error: 1.7798 - mean_squared_error: 3.5705\n",
            "Best: -3.368969 using {'neurons': 64}\n",
            "-4.769016 (0.477469) with: {'neurons': 16}\n",
            "-3.368969 (0.834800) with: {'neurons': 64}\n",
            "(Inner) Assessing hyperparameter performance on fold 3\n",
            "168/168 [==============================] - 1s 3ms/sample - loss: 4.9347 - mean_absolute_error: 2.1177 - mean_squared_error: 4.9347\n",
            "168/168 [==============================] - 1s 3ms/sample - loss: 5.5582 - mean_absolute_error: 2.2686 - mean_squared_error: 5.5582\n",
            "168/168 [==============================] - 1s 4ms/sample - loss: 5.7730 - mean_absolute_error: 2.3594 - mean_squared_error: 5.7730\n",
            "168/168 [==============================] - 1s 4ms/sample - loss: 5.1811 - mean_absolute_error: 2.1958 - mean_squared_error: 5.1811\n",
            "168/168 [==============================] - 1s 4ms/sample - loss: 5.8257 - mean_absolute_error: 2.3444 - mean_squared_error: 5.8257\n",
            "168/168 [==============================] - 1s 4ms/sample - loss: 5.7744 - mean_absolute_error: 2.3449 - mean_squared_error: 5.7744\n",
            "252/252 [==============================] - 1s 3ms/sample - loss: 2.7066 - mean_absolute_error: 1.5173 - mean_squared_error: 2.7066\n",
            "Best: -3.568667 using {'neurons': 64}\n",
            "-4.260035 (0.297585) with: {'neurons': 16}\n",
            "-3.568667 (0.103905) with: {'neurons': 64}\n",
            "(Inner) Assessing hyperparameter performance on fold 4\n",
            "168/168 [==============================] - 1s 4ms/sample - loss: 2.9855 - mean_absolute_error: 1.5712 - mean_squared_error: 2.9855\n",
            "168/168 [==============================] - 1s 4ms/sample - loss: 5.1368 - mean_absolute_error: 2.2109 - mean_squared_error: 5.1368\n",
            "168/168 [==============================] - 1s 4ms/sample - loss: 6.7536 - mean_absolute_error: 2.5224 - mean_squared_error: 6.7536\n",
            "168/168 [==============================] - 1s 4ms/sample - loss: 3.3927 - mean_absolute_error: 1.6304 - mean_squared_error: 3.3927\n",
            "168/168 [==============================] - 1s 4ms/sample - loss: 4.3904 - mean_absolute_error: 2.0075 - mean_squared_error: 4.3904\n",
            "168/168 [==============================] - 1s 4ms/sample - loss: 3.3115 - mean_absolute_error: 1.7142 - mean_squared_error: 3.3115\n",
            "252/252 [==============================] - 1s 3ms/sample - loss: 4.9909 - mean_absolute_error: 2.1420 - mean_squared_error: 4.9909\n",
            "Best: -2.123536 using {'neurons': 64}\n",
            "-3.804452 (0.811591) with: {'neurons': 16}\n",
            "-2.123536 (0.432052) with: {'neurons': 64}\n",
            "(Inner) Assessing hyperparameter performance on fold 5\n",
            "168/168 [==============================] - 1s 4ms/sample - loss: 5.6051 - mean_absolute_error: 2.2996 - mean_squared_error: 5.6051\n",
            "168/168 [==============================] - 1s 4ms/sample - loss: 8.2478 - mean_absolute_error: 2.8081 - mean_squared_error: 8.2478\n",
            "168/168 [==============================] - 1s 4ms/sample - loss: 5.8133 - mean_absolute_error: 2.3406 - mean_squared_error: 5.8133\n",
            "168/168 [==============================] - 1s 4ms/sample - loss: 4.9467 - mean_absolute_error: 2.1082 - mean_squared_error: 4.9467\n",
            "168/168 [==============================] - 1s 4ms/sample - loss: 4.2790 - mean_absolute_error: 1.9377 - mean_squared_error: 4.2790\n",
            "168/168 [==============================] - 1s 5ms/sample - loss: 6.6532 - mean_absolute_error: 2.5300 - mean_squared_error: 6.6532\n",
            "252/252 [==============================] - 1s 3ms/sample - loss: 3.8551 - mean_absolute_error: 1.8454 - mean_squared_error: 3.8551\n",
            "Best: -3.293345 using {'neurons': 64}\n",
            "-5.108787 (0.929489) with: {'neurons': 16}\n",
            "-3.293345 (0.660154) with: {'neurons': 64}\n"
          ],
          "name": "stdout"
        },
        {
          "output_type": "display_data",
          "data": {
            "text/html": [
              "<div>\n",
              "<style scoped>\n",
              "    .dataframe tbody tr th:only-of-type {\n",
              "        vertical-align: middle;\n",
              "    }\n",
              "\n",
              "    .dataframe tbody tr th {\n",
              "        vertical-align: top;\n",
              "    }\n",
              "\n",
              "    .dataframe thead th {\n",
              "        text-align: right;\n",
              "    }\n",
              "</style>\n",
              "<table border=\"1\" class=\"dataframe\">\n",
              "  <thead>\n",
              "    <tr style=\"text-align: right;\">\n",
              "      <th></th>\n",
              "      <th>loss</th>\n",
              "      <th>mean_absolute_error</th>\n",
              "      <th>mean_squared_error</th>\n",
              "      <th>val_loss</th>\n",
              "      <th>val_mean_absolute_error</th>\n",
              "      <th>val_mean_squared_error</th>\n",
              "    </tr>\n",
              "  </thead>\n",
              "  <tbody>\n",
              "    <tr>\n",
              "      <th>95</th>\n",
              "      <td>0.156</td>\n",
              "      <td>0.310</td>\n",
              "      <td>0.156</td>\n",
              "      <td>0.094</td>\n",
              "      <td>0.235</td>\n",
              "      <td>0.094</td>\n",
              "    </tr>\n",
              "    <tr>\n",
              "      <th>96</th>\n",
              "      <td>0.153</td>\n",
              "      <td>0.306</td>\n",
              "      <td>0.153</td>\n",
              "      <td>0.096</td>\n",
              "      <td>0.239</td>\n",
              "      <td>0.096</td>\n",
              "    </tr>\n",
              "    <tr>\n",
              "      <th>97</th>\n",
              "      <td>0.150</td>\n",
              "      <td>0.301</td>\n",
              "      <td>0.150</td>\n",
              "      <td>0.086</td>\n",
              "      <td>0.224</td>\n",
              "      <td>0.086</td>\n",
              "    </tr>\n",
              "    <tr>\n",
              "      <th>98</th>\n",
              "      <td>0.146</td>\n",
              "      <td>0.296</td>\n",
              "      <td>0.146</td>\n",
              "      <td>0.088</td>\n",
              "      <td>0.227</td>\n",
              "      <td>0.088</td>\n",
              "    </tr>\n",
              "    <tr>\n",
              "      <th>99</th>\n",
              "      <td>0.143</td>\n",
              "      <td>0.292</td>\n",
              "      <td>0.143</td>\n",
              "      <td>0.089</td>\n",
              "      <td>0.230</td>\n",
              "      <td>0.089</td>\n",
              "    </tr>\n",
              "  </tbody>\n",
              "</table>\n",
              "</div>"
            ],
            "text/plain": [
              "    loss  mean_absolute_error  mean_squared_error  val_loss  \\\n",
              "95 0.156                0.310               0.156     0.094   \n",
              "96 0.153                0.306               0.153     0.096   \n",
              "97 0.150                0.301               0.150     0.086   \n",
              "98 0.146                0.296               0.146     0.088   \n",
              "99 0.143                0.292               0.143     0.089   \n",
              "\n",
              "    val_mean_absolute_error  val_mean_squared_error  \n",
              "95                    0.235                   0.094  \n",
              "96                    0.239                   0.096  \n",
              "97                    0.224                   0.086  \n",
              "98                    0.227                   0.088  \n",
              "99                    0.230                   0.089  "
            ]
          },
          "metadata": {
            "tags": []
          }
        },
        {
          "output_type": "stream",
          "text": [
            "(Outer) Assessing performance on fold 2\n",
            "(Inner) Assessing hyperparameter performance on fold 1\n",
            "170/170 [==============================] - 1s 5ms/sample - loss: 4.7639 - mean_absolute_error: 2.0796 - mean_squared_error: 4.7639\n",
            "171/171 [==============================] - 1s 5ms/sample - loss: 5.8843 - mean_absolute_error: 2.3493 - mean_squared_error: 5.8843\n",
            "171/171 [==============================] - 1s 5ms/sample - loss: 4.3809 - mean_absolute_error: 2.0214 - mean_squared_error: 4.3809\n",
            "170/170 [==============================] - 1s 5ms/sample - loss: 3.6048 - mean_absolute_error: 1.7823 - mean_squared_error: 3.6048\n",
            "171/171 [==============================] - 1s 5ms/sample - loss: 5.0818 - mean_absolute_error: 2.1465 - mean_squared_error: 5.0818\n",
            "171/171 [==============================] - 1s 5ms/sample - loss: 5.9260 - mean_absolute_error: 2.3694 - mean_squared_error: 5.9260\n"
          ],
          "name": "stdout"
        },
        {
          "output_type": "stream",
          "text": [
            "/usr/local/lib/python3.6/dist-packages/sklearn/model_selection/_search.py:841: DeprecationWarning: The default of the `iid` parameter will change from True to False in version 0.22 and will be removed in 0.24. This will change numeric results when test-set sizes are unequal.\n",
            "  DeprecationWarning)\n"
          ],
          "name": "stderr"
        },
        {
          "output_type": "stream",
          "text": [
            "256/256 [==============================] - 1s 3ms/sample - loss: 3.5352 - mean_absolute_error: 1.7676 - mean_squared_error: 3.5352\n",
            "Best: -3.019333 using {'neurons': 64}\n",
            "-4.096120 (0.654263) with: {'neurons': 16}\n",
            "-3.019333 (0.551953) with: {'neurons': 64}\n",
            "(Inner) Assessing hyperparameter performance on fold 2\n",
            "171/171 [==============================] - 1s 5ms/sample - loss: 7.3174 - mean_absolute_error: 2.6519 - mean_squared_error: 7.3174\n",
            "171/171 [==============================] - 1s 5ms/sample - loss: 5.9167 - mean_absolute_error: 2.3188 - mean_squared_error: 5.9167\n",
            "172/172 [==============================] - 1s 5ms/sample - loss: 5.8310 - mean_absolute_error: 2.3573 - mean_squared_error: 5.8310\n",
            "171/171 [==============================] - 1s 5ms/sample - loss: 3.8471 - mean_absolute_error: 1.8461 - mean_squared_error: 3.8471\n",
            "171/171 [==============================] - 1s 5ms/sample - loss: 4.8456 - mean_absolute_error: 2.1033 - mean_squared_error: 4.8456\n",
            "172/172 [==============================] - 1s 5ms/sample - loss: 5.0245 - mean_absolute_error: 2.1510 - mean_squared_error: 5.0245\n"
          ],
          "name": "stdout"
        },
        {
          "output_type": "stream",
          "text": [
            "/usr/local/lib/python3.6/dist-packages/sklearn/model_selection/_search.py:841: DeprecationWarning: The default of the `iid` parameter will change from True to False in version 0.22 and will be removed in 0.24. This will change numeric results when test-set sizes are unequal.\n",
            "  DeprecationWarning)\n"
          ],
          "name": "stderr"
        },
        {
          "output_type": "stream",
          "text": [
            "257/257 [==============================] - 1s 4ms/sample - loss: 3.4759 - mean_absolute_error: 1.7209 - mean_squared_error: 3.4759\n",
            "Best: -2.683231 using {'neurons': 64}\n",
            "-5.159980 (0.940233) with: {'neurons': 16}\n",
            "-2.683231 (0.174536) with: {'neurons': 64}\n",
            "(Inner) Assessing hyperparameter performance on fold 3\n",
            "171/171 [==============================] - 1s 6ms/sample - loss: 6.9773 - mean_absolute_error: 2.5831 - mean_squared_error: 6.9773\n",
            "171/171 [==============================] - 1s 5ms/sample - loss: 8.2665 - mean_absolute_error: 2.8310 - mean_squared_error: 8.2665\n",
            "172/172 [==============================] - 1s 5ms/sample - loss: 3.8174 - mean_absolute_error: 1.8812 - mean_squared_error: 3.8174\n",
            "171/171 [==============================] - 1s 6ms/sample - loss: 4.0749 - mean_absolute_error: 1.9266 - mean_squared_error: 4.0749\n",
            "171/171 [==============================] - 1s 6ms/sample - loss: 4.4599 - mean_absolute_error: 2.0123 - mean_squared_error: 4.4599\n",
            "172/172 [==============================] - 1s 6ms/sample - loss: 3.8695 - mean_absolute_error: 1.8583 - mean_squared_error: 3.8695\n"
          ],
          "name": "stdout"
        },
        {
          "output_type": "stream",
          "text": [
            "/usr/local/lib/python3.6/dist-packages/sklearn/model_selection/_search.py:841: DeprecationWarning: The default of the `iid` parameter will change from True to False in version 0.22 and will be removed in 0.24. This will change numeric results when test-set sizes are unequal.\n",
            "  DeprecationWarning)\n"
          ],
          "name": "stderr"
        },
        {
          "output_type": "stream",
          "text": [
            "257/257 [==============================] - 1s 4ms/sample - loss: 3.8179 - mean_absolute_error: 1.8492 - mean_squared_error: 3.8179\n",
            "Best: -2.286386 using {'neurons': 64}\n",
            "-5.126822 (1.717334) with: {'neurons': 16}\n",
            "-2.286386 (0.217856) with: {'neurons': 64}\n",
            "(Inner) Assessing hyperparameter performance on fold 4\n",
            "171/171 [==============================] - 1s 6ms/sample - loss: 6.4908 - mean_absolute_error: 2.4866 - mean_squared_error: 6.4908\n",
            "171/171 [==============================] - 1s 6ms/sample - loss: 2.9939 - mean_absolute_error: 1.5729 - mean_squared_error: 2.9939\n",
            "172/172 [==============================] - 1s 6ms/sample - loss: 5.9099 - mean_absolute_error: 2.3690 - mean_squared_error: 5.9099\n",
            "171/171 [==============================] - 1s 6ms/sample - loss: 5.8896 - mean_absolute_error: 2.3562 - mean_squared_error: 5.8896\n",
            "171/171 [==============================] - 1s 6ms/sample - loss: 4.4177 - mean_absolute_error: 2.0224 - mean_squared_error: 4.4177\n",
            "172/172 [==============================] - 1s 6ms/sample - loss: 5.2126 - mean_absolute_error: 2.2050 - mean_squared_error: 5.2126\n"
          ],
          "name": "stdout"
        },
        {
          "output_type": "stream",
          "text": [
            "/usr/local/lib/python3.6/dist-packages/sklearn/model_selection/_search.py:841: DeprecationWarning: The default of the `iid` parameter will change from True to False in version 0.22 and will be removed in 0.24. This will change numeric results when test-set sizes are unequal.\n",
            "  DeprecationWarning)\n"
          ],
          "name": "stderr"
        },
        {
          "output_type": "stream",
          "text": [
            "257/257 [==============================] - 1s 4ms/sample - loss: 4.4057 - mean_absolute_error: 1.9848 - mean_squared_error: 4.4057\n",
            "Best: -3.339873 using {'neurons': 64}\n",
            "-4.195506 (1.753846) with: {'neurons': 16}\n",
            "-3.339873 (1.088709) with: {'neurons': 64}\n",
            "(Inner) Assessing hyperparameter performance on fold 5\n",
            "171/171 [==============================] - 1s 6ms/sample - loss: 7.8133 - mean_absolute_error: 2.7445 - mean_squared_error: 7.8133\n",
            "171/171 [==============================] - 1s 6ms/sample - loss: 4.8070 - mean_absolute_error: 2.0614 - mean_squared_error: 4.8070\n",
            "172/172 [==============================] - 1s 6ms/sample - loss: 4.9871 - mean_absolute_error: 2.1595 - mean_squared_error: 4.9871\n",
            "171/171 [==============================] - 1s 6ms/sample - loss: 4.7131 - mean_absolute_error: 2.0887 - mean_squared_error: 4.7131\n",
            "171/171 [==============================] - 1s 6ms/sample - loss: 4.9024 - mean_absolute_error: 2.1262 - mean_squared_error: 4.9024\n",
            "172/172 [==============================] - 1s 6ms/sample - loss: 6.4445 - mean_absolute_error: 2.4811 - mean_squared_error: 6.4445\n"
          ],
          "name": "stdout"
        },
        {
          "output_type": "stream",
          "text": [
            "/usr/local/lib/python3.6/dist-packages/sklearn/model_selection/_search.py:841: DeprecationWarning: The default of the `iid` parameter will change from True to False in version 0.22 and will be removed in 0.24. This will change numeric results when test-set sizes are unequal.\n",
            "  DeprecationWarning)\n"
          ],
          "name": "stderr"
        },
        {
          "output_type": "stream",
          "text": [
            "257/257 [==============================] - 1s 4ms/sample - loss: 3.8758 - mean_absolute_error: 1.8425 - mean_squared_error: 3.8758\n",
            "Best: -3.403662 using {'neurons': 64}\n",
            "-4.818394 (1.562586) with: {'neurons': 16}\n",
            "-3.403662 (0.606078) with: {'neurons': 64}\n"
          ],
          "name": "stdout"
        },
        {
          "output_type": "display_data",
          "data": {
            "text/html": [
              "<div>\n",
              "<style scoped>\n",
              "    .dataframe tbody tr th:only-of-type {\n",
              "        vertical-align: middle;\n",
              "    }\n",
              "\n",
              "    .dataframe tbody tr th {\n",
              "        vertical-align: top;\n",
              "    }\n",
              "\n",
              "    .dataframe thead th {\n",
              "        text-align: right;\n",
              "    }\n",
              "</style>\n",
              "<table border=\"1\" class=\"dataframe\">\n",
              "  <thead>\n",
              "    <tr style=\"text-align: right;\">\n",
              "      <th></th>\n",
              "      <th>loss</th>\n",
              "      <th>mean_absolute_error</th>\n",
              "      <th>mean_squared_error</th>\n",
              "      <th>val_loss</th>\n",
              "      <th>val_mean_absolute_error</th>\n",
              "      <th>val_mean_squared_error</th>\n",
              "    </tr>\n",
              "  </thead>\n",
              "  <tbody>\n",
              "    <tr>\n",
              "      <th>91</th>\n",
              "      <td>0.087</td>\n",
              "      <td>0.197</td>\n",
              "      <td>0.087</td>\n",
              "      <td>0.086</td>\n",
              "      <td>0.206</td>\n",
              "      <td>0.086</td>\n",
              "    </tr>\n",
              "    <tr>\n",
              "      <th>92</th>\n",
              "      <td>0.088</td>\n",
              "      <td>0.197</td>\n",
              "      <td>0.088</td>\n",
              "      <td>0.095</td>\n",
              "      <td>0.227</td>\n",
              "      <td>0.095</td>\n",
              "    </tr>\n",
              "    <tr>\n",
              "      <th>93</th>\n",
              "      <td>0.088</td>\n",
              "      <td>0.199</td>\n",
              "      <td>0.088</td>\n",
              "      <td>0.080</td>\n",
              "      <td>0.193</td>\n",
              "      <td>0.080</td>\n",
              "    </tr>\n",
              "    <tr>\n",
              "      <th>94</th>\n",
              "      <td>0.087</td>\n",
              "      <td>0.196</td>\n",
              "      <td>0.087</td>\n",
              "      <td>0.084</td>\n",
              "      <td>0.202</td>\n",
              "      <td>0.084</td>\n",
              "    </tr>\n",
              "    <tr>\n",
              "      <th>95</th>\n",
              "      <td>0.087</td>\n",
              "      <td>0.196</td>\n",
              "      <td>0.087</td>\n",
              "      <td>0.080</td>\n",
              "      <td>0.191</td>\n",
              "      <td>0.080</td>\n",
              "    </tr>\n",
              "  </tbody>\n",
              "</table>\n",
              "</div>"
            ],
            "text/plain": [
              "    loss  mean_absolute_error  mean_squared_error  val_loss  \\\n",
              "91 0.087                0.197               0.087     0.086   \n",
              "92 0.088                0.197               0.088     0.095   \n",
              "93 0.088                0.199               0.088     0.080   \n",
              "94 0.087                0.196               0.087     0.084   \n",
              "95 0.087                0.196               0.087     0.080   \n",
              "\n",
              "    val_mean_absolute_error  val_mean_squared_error  \n",
              "91                    0.206                   0.086  \n",
              "92                    0.227                   0.095  \n",
              "93                    0.193                   0.080  \n",
              "94                    0.202                   0.084  \n",
              "95                    0.191                   0.080  "
            ]
          },
          "metadata": {
            "tags": []
          }
        },
        {
          "output_type": "stream",
          "text": [
            "(Outer) Assessing performance on fold 3\n",
            "(Inner) Assessing hyperparameter performance on fold 1\n",
            "166/166 [==============================] - 1s 7ms/sample - loss: 5.8008 - mean_absolute_error: 2.3557 - mean_squared_error: 5.8008\n",
            "167/167 [==============================] - 1s 7ms/sample - loss: 8.2327 - mean_absolute_error: 2.8180 - mean_squared_error: 8.2327\n",
            "167/167 [==============================] - 1s 7ms/sample - loss: 6.1591 - mean_absolute_error: 2.4106 - mean_squared_error: 6.1591\n",
            "166/166 [==============================] - 1s 7ms/sample - loss: 3.8141 - mean_absolute_error: 1.8574 - mean_squared_error: 3.8141\n",
            "167/167 [==============================] - 1s 7ms/sample - loss: 4.4160 - mean_absolute_error: 2.0289 - mean_squared_error: 4.4160\n",
            "167/167 [==============================] - 1s 7ms/sample - loss: 4.5853 - mean_absolute_error: 2.0704 - mean_squared_error: 4.5853\n"
          ],
          "name": "stdout"
        },
        {
          "output_type": "stream",
          "text": [
            "/usr/local/lib/python3.6/dist-packages/sklearn/model_selection/_search.py:841: DeprecationWarning: The default of the `iid` parameter will change from True to False in version 0.22 and will be removed in 0.24. This will change numeric results when test-set sizes are unequal.\n",
            "  DeprecationWarning)\n"
          ],
          "name": "stderr"
        },
        {
          "output_type": "stream",
          "text": [
            "250/250 [==============================] - 1s 5ms/sample - loss: 6.5557 - mean_absolute_error: 2.5119 - mean_squared_error: 6.5557\n",
            "Best: -2.459351 using {'neurons': 64}\n",
            "-5.421214 (0.844713) with: {'neurons': 16}\n",
            "-2.459351 (0.142295) with: {'neurons': 64}\n",
            "(Inner) Assessing hyperparameter performance on fold 2\n",
            "166/166 [==============================] - 1s 7ms/sample - loss: 5.6354 - mean_absolute_error: 2.2932 - mean_squared_error: 5.6354\n",
            "167/167 [==============================] - 1s 7ms/sample - loss: 7.3705 - mean_absolute_error: 2.6464 - mean_squared_error: 7.3705\n",
            "167/167 [==============================] - 1s 7ms/sample - loss: 6.0690 - mean_absolute_error: 2.4064 - mean_squared_error: 6.0690\n",
            "166/166 [==============================] - 1s 7ms/sample - loss: 5.4097 - mean_absolute_error: 2.2297 - mean_squared_error: 5.4097\n",
            "167/167 [==============================] - 1s 7ms/sample - loss: 5.7092 - mean_absolute_error: 2.3203 - mean_squared_error: 5.7092\n",
            "167/167 [==============================] - 1s 8ms/sample - loss: 3.9390 - mean_absolute_error: 1.8727 - mean_squared_error: 3.9390\n"
          ],
          "name": "stdout"
        },
        {
          "output_type": "stream",
          "text": [
            "/usr/local/lib/python3.6/dist-packages/sklearn/model_selection/_search.py:841: DeprecationWarning: The default of the `iid` parameter will change from True to False in version 0.22 and will be removed in 0.24. This will change numeric results when test-set sizes are unequal.\n",
            "  DeprecationWarning)\n"
          ],
          "name": "stderr"
        },
        {
          "output_type": "stream",
          "text": [
            "250/250 [==============================] - 2s 7ms/sample - loss: 3.5277 - mean_absolute_error: 1.7606 - mean_squared_error: 3.5277\n",
            "Best: -2.970616 using {'neurons': 64}\n",
            "-5.121244 (0.753339) with: {'neurons': 16}\n",
            "-2.970616 (0.866074) with: {'neurons': 64}\n",
            "(Inner) Assessing hyperparameter performance on fold 3\n",
            "166/166 [==============================] - 1s 8ms/sample - loss: 5.6310 - mean_absolute_error: 2.3100 - mean_squared_error: 5.6310\n",
            "167/167 [==============================] - 1s 8ms/sample - loss: 5.2854 - mean_absolute_error: 2.2481 - mean_squared_error: 5.2854\n",
            "167/167 [==============================] - 1s 8ms/sample - loss: 5.2847 - mean_absolute_error: 2.2181 - mean_squared_error: 5.2847\n",
            "166/166 [==============================] - 1s 8ms/sample - loss: 4.7860 - mean_absolute_error: 2.0557 - mean_squared_error: 4.7860\n",
            "167/167 [==============================] - 1s 8ms/sample - loss: 5.2558 - mean_absolute_error: 2.2225 - mean_squared_error: 5.2558\n",
            "167/167 [==============================] - 1s 8ms/sample - loss: 5.4426 - mean_absolute_error: 2.2507 - mean_squared_error: 5.4426\n"
          ],
          "name": "stdout"
        },
        {
          "output_type": "stream",
          "text": [
            "/usr/local/lib/python3.6/dist-packages/sklearn/model_selection/_search.py:841: DeprecationWarning: The default of the `iid` parameter will change from True to False in version 0.22 and will be removed in 0.24. This will change numeric results when test-set sizes are unequal.\n",
            "  DeprecationWarning)\n"
          ],
          "name": "stderr"
        },
        {
          "output_type": "stream",
          "text": [
            "250/250 [==============================] - 1s 5ms/sample - loss: 5.8741 - mean_absolute_error: 2.3397 - mean_squared_error: 5.8741\n",
            "Best: -3.338089 using {'neurons': 64}\n",
            "-4.314854 (0.420677) with: {'neurons': 16}\n",
            "-3.338089 (0.022669) with: {'neurons': 64}\n",
            "(Inner) Assessing hyperparameter performance on fold 4\n",
            "167/167 [==============================] - 1s 8ms/sample - loss: 7.0874 - mean_absolute_error: 2.6231 - mean_squared_error: 7.0874\n",
            "167/167 [==============================] - 1s 8ms/sample - loss: 8.0955 - mean_absolute_error: 2.7951 - mean_squared_error: 8.0955\n",
            "168/168 [==============================] - 1s 8ms/sample - loss: 7.0952 - mean_absolute_error: 2.6142 - mean_squared_error: 7.0952\n",
            "167/167 [==============================] - 1s 8ms/sample - loss: 5.6288 - mean_absolute_error: 2.3145 - mean_squared_error: 5.6288\n",
            "167/167 [==============================] - 1s 8ms/sample - loss: 5.3575 - mean_absolute_error: 2.2242 - mean_squared_error: 5.3575\n",
            "168/168 [==============================] - 1s 8ms/sample - loss: 6.8520 - mean_absolute_error: 2.5609 - mean_squared_error: 6.8520\n"
          ],
          "name": "stdout"
        },
        {
          "output_type": "stream",
          "text": [
            "/usr/local/lib/python3.6/dist-packages/sklearn/model_selection/_search.py:841: DeprecationWarning: The default of the `iid` parameter will change from True to False in version 0.22 and will be removed in 0.24. This will change numeric results when test-set sizes are unequal.\n",
            "  DeprecationWarning)\n"
          ],
          "name": "stderr"
        },
        {
          "output_type": "stream",
          "text": [
            "251/251 [==============================] - 1s 6ms/sample - loss: 5.2802 - mean_absolute_error: 2.2041 - mean_squared_error: 5.2802\n",
            "Best: -3.807395 using {'neurons': 64}\n",
            "-6.341001 (0.660318) with: {'neurons': 16}\n",
            "-3.807395 (0.306264) with: {'neurons': 64}\n",
            "(Inner) Assessing hyperparameter performance on fold 5\n",
            "167/167 [==============================] - 1s 8ms/sample - loss: 5.6773 - mean_absolute_error: 2.3274 - mean_squared_error: 5.6773\n",
            "167/167 [==============================] - 1s 9ms/sample - loss: 6.6595 - mean_absolute_error: 2.5328 - mean_squared_error: 6.6595\n",
            "168/168 [==============================] - 1s 8ms/sample - loss: 6.8722 - mean_absolute_error: 2.5654 - mean_squared_error: 6.8722\n",
            "167/167 [==============================] - 1s 9ms/sample - loss: 6.7461 - mean_absolute_error: 2.5397 - mean_squared_error: 6.7461\n",
            "167/167 [==============================] - 1s 9ms/sample - loss: 5.3725 - mean_absolute_error: 2.2243 - mean_squared_error: 5.3725\n",
            "168/168 [==============================] - 1s 9ms/sample - loss: 6.5373 - mean_absolute_error: 2.4976 - mean_squared_error: 6.5373\n"
          ],
          "name": "stdout"
        },
        {
          "output_type": "stream",
          "text": [
            "/usr/local/lib/python3.6/dist-packages/sklearn/model_selection/_search.py:841: DeprecationWarning: The default of the `iid` parameter will change from True to False in version 0.22 and will be removed in 0.24. This will change numeric results when test-set sizes are unequal.\n",
            "  DeprecationWarning)\n"
          ],
          "name": "stderr"
        },
        {
          "output_type": "stream",
          "text": [
            "251/251 [==============================] - 2s 6ms/sample - loss: 3.5851 - mean_absolute_error: 1.7714 - mean_squared_error: 3.5851\n",
            "Best: -4.121561 using {'neurons': 64}\n",
            "-5.328840 (0.101047) with: {'neurons': 16}\n",
            "-4.121561 (0.839249) with: {'neurons': 64}\n"
          ],
          "name": "stdout"
        },
        {
          "output_type": "display_data",
          "data": {
            "text/html": [
              "<div>\n",
              "<style scoped>\n",
              "    .dataframe tbody tr th:only-of-type {\n",
              "        vertical-align: middle;\n",
              "    }\n",
              "\n",
              "    .dataframe tbody tr th {\n",
              "        vertical-align: top;\n",
              "    }\n",
              "\n",
              "    .dataframe thead th {\n",
              "        text-align: right;\n",
              "    }\n",
              "</style>\n",
              "<table border=\"1\" class=\"dataframe\">\n",
              "  <thead>\n",
              "    <tr style=\"text-align: right;\">\n",
              "      <th></th>\n",
              "      <th>loss</th>\n",
              "      <th>mean_absolute_error</th>\n",
              "      <th>mean_squared_error</th>\n",
              "      <th>val_loss</th>\n",
              "      <th>val_mean_absolute_error</th>\n",
              "      <th>val_mean_squared_error</th>\n",
              "    </tr>\n",
              "  </thead>\n",
              "  <tbody>\n",
              "    <tr>\n",
              "      <th>95</th>\n",
              "      <td>0.079</td>\n",
              "      <td>0.188</td>\n",
              "      <td>0.079</td>\n",
              "      <td>0.119</td>\n",
              "      <td>0.234</td>\n",
              "      <td>0.119</td>\n",
              "    </tr>\n",
              "    <tr>\n",
              "      <th>96</th>\n",
              "      <td>0.079</td>\n",
              "      <td>0.186</td>\n",
              "      <td>0.079</td>\n",
              "      <td>0.125</td>\n",
              "      <td>0.246</td>\n",
              "      <td>0.125</td>\n",
              "    </tr>\n",
              "    <tr>\n",
              "      <th>97</th>\n",
              "      <td>0.078</td>\n",
              "      <td>0.182</td>\n",
              "      <td>0.078</td>\n",
              "      <td>0.120</td>\n",
              "      <td>0.235</td>\n",
              "      <td>0.120</td>\n",
              "    </tr>\n",
              "    <tr>\n",
              "      <th>98</th>\n",
              "      <td>0.079</td>\n",
              "      <td>0.189</td>\n",
              "      <td>0.079</td>\n",
              "      <td>0.116</td>\n",
              "      <td>0.227</td>\n",
              "      <td>0.116</td>\n",
              "    </tr>\n",
              "    <tr>\n",
              "      <th>99</th>\n",
              "      <td>0.078</td>\n",
              "      <td>0.185</td>\n",
              "      <td>0.078</td>\n",
              "      <td>0.116</td>\n",
              "      <td>0.227</td>\n",
              "      <td>0.116</td>\n",
              "    </tr>\n",
              "  </tbody>\n",
              "</table>\n",
              "</div>"
            ],
            "text/plain": [
              "    loss  mean_absolute_error  mean_squared_error  val_loss  \\\n",
              "95 0.079                0.188               0.079     0.119   \n",
              "96 0.079                0.186               0.079     0.125   \n",
              "97 0.078                0.182               0.078     0.120   \n",
              "98 0.079                0.189               0.079     0.116   \n",
              "99 0.078                0.185               0.078     0.116   \n",
              "\n",
              "    val_mean_absolute_error  val_mean_squared_error  \n",
              "95                    0.234                   0.119  \n",
              "96                    0.246                   0.125  \n",
              "97                    0.235                   0.120  \n",
              "98                    0.227                   0.116  \n",
              "99                    0.227                   0.116  "
            ]
          },
          "metadata": {
            "tags": []
          }
        },
        {
          "output_type": "stream",
          "text": [
            "(Outer) Assessing performance on fold 4\n",
            "(Inner) Assessing hyperparameter performance on fold 1\n",
            "166/166 [==============================] - 1s 9ms/sample - loss: 4.8738 - mean_absolute_error: 2.1079 - mean_squared_error: 4.8738\n",
            "167/167 [==============================] - 1s 9ms/sample - loss: 7.8210 - mean_absolute_error: 2.7214 - mean_squared_error: 7.8210\n",
            "167/167 [==============================] - 1s 9ms/sample - loss: 5.5347 - mean_absolute_error: 2.2917 - mean_squared_error: 5.5347\n",
            "166/166 [==============================] - 2s 9ms/sample - loss: 5.3874 - mean_absolute_error: 2.2519 - mean_squared_error: 5.3874\n",
            "167/167 [==============================] - 2s 9ms/sample - loss: 5.1498 - mean_absolute_error: 2.1812 - mean_squared_error: 5.1498\n",
            "167/167 [==============================] - 2s 9ms/sample - loss: 4.0706 - mean_absolute_error: 1.9400 - mean_squared_error: 4.0706\n"
          ],
          "name": "stdout"
        },
        {
          "output_type": "stream",
          "text": [
            "/usr/local/lib/python3.6/dist-packages/sklearn/model_selection/_search.py:841: DeprecationWarning: The default of the `iid` parameter will change from True to False in version 0.22 and will be removed in 0.24. This will change numeric results when test-set sizes are unequal.\n",
            "  DeprecationWarning)\n"
          ],
          "name": "stderr"
        },
        {
          "output_type": "stream",
          "text": [
            "250/250 [==============================] - 2s 6ms/sample - loss: 4.5761 - mean_absolute_error: 2.0500 - mean_squared_error: 4.5761\n",
            "Best: -3.130206 using {'neurons': 64}\n",
            "-4.626580 (0.588257) with: {'neurons': 16}\n",
            "-3.130206 (0.643066) with: {'neurons': 64}\n",
            "(Inner) Assessing hyperparameter performance on fold 2\n",
            "166/166 [==============================] - 2s 9ms/sample - loss: 7.0059 - mean_absolute_error: 2.6004 - mean_squared_error: 7.0059\n",
            "167/167 [==============================] - 2s 9ms/sample - loss: 6.4022 - mean_absolute_error: 2.4437 - mean_squared_error: 6.4022\n",
            "167/167 [==============================] - 2s 9ms/sample - loss: 4.6992 - mean_absolute_error: 2.1030 - mean_squared_error: 4.6992\n",
            "166/166 [==============================] - 2s 9ms/sample - loss: 4.4877 - mean_absolute_error: 2.0527 - mean_squared_error: 4.4877\n",
            "167/167 [==============================] - 2s 9ms/sample - loss: 5.1579 - mean_absolute_error: 2.1786 - mean_squared_error: 5.1579\n",
            "167/167 [==============================] - 2s 9ms/sample - loss: 5.2497 - mean_absolute_error: 2.2486 - mean_squared_error: 5.2497\n"
          ],
          "name": "stdout"
        },
        {
          "output_type": "stream",
          "text": [
            "/usr/local/lib/python3.6/dist-packages/sklearn/model_selection/_search.py:841: DeprecationWarning: The default of the `iid` parameter will change from True to False in version 0.22 and will be removed in 0.24. This will change numeric results when test-set sizes are unequal.\n",
            "  DeprecationWarning)\n"
          ],
          "name": "stderr"
        },
        {
          "output_type": "stream",
          "text": [
            "250/250 [==============================] - 2s 6ms/sample - loss: 3.8564 - mean_absolute_error: 1.8556 - mean_squared_error: 3.8564\n",
            "Best: -3.061955 using {'neurons': 64}\n",
            "-4.804808 (1.280577) with: {'neurons': 16}\n",
            "-3.061955 (0.267611) with: {'neurons': 64}\n",
            "(Inner) Assessing hyperparameter performance on fold 3\n",
            "166/166 [==============================] - 2s 10ms/sample - loss: 7.0409 - mean_absolute_error: 2.6004 - mean_squared_error: 7.0409\n",
            "167/167 [==============================] - 2s 10ms/sample - loss: 6.3217 - mean_absolute_error: 2.4426 - mean_squared_error: 6.3217\n",
            "167/167 [==============================] - 2s 10ms/sample - loss: 5.3817 - mean_absolute_error: 2.2346 - mean_squared_error: 5.3817\n",
            "166/166 [==============================] - 2s 10ms/sample - loss: 3.9192 - mean_absolute_error: 1.8518 - mean_squared_error: 3.9192\n",
            "167/167 [==============================] - 2s 10ms/sample - loss: 4.0371 - mean_absolute_error: 1.8992 - mean_squared_error: 4.0371\n",
            "167/167 [==============================] - 2s 10ms/sample - loss: 3.4544 - mean_absolute_error: 1.7692 - mean_squared_error: 3.4544\n"
          ],
          "name": "stdout"
        },
        {
          "output_type": "stream",
          "text": [
            "/usr/local/lib/python3.6/dist-packages/sklearn/model_selection/_search.py:841: DeprecationWarning: The default of the `iid` parameter will change from True to False in version 0.22 and will be removed in 0.24. This will change numeric results when test-set sizes are unequal.\n",
            "  DeprecationWarning)\n"
          ],
          "name": "stderr"
        },
        {
          "output_type": "stream",
          "text": [
            "250/250 [==============================] - 2s 7ms/sample - loss: 3.9474 - mean_absolute_error: 1.8657 - mean_squared_error: 3.9474\n",
            "Best: -2.133408 using {'neurons': 64}\n",
            "-5.112575 (0.936510) with: {'neurons': 16}\n",
            "-2.133408 (0.481917) with: {'neurons': 64}\n",
            "(Inner) Assessing hyperparameter performance on fold 4\n",
            "167/167 [==============================] - 2s 11ms/sample - loss: 6.0170 - mean_absolute_error: 2.4014 - mean_squared_error: 6.0170\n",
            "167/167 [==============================] - 2s 10ms/sample - loss: 4.0903 - mean_absolute_error: 1.9058 - mean_squared_error: 4.0903\n",
            "168/168 [==============================] - 2s 10ms/sample - loss: 6.3595 - mean_absolute_error: 2.4718 - mean_squared_error: 6.3595\n",
            "167/167 [==============================] - 2s 10ms/sample - loss: 5.9433 - mean_absolute_error: 2.3656 - mean_squared_error: 5.9433\n",
            "167/167 [==============================] - 2s 10ms/sample - loss: 4.1372 - mean_absolute_error: 1.9296 - mean_squared_error: 4.1372\n",
            "168/168 [==============================] - 2s 11ms/sample - loss: 5.0027 - mean_absolute_error: 2.1881 - mean_squared_error: 5.0027\n"
          ],
          "name": "stdout"
        },
        {
          "output_type": "stream",
          "text": [
            "/usr/local/lib/python3.6/dist-packages/sklearn/model_selection/_search.py:841: DeprecationWarning: The default of the `iid` parameter will change from True to False in version 0.22 and will be removed in 0.24. This will change numeric results when test-set sizes are unequal.\n",
            "  DeprecationWarning)\n"
          ],
          "name": "stderr"
        },
        {
          "output_type": "stream",
          "text": [
            "251/251 [==============================] - 2s 7ms/sample - loss: 5.7565 - mean_absolute_error: 2.2917 - mean_squared_error: 5.7565\n",
            "Best: -3.364693 using {'neurons': 64}\n",
            "-4.640500 (0.854941) with: {'neurons': 16}\n",
            "-3.364693 (0.816609) with: {'neurons': 64}\n",
            "(Inner) Assessing hyperparameter performance on fold 5\n",
            "167/167 [==============================] - 2s 10ms/sample - loss: 6.0498 - mean_absolute_error: 2.3982 - mean_squared_error: 6.0498\n",
            "167/167 [==============================] - 2s 11ms/sample - loss: 7.4394 - mean_absolute_error: 2.6828 - mean_squared_error: 7.4394\n",
            "168/168 [==============================] - 2s 10ms/sample - loss: 5.5065 - mean_absolute_error: 2.2989 - mean_squared_error: 5.5065\n",
            "167/167 [==============================] - 2s 11ms/sample - loss: 4.0079 - mean_absolute_error: 1.8976 - mean_squared_error: 4.0079\n",
            "167/167 [==============================] - 2s 11ms/sample - loss: 4.4463 - mean_absolute_error: 2.0077 - mean_squared_error: 4.4463\n",
            "168/168 [==============================] - 2s 10ms/sample - loss: 5.9798 - mean_absolute_error: 2.3963 - mean_squared_error: 5.9798\n"
          ],
          "name": "stdout"
        },
        {
          "output_type": "stream",
          "text": [
            "/usr/local/lib/python3.6/dist-packages/sklearn/model_selection/_search.py:841: DeprecationWarning: The default of the `iid` parameter will change from True to False in version 0.22 and will be removed in 0.24. This will change numeric results when test-set sizes are unequal.\n",
            "  DeprecationWarning)\n"
          ],
          "name": "stderr"
        },
        {
          "output_type": "stream",
          "text": [
            "251/251 [==============================] - 2s 7ms/sample - loss: 4.4226 - mean_absolute_error: 1.9888 - mean_squared_error: 4.4226\n",
            "Best: -2.824739 using {'neurons': 64}\n",
            "-5.208573 (0.731259) with: {'neurons': 16}\n",
            "-2.824739 (0.188834) with: {'neurons': 64}\n"
          ],
          "name": "stdout"
        },
        {
          "output_type": "display_data",
          "data": {
            "text/html": [
              "<div>\n",
              "<style scoped>\n",
              "    .dataframe tbody tr th:only-of-type {\n",
              "        vertical-align: middle;\n",
              "    }\n",
              "\n",
              "    .dataframe tbody tr th {\n",
              "        vertical-align: top;\n",
              "    }\n",
              "\n",
              "    .dataframe thead th {\n",
              "        text-align: right;\n",
              "    }\n",
              "</style>\n",
              "<table border=\"1\" class=\"dataframe\">\n",
              "  <thead>\n",
              "    <tr style=\"text-align: right;\">\n",
              "      <th></th>\n",
              "      <th>loss</th>\n",
              "      <th>mean_absolute_error</th>\n",
              "      <th>mean_squared_error</th>\n",
              "      <th>val_loss</th>\n",
              "      <th>val_mean_absolute_error</th>\n",
              "      <th>val_mean_squared_error</th>\n",
              "    </tr>\n",
              "  </thead>\n",
              "  <tbody>\n",
              "    <tr>\n",
              "      <th>95</th>\n",
              "      <td>0.081</td>\n",
              "      <td>0.194</td>\n",
              "      <td>0.081</td>\n",
              "      <td>0.101</td>\n",
              "      <td>0.211</td>\n",
              "      <td>0.101</td>\n",
              "    </tr>\n",
              "    <tr>\n",
              "      <th>96</th>\n",
              "      <td>0.080</td>\n",
              "      <td>0.194</td>\n",
              "      <td>0.080</td>\n",
              "      <td>0.101</td>\n",
              "      <td>0.217</td>\n",
              "      <td>0.101</td>\n",
              "    </tr>\n",
              "    <tr>\n",
              "      <th>97</th>\n",
              "      <td>0.080</td>\n",
              "      <td>0.194</td>\n",
              "      <td>0.080</td>\n",
              "      <td>0.101</td>\n",
              "      <td>0.210</td>\n",
              "      <td>0.101</td>\n",
              "    </tr>\n",
              "    <tr>\n",
              "      <th>98</th>\n",
              "      <td>0.080</td>\n",
              "      <td>0.194</td>\n",
              "      <td>0.080</td>\n",
              "      <td>0.100</td>\n",
              "      <td>0.211</td>\n",
              "      <td>0.100</td>\n",
              "    </tr>\n",
              "    <tr>\n",
              "      <th>99</th>\n",
              "      <td>0.080</td>\n",
              "      <td>0.194</td>\n",
              "      <td>0.080</td>\n",
              "      <td>0.100</td>\n",
              "      <td>0.210</td>\n",
              "      <td>0.100</td>\n",
              "    </tr>\n",
              "  </tbody>\n",
              "</table>\n",
              "</div>"
            ],
            "text/plain": [
              "    loss  mean_absolute_error  mean_squared_error  val_loss  \\\n",
              "95 0.081                0.194               0.081     0.101   \n",
              "96 0.080                0.194               0.080     0.101   \n",
              "97 0.080                0.194               0.080     0.101   \n",
              "98 0.080                0.194               0.080     0.100   \n",
              "99 0.080                0.194               0.080     0.100   \n",
              "\n",
              "    val_mean_absolute_error  val_mean_squared_error  \n",
              "95                    0.211                   0.101  \n",
              "96                    0.217                   0.101  \n",
              "97                    0.210                   0.101  \n",
              "98                    0.211                   0.100  \n",
              "99                    0.210                   0.100  "
            ]
          },
          "metadata": {
            "tags": []
          }
        },
        {
          "output_type": "stream",
          "text": [
            "(Outer) Assessing performance on fold 5\n",
            "(Inner) Assessing hyperparameter performance on fold 1\n",
            "169/169 [==============================] - 2s 11ms/sample - loss: 5.4623 - mean_absolute_error: 2.2594 - mean_squared_error: 5.4623\n",
            "169/169 [==============================] - 2s 11ms/sample - loss: 7.8487 - mean_absolute_error: 2.7623 - mean_squared_error: 7.8487\n",
            "170/170 [==============================] - 2s 11ms/sample - loss: 7.1734 - mean_absolute_error: 2.6397 - mean_squared_error: 7.1734\n",
            "169/169 [==============================] - 2s 11ms/sample - loss: 4.4545 - mean_absolute_error: 2.0259 - mean_squared_error: 4.4545\n",
            "169/169 [==============================] - 2s 12ms/sample - loss: 5.4457 - mean_absolute_error: 2.2798 - mean_squared_error: 5.4457\n",
            "170/170 [==============================] - 2s 11ms/sample - loss: 3.5319 - mean_absolute_error: 1.7668 - mean_squared_error: 3.5319\n"
          ],
          "name": "stdout"
        },
        {
          "output_type": "stream",
          "text": [
            "/usr/local/lib/python3.6/dist-packages/sklearn/model_selection/_search.py:841: DeprecationWarning: The default of the `iid` parameter will change from True to False in version 0.22 and will be removed in 0.24. This will change numeric results when test-set sizes are unequal.\n",
            "  DeprecationWarning)\n"
          ],
          "name": "stderr"
        },
        {
          "output_type": "stream",
          "text": [
            "254/254 [==============================] - 2s 7ms/sample - loss: 3.4842 - mean_absolute_error: 1.7345 - mean_squared_error: 3.4842\n",
            "Best: -2.716081 using {'neurons': 64}\n",
            "-5.505947 (1.008215) with: {'neurons': 16}\n",
            "-2.716081 (0.706466) with: {'neurons': 64}\n",
            "(Inner) Assessing hyperparameter performance on fold 2\n",
            "169/169 [==============================] - 2s 11ms/sample - loss: 4.9381 - mean_absolute_error: 2.1799 - mean_squared_error: 4.9381\n",
            "169/169 [==============================] - 2s 11ms/sample - loss: 5.7681 - mean_absolute_error: 2.3194 - mean_squared_error: 5.7681\n",
            "170/170 [==============================] - 2s 11ms/sample - loss: 5.4584 - mean_absolute_error: 2.2788 - mean_squared_error: 5.4584\n",
            "169/169 [==============================] - 2s 11ms/sample - loss: 4.5622 - mean_absolute_error: 2.0289 - mean_squared_error: 4.5622\n",
            "169/169 [==============================] - 2s 11ms/sample - loss: 5.2044 - mean_absolute_error: 2.1986 - mean_squared_error: 5.2044\n",
            "170/170 [==============================] - 2s 11ms/sample - loss: 5.0593 - mean_absolute_error: 2.1738 - mean_squared_error: 5.0593\n"
          ],
          "name": "stdout"
        },
        {
          "output_type": "stream",
          "text": [
            "/usr/local/lib/python3.6/dist-packages/sklearn/model_selection/_search.py:841: DeprecationWarning: The default of the `iid` parameter will change from True to False in version 0.22 and will be removed in 0.24. This will change numeric results when test-set sizes are unequal.\n",
            "  DeprecationWarning)\n"
          ],
          "name": "stderr"
        },
        {
          "output_type": "stream",
          "text": [
            "254/254 [==============================] - 2s 8ms/sample - loss: 5.6618 - mean_absolute_error: 2.2760 - mean_squared_error: 5.6618\n",
            "Best: -3.026513 using {'neurons': 64}\n",
            "-4.014593 (0.340677) with: {'neurons': 16}\n",
            "-3.026513 (0.280960) with: {'neurons': 64}\n",
            "(Inner) Assessing hyperparameter performance on fold 3\n",
            "169/169 [==============================] - 2s 12ms/sample - loss: 6.3033 - mean_absolute_error: 2.4597 - mean_squared_error: 6.3033\n",
            "169/169 [==============================] - 2s 12ms/sample - loss: 7.5309 - mean_absolute_error: 2.6928 - mean_squared_error: 7.5309\n",
            "170/170 [==============================] - 2s 11ms/sample - loss: 5.4915 - mean_absolute_error: 2.2819 - mean_squared_error: 5.4915\n",
            "169/169 [==============================] - 2s 12ms/sample - loss: 3.9211 - mean_absolute_error: 1.8791 - mean_squared_error: 3.9211\n",
            "169/169 [==============================] - 2s 11ms/sample - loss: 3.6443 - mean_absolute_error: 1.7937 - mean_squared_error: 3.6443\n",
            "170/170 [==============================] - 2s 12ms/sample - loss: 4.2406 - mean_absolute_error: 1.9906 - mean_squared_error: 4.2406\n"
          ],
          "name": "stdout"
        },
        {
          "output_type": "stream",
          "text": [
            "/usr/local/lib/python3.6/dist-packages/sklearn/model_selection/_search.py:841: DeprecationWarning: The default of the `iid` parameter will change from True to False in version 0.22 and will be removed in 0.24. This will change numeric results when test-set sizes are unequal.\n",
            "  DeprecationWarning)\n"
          ],
          "name": "stderr"
        },
        {
          "output_type": "stream",
          "text": [
            "254/254 [==============================] - 2s 8ms/sample - loss: 5.7678 - mean_absolute_error: 2.2615 - mean_squared_error: 5.7678\n",
            "Best: -2.017688 using {'neurons': 64}\n",
            "-5.377189 (0.849823) with: {'neurons': 16}\n",
            "-2.017688 (0.216518) with: {'neurons': 64}\n",
            "(Inner) Assessing hyperparameter performance on fold 4\n",
            "170/170 [==============================] - 2s 12ms/sample - loss: 4.5478 - mean_absolute_error: 2.0624 - mean_squared_error: 4.5478\n",
            "170/170 [==============================] - 2s 12ms/sample - loss: 4.1739 - mean_absolute_error: 1.9780 - mean_squared_error: 4.1739\n",
            "170/170 [==============================] - 2s 12ms/sample - loss: 7.5139 - mean_absolute_error: 2.7040 - mean_squared_error: 7.5139\n",
            "170/170 [==============================] - 2s 12ms/sample - loss: 4.7394 - mean_absolute_error: 2.0833 - mean_squared_error: 4.7394\n",
            "170/170 [==============================] - 2s 12ms/sample - loss: 5.0774 - mean_absolute_error: 2.1743 - mean_squared_error: 5.0774\n",
            "170/170 [==============================] - 2s 12ms/sample - loss: 6.4697 - mean_absolute_error: 2.5000 - mean_squared_error: 6.4697\n",
            "255/255 [==============================] - 2s 8ms/sample - loss: 3.7050 - mean_absolute_error: 1.8376 - mean_squared_error: 3.7050\n",
            "Best: -3.431604 using {'neurons': 64}\n",
            "-4.368450 (1.136877) with: {'neurons': 16}\n",
            "-3.431604 (0.376224) with: {'neurons': 64}\n",
            "(Inner) Assessing hyperparameter performance on fold 5\n",
            "170/170 [==============================] - 2s 12ms/sample - loss: 7.1424 - mean_absolute_error: 2.6206 - mean_squared_error: 7.1424\n",
            "170/170 [==============================] - 2s 12ms/sample - loss: 5.9159 - mean_absolute_error: 2.3706 - mean_squared_error: 5.9159\n",
            "170/170 [==============================] - 2s 12ms/sample - loss: 6.3122 - mean_absolute_error: 2.4663 - mean_squared_error: 6.3122\n",
            "170/170 [==============================] - 2s 12ms/sample - loss: 7.8884 - mean_absolute_error: 2.7506 - mean_squared_error: 7.8884\n",
            "170/170 [==============================] - 2s 12ms/sample - loss: 4.3033 - mean_absolute_error: 1.9669 - mean_squared_error: 4.3033\n",
            "170/170 [==============================] - 2s 12ms/sample - loss: 5.0266 - mean_absolute_error: 2.1587 - mean_squared_error: 5.0266\n",
            "255/255 [==============================] - 2s 8ms/sample - loss: 5.5753 - mean_absolute_error: 2.2654 - mean_squared_error: 5.5753\n",
            "Best: -3.769269 using {'neurons': 64}\n",
            "-5.231784 (0.657668) with: {'neurons': 16}\n",
            "-3.769269 (1.585014) with: {'neurons': 64}\n"
          ],
          "name": "stdout"
        },
        {
          "output_type": "display_data",
          "data": {
            "text/html": [
              "<div>\n",
              "<style scoped>\n",
              "    .dataframe tbody tr th:only-of-type {\n",
              "        vertical-align: middle;\n",
              "    }\n",
              "\n",
              "    .dataframe tbody tr th {\n",
              "        vertical-align: top;\n",
              "    }\n",
              "\n",
              "    .dataframe thead th {\n",
              "        text-align: right;\n",
              "    }\n",
              "</style>\n",
              "<table border=\"1\" class=\"dataframe\">\n",
              "  <thead>\n",
              "    <tr style=\"text-align: right;\">\n",
              "      <th></th>\n",
              "      <th>loss</th>\n",
              "      <th>mean_absolute_error</th>\n",
              "      <th>mean_squared_error</th>\n",
              "      <th>val_loss</th>\n",
              "      <th>val_mean_absolute_error</th>\n",
              "      <th>val_mean_squared_error</th>\n",
              "    </tr>\n",
              "  </thead>\n",
              "  <tbody>\n",
              "    <tr>\n",
              "      <th>95</th>\n",
              "      <td>0.105</td>\n",
              "      <td>0.222</td>\n",
              "      <td>0.105</td>\n",
              "      <td>0.087</td>\n",
              "      <td>0.218</td>\n",
              "      <td>0.087</td>\n",
              "    </tr>\n",
              "    <tr>\n",
              "      <th>96</th>\n",
              "      <td>0.104</td>\n",
              "      <td>0.222</td>\n",
              "      <td>0.104</td>\n",
              "      <td>0.087</td>\n",
              "      <td>0.219</td>\n",
              "      <td>0.087</td>\n",
              "    </tr>\n",
              "    <tr>\n",
              "      <th>97</th>\n",
              "      <td>0.103</td>\n",
              "      <td>0.218</td>\n",
              "      <td>0.103</td>\n",
              "      <td>0.086</td>\n",
              "      <td>0.217</td>\n",
              "      <td>0.086</td>\n",
              "    </tr>\n",
              "    <tr>\n",
              "      <th>98</th>\n",
              "      <td>0.102</td>\n",
              "      <td>0.216</td>\n",
              "      <td>0.102</td>\n",
              "      <td>0.087</td>\n",
              "      <td>0.219</td>\n",
              "      <td>0.087</td>\n",
              "    </tr>\n",
              "    <tr>\n",
              "      <th>99</th>\n",
              "      <td>0.102</td>\n",
              "      <td>0.218</td>\n",
              "      <td>0.102</td>\n",
              "      <td>0.086</td>\n",
              "      <td>0.217</td>\n",
              "      <td>0.086</td>\n",
              "    </tr>\n",
              "  </tbody>\n",
              "</table>\n",
              "</div>"
            ],
            "text/plain": [
              "    loss  mean_absolute_error  mean_squared_error  val_loss  \\\n",
              "95 0.105                0.222               0.105     0.087   \n",
              "96 0.104                0.222               0.104     0.087   \n",
              "97 0.103                0.218               0.103     0.086   \n",
              "98 0.102                0.216               0.102     0.087   \n",
              "99 0.102                0.218               0.102     0.086   \n",
              "\n",
              "    val_mean_absolute_error  val_mean_squared_error  \n",
              "95                    0.218                   0.087  \n",
              "96                    0.219                   0.087  \n",
              "97                    0.217                   0.086  \n",
              "98                    0.219                   0.087  \n",
              "99                    0.217                   0.086  "
            ]
          },
          "metadata": {
            "tags": []
          }
        }
      ]
    },
    {
      "metadata": {
        "id": "SEdPqiD-krvg",
        "colab_type": "text"
      },
      "cell_type": "markdown",
      "source": [
        "# **Old, working standalone cross validation**"
      ]
    },
    {
      "metadata": {
        "id": "Ea4ZMu1QkO_o",
        "colab_type": "code",
        "colab": {}
      },
      "cell_type": "code",
      "source": [
        "def build_model(train_df):\n",
        "  model = keras.Sequential([\n",
        "      layers.Dense(100, kernel_regularizer=keras.regularizers.l1(0.001), activation=tf.nn.relu, input_shape=[len(train_df.columns)]),\n",
        "      layers.Dropout(0.5),\n",
        "      layers.Dense(100, kernel_regularizer=keras.regularizers.l1(0.001), activation=tf.nn.relu),\n",
        "      layers.Dropout(0.5),\n",
        "      layers.Dense(100, kernel_regularizer=keras.regularizers.l1(0.001), activation=tf.nn.relu),\n",
        "      layers.Dense(1)\n",
        "  ])\n",
        "  \n",
        "  optimizer = tf.keras.optimizers.RMSprop(0.001)\n",
        "  \n",
        "  model.compile(loss='mse',\n",
        "               optimizer=optimizer,\n",
        "               metrics=['mae', 'mse'])\n",
        "  return model\n",
        "\n",
        "# Train and evaluate the model\n",
        "def train_model(model, x_train, y_train, x_test, y_test, early_stop):\n",
        "  if(early_stop):\n",
        "    hist = model.fit(\n",
        "        x = x_train, \n",
        "        y = y_train,\n",
        "        epochs = EPOCHS,\n",
        "        verbose=1,\n",
        "        callbacks = [early_stop_call],\n",
        "        validation_data = (x_test, y_test)\n",
        "    )\n",
        "  else:\n",
        "    hist = model.fit(\n",
        "        x = x_train, \n",
        "        y = y_train,\n",
        "        epochs = EPOCHS,\n",
        "        validation_data = (x_test, y_test)\n",
        "    )\n",
        "  return hist\n",
        "  \n",
        "# Stop training with no improvement\n",
        "early_stop_call = keras.callbacks.EarlyStopping(monitor='val_loss', patience=10)\n",
        "EPOCHS = 1000\n",
        "end_fold_error = pd.DataFrame(columns=['loss', 'MAE', 'MSE', 'test_loss', 'test_MAE', 'test_MSE'])\n",
        "  \n",
        "# Create cross validator\n",
        "kf = KFold(n_splits=10, shuffle=True, random_state=4)\n",
        "\n",
        "# Loop through the k folds for cross validation\n",
        "for i, (train_index, test_index) in enumerate(kf.split(train_dataframe), 1):\n",
        "  print(\"Training on fold \" + str(i))\n",
        "  \n",
        "  #feature_train, feature_test = feature_data.iloc[train_index].copy(), feature_data.iloc[test_index].copy()\n",
        "  #label_train, label_test = label_data.iloc[train_index], label_data.iloc[test_index]\n",
        "  \n",
        "  feature_train, label_train = process_data(train_dataframe.iloc[train_index].copy())\n",
        "  feature_test, label_test = process_data(train_dataframe.iloc[test_index].copy())\n",
        "  \n",
        "  model = None\n",
        "  model = build_model(feature_train)\n",
        "  \n",
        "  history = train_model(model, feature_train, label_train, feature_test, label_test, early_stop=True)\n",
        "  mse_history = history.history['mean_squared_error']\n",
        "  val_mse_history = history.history['val_mean_squared_error']\n",
        "  end_fold_error = end_fold_error.append(\n",
        "      pd.Series([history.history['loss'][-1],\n",
        "                 history.history['mean_absolute_error'][-1],\n",
        "                 mse_history[-1], \n",
        "                 history.history['val_loss'][-1],\n",
        "                 history.history['val_mean_absolute_error'][-1],\n",
        "                 val_mse_history[-1]], \n",
        "                index=end_fold_error.columns), ignore_index=True)\n",
        "  print(\"Last training error: \" + str(mse_history[-1]))\n",
        "  print(\"Last validation error: \" + str(val_mse_history[-1]))"
      ],
      "execution_count": 0,
      "outputs": []
    },
    {
      "metadata": {
        "id": "cQKnXcfq5O87",
        "colab_type": "text"
      },
      "cell_type": "markdown",
      "source": [
        "# **Generate final model with optimal hyperparameters and evaluate performance**"
      ]
    },
    {
      "metadata": {
        "id": "ccPjg5Hvxh08",
        "colab_type": "code",
        "colab": {}
      },
      "cell_type": "code",
      "source": [
        "end_fold_error = pd.DataFrame()\n",
        "\n",
        "# Loop through the k folds for cross validation\n",
        "for i, (train_index, test_index) in enumerate(kf.split(train_dataframe), 1):\n",
        "  print(\"Training on fold \" + str(i))\n",
        "  \n",
        "  feature_train, label_train = process_data(train_dataframe.iloc[train_index].copy())\n",
        "  feature_test, label_test = process_data(train_dataframe.iloc[test_index].copy())\n",
        "  \n",
        "  model = None\n",
        "  model = build_model()\n",
        "  \n",
        "  history = train_model(model, feature_train, label_train, feature_test, label_test)\n",
        "  mse_history = history.history['mean_squared_error']\n",
        "  val_mse_history = history.history['val_mean_squared_error']\n",
        "  end_fold_error = end_fold_error.append(\n",
        "      pd.Series([history.history['loss'][-1],\n",
        "                 history.history['mean_absolute_error'][-1],\n",
        "                 mse_history[-1], \n",
        "                 history.history['val_loss'][-1],\n",
        "                 history.history['val_mean_absolute_error'][-1],\n",
        "                 val_mse_history[-1]]\n",
        "                ), ignore_index=True)\n",
        "  print(\"Last training error: \" + str(mse_history[-1]))\n",
        "  print(\"Last validation error: \" + str(val_mse_history[-1]))\n",
        "\n",
        "#hist = pd.DataFrame(history.history)\n",
        "#hist['epoch'] = history.epoch\n",
        "#hist.tail()"
      ],
      "execution_count": 0,
      "outputs": []
    },
    {
      "metadata": {
        "id": "Bd3KBpmN3HwV",
        "colab_type": "text"
      },
      "cell_type": "markdown",
      "source": [
        "**View error trends**"
      ]
    },
    {
      "metadata": {
        "id": "_KoVE-9y3HbY",
        "colab_type": "code",
        "outputId": "851df6f6-c1d6-4973-c88a-97cfc1ba0fce",
        "colab": {
          "base_uri": "https://localhost:8080/",
          "height": 705
        }
      },
      "cell_type": "code",
      "source": [
        "def plot_history(history):\n",
        "  hist = pd.DataFrame(history.history)\n",
        "  hist['epoch'] = history.epoch\n",
        "  \n",
        "  plt.figure()\n",
        "  plt.xlabel('Epoch')\n",
        "  plt.ylabel('Mean Abs Error')\n",
        "  plt.plot(hist['epoch'], hist['mean_absolute_error'],\n",
        "           label='Train Error')\n",
        "  plt.plot(hist['epoch'], hist['val_mean_absolute_error'],\n",
        "           label = 'Val Error')\n",
        "  plt.legend()\n",
        "  #plt.ylim([0,3])\n",
        "  \n",
        "  plt.figure()\n",
        "  plt.xlabel('Epoch')\n",
        "  plt.ylabel('Mean Square Error')\n",
        "  plt.plot(hist['epoch'], hist['mean_squared_error'],\n",
        "           label='Train Error')\n",
        "  plt.plot(hist['epoch'], hist['val_mean_squared_error'],\n",
        "           label = 'Val Error')\n",
        "  plt.legend()\n",
        "  #plt.ylim([0,5])\n",
        "\n",
        "plot_history(history)"
      ],
      "execution_count": 0,
      "outputs": [
        {
          "output_type": "display_data",
          "data": {
            "image/png": "[encoded data removed]",
            "text/plain": [
              "<Figure size 576x396 with 1 Axes>"
            ]
          },
          "metadata": {
            "tags": []
          }
        },
        {
          "output_type": "display_data",
          "data": {
            "image/png": "[encoded data removed]",
            "text/plain": [
              "<Figure size 576x396 with 1 Axes>"
            ]
          },
          "metadata": {
            "tags": []
          }
        }
      ]
    },
    {
      "metadata": {
        "id": "bk13vUm863O3",
        "colab_type": "text"
      },
      "cell_type": "markdown",
      "source": [
        "**Assess model performance on test data**"
      ]
    },
    {
      "metadata": {
        "id": "dyieaFiH65NZ",
        "colab_type": "code",
        "outputId": "8541f7d3-4f91-45b1-f321-0bf86bf8211e",
        "colab": {
          "base_uri": "https://localhost:8080/",
          "height": 68
        }
      },
      "cell_type": "code",
      "source": [
        "test_features, test_label = process_data(test_dataframe)\n",
        "loss, mae, mse = model.evaluate(test_features, test_label, verbose=0)\n",
        "\n",
        "print(\"Testing set Loss: {:5.2f}\".format(loss))\n",
        "print(\"Testing set Mean Abs Error: {:5.2f}\".format(mae))\n",
        "print(\"Testing set Mean Squared Error: {:5.2f}\".format(mse))"
      ],
      "execution_count": 0,
      "outputs": [
        {
          "output_type": "stream",
          "text": [
            "Testing set Loss:  0.34\n",
            "Testing set Mean Abs Error:  0.23\n",
            "Testing set Mean Squared Error:  0.28\n"
          ],
          "name": "stdout"
        }
      ]
    },
    {
      "metadata": {
        "id": "ZRcQrqi17c3-",
        "colab_type": "code",
        "outputId": "d827aa73-6fd0-4610-8179-f54291db9800",
        "colab": {
          "base_uri": "https://localhost:8080/",
          "height": 378
        }
      },
      "cell_type": "code",
      "source": [
        "test_predictions = model.predict(test_features).flatten()\n",
        "\n",
        "plt.scatter(test_label, test_predictions)\n",
        "plt.xlabel('True Values [delta_6mwt]')\n",
        "plt.ylabel('Predictions [delta_6mwt]')\n",
        "plt.axis('equal')\n",
        "plt.axis('square')\n",
        "plt.xlim([0,plt.xlim()[1]])\n",
        "plt.ylim([0,plt.ylim()[1]])\n",
        "#_ = plt.plot([-100, 100], [-100, 100])"
      ],
      "execution_count": 0,
      "outputs": [
        {
          "output_type": "execute_result",
          "data": {
            "text/plain": [
              "(0, 1182.5841960545788)"
            ]
          },
          "metadata": {
            "tags": []
          },
          "execution_count": 52
        },
        {
          "output_type": "display_data",
          "data": {
            "image/png": "[encoded data removed]",
            "text/plain": [
              "<Figure size 576x396 with 1 Axes>"
            ]
          },
          "metadata": {
            "tags": []
          }
        }
      ]
    },
    {
      "metadata": {
        "id": "eWeDoxc17oEM",
        "colab_type": "code",
        "outputId": "1e8cad06-92b6-4c69-c18e-45f83204c77c",
        "colab": {
          "base_uri": "https://localhost:8080/",
          "height": 361
        }
      },
      "cell_type": "code",
      "source": [
        "error = test_predictions - test_labels\n",
        "plt.hist(error, bins = 25)\n",
        "plt.xlabel('Prediction Error ['+target_feature[0]+']')\n",
        "_ = plt.ylabel('Count')"
      ],
      "execution_count": 0,
      "outputs": [
        {
          "output_type": "display_data",
          "data": {
            "image/png": "[encoded data removed]",
            "text/plain": [
              "<Figure size 576x396 with 1 Axes>"
            ]
          },
          "metadata": {
            "tags": []
          }
        }
      ]
    }
  ]
}